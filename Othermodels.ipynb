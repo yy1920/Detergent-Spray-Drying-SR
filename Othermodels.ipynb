{
 "cells": [
  {
   "cell_type": "code",
   "execution_count": 35,
   "metadata": {
    "collapsed": true
   },
   "outputs": [],
   "source": [
    "from sklearn.datasets import load_diabetes\n",
    "from sklearn.linear_model import RidgeCV\n",
    "from sklearn.svm import LinearSVR\n",
    "from sklearn.ensemble import RandomForestRegressor,AdaBoostRegressor, StackingRegressor, BaggingRegressor, ExtraTreesRegressor\n",
    "from sklearn.neighbors import KNeighborsRegressor\n",
    "from sklearn.model_selection import train_test_split\n",
    "import pandas as pd\n",
    "from calc_metrics import calc_metrics\n",
    "import xgboost as xgb\n"
   ]
  },
  {
   "cell_type": "code",
   "execution_count": 56,
   "outputs": [
    {
     "name": "stdout",
     "output_type": "stream",
     "text": [
      "Interpolation error:  (13.455162676837562, 0.6919903727206974, 0.7780250351538497)\n",
      "Extrapolation error:  (12.240561144113999, 0.4369813166796351, 0.814940097023157)\n"
     ]
    }
   ],
   "source": [
    "#X, y = load_diabetes(return_X_y=True)\n",
    "train_data = pd.read_csv(\"Test_Data/pg_data/pg_train.txt\",sep=\" \",header=None).to_numpy()\n",
    "num_train = int(train_data.shape[0]*0.8)\n",
    "X_train = train_data[:num_train,:-1]\n",
    "X_test = train_data[num_train:,:-1]\n",
    "y_train = train_data[:num_train,-1]\n",
    "y_test = train_data[num_train:,-1]\n",
    "\n",
    "extrap_data = pd.read_csv(\"Test_Data/pg_data/pg_extrap.txt\",sep=\" \",header=None).to_numpy()\n",
    "X_extrap = extrap_data[:,:-1]\n",
    "y_extrap = extrap_data[:,-1]\n",
    "estimators = [\n",
    "    #('lr', RidgeCV()),\n",
    "     #('svr', LinearSVR(random_state=42)),\n",
    "    #('bgKnn',BaggingRegressor(KNeighborsRegressor())),\n",
    "    ('xgb', xgb.XGBRegressor()),\n",
    "    #('ada', AdaBoostRegressor(n_estimators=100)),\n",
    "    ('ext',ExtraTreesRegressor(n_estimators=100, max_depth=None,min_samples_split=2, random_state=0))]\n",
    "reg = StackingRegressor(\n",
    "    estimators=estimators,\n",
    "    final_estimator=RandomForestRegressor(n_estimators=10,\n",
    "                                           random_state=42))\n",
    "reg.fit(X_train, y_train)\n",
    "print(\"Interpolation error: \",calc_metrics(y_test, reg.predict(X_test)))\n",
    "print(\"Extrapolation error: \", calc_metrics(y_extrap, reg.predict(X_extrap)))"
   ],
   "metadata": {
    "collapsed": false,
    "pycharm": {
     "name": "#%%\n"
    }
   }
  },
  {
   "cell_type": "code",
   "execution_count": 57,
   "outputs": [
    {
     "data": {
      "text/plain": "(81, 54)"
     },
     "execution_count": 57,
     "metadata": {},
     "output_type": "execute_result"
    }
   ],
   "source": [
    "dimless7 = pd.read_csv(\"Test_Data/pg_data/pg_train_dimless_set_7.txt\", header = None, sep=\" \")\n",
    "dimless7.shape"
   ],
   "metadata": {
    "collapsed": false,
    "pycharm": {
     "name": "#%%\n"
    }
   }
  }
 ],
 "metadata": {
  "kernelspec": {
   "display_name": "Python 3",
   "language": "python",
   "name": "python3"
  },
  "language_info": {
   "codemirror_mode": {
    "name": "ipython",
    "version": 2
   },
   "file_extension": ".py",
   "mimetype": "text/x-python",
   "name": "python",
   "nbconvert_exporter": "python",
   "pygments_lexer": "ipython2",
   "version": "2.7.6"
  }
 },
 "nbformat": 4,
 "nbformat_minor": 0
}