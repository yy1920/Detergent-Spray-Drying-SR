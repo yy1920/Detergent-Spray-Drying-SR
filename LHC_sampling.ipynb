{
 "cells": [
  {
   "cell_type": "code",
   "execution_count": 1,
   "metadata": {
    "collapsed": true
   },
   "outputs": [],
   "source": [
    "from scipy.stats.qmc import LatinHypercube\n",
    "import numpy as np\n",
    "import pandas as pd\n",
    "import matplotlib.pyplot as plt\n",
    "from sympy import parse_expr,symbols, lambdify"
   ]
  },
  {
   "cell_type": "markdown",
   "source": [
    "Create Latin Hypercube sampler instance"
   ],
   "metadata": {
    "collapsed": false
   }
  },
  {
   "cell_type": "code",
   "execution_count": 9,
   "outputs": [],
   "source": [
    "num_layers = 5 # number of layers in the onion model\n",
    "layers = [] # list containing samples for each layers\n",
    "layer_size = (1-0.5)/num_layers # size of each layer\n",
    "#cng = layer_size\n",
    "#llower_bound = 0 # lower bound for layer\n",
    "#ulower_bound = 0.5 # upper bound for layer\n",
    "num_vars = 7\n",
    "sample_space = LatinHypercube(d=num_vars, seed=0)\n",
    "\n",
    "sample_sizes = [50,25,25,25,25]*2 # half the sample size of each layer\n",
    "lower_bounds = [0,0,1,2,3]\n",
    "for i in range(1,num_layers+1):\n",
    "    #llower_bound -= cng\n",
    "    array = np.zeros((sample_sizes[i-1],num_vars+1))\n",
    "    array[:, :-1] = (sample_space.random(n=sample_sizes[i-1]))+lower_bounds[i-1]\n",
    "    #array[sample_sizes[i-1]:, :-1] = (sample_space.random(n=sample_sizes[i-1]))*cng+ulower_bound\n",
    "    layers.append(array)\n",
    "    #llower_bound+=1\n",
    "    #ulower_bound += cng\n",
    "    #for j in range(num_vars):\n",
    "\n",
    "        #layers[i-1] = layers[i-1][((layers[i-1][j] >=lower_bound) & (layers[i-1][j] < (lower_bound+cng))) | ((layers[i-1][j] >=(upper_bound-cng)) & (layers[i-1][j] < (upper_bound)))]\n"
   ],
   "metadata": {
    "collapsed": false,
    "pycharm": {
     "name": "#%%\n"
    }
   }
  },
  {
   "cell_type": "code",
   "execution_count": 15,
   "outputs": [
    {
     "name": "stdout",
     "output_type": "stream",
     "text": [
      "[0.9975461867964784, 0.9945339196845336, 1.9893440362506682, 2.999409199803222, 3.9991381002153057]\n"
     ]
    }
   ],
   "source": [
    "print([np.max(x)-np.min(x) for x in layers])"
   ],
   "metadata": {
    "collapsed": false,
    "pycharm": {
     "name": "#%%\n"
    }
   }
  },
  {
   "cell_type": "code",
   "execution_count": 20,
   "outputs": [
    {
     "data": {
      "text/plain": "array([[2.56553775, 2.86425584, 2.84651534, 2.56750664, 2.23525508,\n        2.65324648, 2.727049  ],\n       [2.76651824, 2.22327379, 2.35137932, 2.51316833, 2.72589671,\n        2.74665908, 2.24776729],\n       [2.73567063, 2.83130859, 2.98321223, 2.00772995, 2.96519514,\n        2.90588937, 2.28878109],\n       [2.31770992, 2.57884937, 2.67446367, 2.40150171, 2.01206519,\n        2.70582017, 2.88154448],\n       [2.07599228, 2.30203314, 2.42765734, 2.04030276, 2.5564614 ,\n        2.01889613, 2.47108661],\n       [2.09218116, 2.18117428, 2.12588253, 2.93135521, 2.28954862,\n        2.26741139, 2.07374736],\n       [2.34454735, 2.63850228, 2.23026084, 2.09542845, 2.15192737,\n        2.15845349, 2.81746502],\n       [2.64877967, 2.51243413, 2.88307456, 2.46633079, 2.89878549,\n        2.9346807 , 2.17806349],\n       [2.97669742, 2.39586164, 2.61998875, 2.89000651, 2.51434118,\n        2.40285092, 2.11746221],\n       [2.12880032, 2.06452176, 2.58825421, 2.28601849, 2.36716398,\n        2.33571902, 2.50475114],\n       [2.36841583, 2.95397257, 2.30400096, 2.62314909, 2.19363922,\n        2.22387024, 2.58529441],\n       [2.83426449, 2.71406889, 2.04137927, 2.83724973, 2.95504482,\n        2.52132874, 2.64198693],\n       [2.70658362, 2.79588842, 2.93565359, 2.18247611, 2.32191772,\n        2.83486659, 2.60887133],\n       [2.47900662, 2.75169388, 2.38797885, 2.39342291, 2.76820118,\n        2.87305647, 2.38157015],\n       [2.91482632, 2.08895938, 2.77314915, 2.3580399 , 2.11281405,\n        2.45501048, 2.70309975],\n       [2.94791553, 2.9748138 , 2.16462885, 2.26121709, 2.83107016,\n        2.29864315, 2.41615277],\n       [2.43161696, 2.01071412, 2.01830699, 2.73373031, 2.62187725,\n        2.98245251, 2.79159458],\n       [2.00433517, 2.67210572, 2.11002519, 2.54545819, 2.56107788,\n        2.77792472, 2.15415334],\n       [2.16641872, 2.26838636, 2.55916206, 2.97070867, 2.6415334 ,\n        2.08420727, 2.23849172],\n       [2.62152435, 2.47236489, 2.26786776, 2.67250835, 2.44863832,\n        2.50879055, 2.00136546],\n       [2.25900311, 2.53711717, 2.48848642, 2.69277337, 2.04550889,\n        2.39490655, 2.86017759],\n       [2.21810091, 2.43563431, 2.6906952 , 2.14184032, 2.41519388,\n        2.56546522, 2.93166261],\n       [2.52915465, 2.90828736, 2.74210941, 2.8430719 , 2.7044392 ,\n        2.62115238, 2.99479677],\n       [2.49323563, 2.15095009, 2.47341905, 2.2052218 , 2.87292382,\n        2.17643039, 2.54935318],\n       [2.86064362, 2.3233045 , 2.80903722, 2.76928971, 2.27629736,\n        2.07571893, 2.32916593]])"
     },
     "execution_count": 20,
     "metadata": {},
     "output_type": "execute_result"
    }
   ],
   "source": [
    "sample_space.random(n=sample_sizes[3])+lower_bounds[3]"
   ],
   "metadata": {
    "collapsed": false,
    "pycharm": {
     "name": "#%%\n"
    }
   }
  },
  {
   "cell_type": "code",
   "execution_count": 72,
   "outputs": [
    {
     "name": "stdout",
     "output_type": "stream",
     "text": [
      "(50, 8)\n"
     ]
    }
   ],
   "source": [
    "print(layers[4].shape)"
   ],
   "metadata": {
    "collapsed": false,
    "pycharm": {
     "name": "#%%print(sample[sample[i] >=0.5])layers\n"
    }
   }
  },
  {
   "cell_type": "code",
   "execution_count": 21,
   "outputs": [
    {
     "data": {
      "text/plain": "[<matplotlib.lines.Line2D at 0x136a657d0>,\n <matplotlib.lines.Line2D at 0x135495490>,\n <matplotlib.lines.Line2D at 0x136a6b2d0>,\n <matplotlib.lines.Line2D at 0x1359950d0>,\n <matplotlib.lines.Line2D at 0x136a32810>,\n <matplotlib.lines.Line2D at 0x136a6e510>,\n <matplotlib.lines.Line2D at 0x136a6e990>,\n <matplotlib.lines.Line2D at 0x1369dfa90>]"
     },
     "execution_count": 21,
     "metadata": {},
     "output_type": "execute_result"
    },
    {
     "data": {
      "text/plain": "<Figure size 640x480 with 1 Axes>",
      "image/png": "[encoded data removed]"
     },
     "metadata": {},
     "output_type": "display_data"
    }
   ],
   "source": [
    "plt.plot(layers[4], layers[4], 'ro')"
   ],
   "metadata": {
    "collapsed": false,
    "pycharm": {
     "name": "#%%\n"
    }
   }
  },
  {
   "cell_type": "markdown",
   "source": [
    "Column titles as follows:\n",
    "d_0 U_r P_A ALR u_l sigma rho_l\n",
    "Target: SMD"
   ],
   "metadata": {
    "collapsed": false
   }
  },
  {
   "cell_type": "markdown",
   "source": [
    "Chem eng formula in sympy"
   ],
   "metadata": {
    "collapsed": false
   }
  },
  {
   "cell_type": "code",
   "execution_count": 22,
   "outputs": [],
   "source": [
    "expr = parse_expr(\"d*0.48*(s/(ra*ur**2*d)**(0.4))*(1+1/A)**(0.4)+d*0.15*(ul**2/(s*rl*d))**0.5*(1+1/A)\")\n",
    "syms = symbols('d, ur, ra, A, ul, s, rl')\n",
    "lamda_expr = np.vectorize(lambdify(syms, expr, modules=[\"scipy\", \"numpy\"]))\n",
    "for i in range(len(layers)):\n",
    "    layers[i][:,-1] = lamda_expr(*(layers[i][:,:-1].T.tolist()))\n",
    "    tmax = np.max(layers[i][:,-1])\n",
    "    tmin = np.min(layers[i][:,-1])\n",
    "    layers[i][:,-1] = (layers[i][:,-1]-tmin)/(tmax-tmin)"
   ],
   "metadata": {
    "collapsed": false,
    "pycharm": {
     "name": "#%%\n"
    }
   }
  },
  {
   "cell_type": "code",
   "execution_count": 23,
   "outputs": [
    {
     "name": "stdout",
     "output_type": "stream",
     "text": [
      "[array([[3.47260766e-01, 7.14604266e-01, 5.39180530e-01, 8.99669447e-01,\n",
      "        8.37345952e-02, 2.01744888e-01, 5.47867284e-01, 1.75383667e-03],\n",
      "       [4.85410069e-01, 9.09127500e-01, 5.81298552e-01, 5.23682929e-01,\n",
      "        1.79945230e-01, 2.28519145e-02, 6.39328288e-01, 1.22695466e-02],\n",
      "       [2.05406891e-01, 5.36486888e-01, 2.62736422e-01, 6.89170776e-01,\n",
      "        2.14005762e-01, 3.71546256e-01, 1.59433607e-01, 1.07706464e-02],\n",
      "       [3.77514334e-01, 4.46587512e-01, 6.67056210e-01, 7.87692298e-01,\n",
      "        7.32326449e-01, 8.00558013e-02, 4.40383293e-01, 2.66146273e-02],\n",
      "       [2.66289160e-01, 2.86990814e-01, 2.26231065e-01, 9.12221572e-01,\n",
      "        2.77298070e-01, 7.65570233e-01, 3.29492914e-01, 3.71855132e-02],\n",
      "       [6.93795162e-01, 4.70283293e-01, 2.82210243e-01, 1.81319130e-01,\n",
      "        2.92844096e-01, 2.68569403e-01, 8.33562612e-01, 3.64933946e-02],\n",
      "       [5.88113999e-01, 1.13241775e-01, 1.52167620e-01, 5.02194513e-01,\n",
      "        5.54568481e-02, 4.75362571e-02, 6.78319693e-01, 1.05754945e-02],\n",
      "       [7.43347117e-01, 8.42580339e-02, 7.55212611e-01, 8.62470315e-01,\n",
      "        8.98828639e-01, 1.33277659e-01, 2.56994411e-01, 6.33732233e-02],\n",
      "       [7.90993213e-01, 1.84073515e-01, 6.95387156e-01, 5.98959574e-01,\n",
      "        4.51908963e-01, 3.56029739e-01, 2.38184939e-01, 4.92482280e-02],\n",
      "       [9.08393352e-01, 7.74026077e-01, 9.66560102e-01, 1.36009691e-01,\n",
      "        9.41157738e-01, 4.32697797e-01, 8.97890094e-01, 7.81291057e-02],\n",
      "       [7.67417837e-01, 3.21456909e-01, 9.31192457e-01, 2.80908190e-01,\n",
      "        7.50002084e-01, 4.51495428e-01, 6.87595731e-01, 5.38945157e-02],\n",
      "       [7.20098070e-01, 5.01021127e-01, 8.90799097e-01, 7.04845423e-01,\n",
      "        3.50051546e-01, 1.89413757e-01, 7.24284286e-01, 1.28639913e-02],\n",
      "       [1.11706883e-01, 9.65310329e-01, 8.65777142e-01, 4.41358806e-01,\n",
      "        8.37701347e-01, 9.85419698e-01, 8.14515214e-02, 2.05264350e-02],\n",
      "       [6.60641476e-01, 6.19705874e-01, 4.22727198e-01, 7.60376099e-01,\n",
      "        3.60855796e-01, 5.77024720e-01, 3.40547424e-01, 2.56688127e-02],\n",
      "       [6.02201289e-01, 4.35525234e-02, 7.90400242e-01, 4.75352542e-01,\n",
      "        5.23962388e-01, 1.52939680e-03, 2.94677395e-01, 3.04642120e-01],\n",
      "       [9.69221312e-01, 3.11449434e-02, 5.01379654e-01, 4.99189786e-01,\n",
      "        1.85359876e-01, 9.27712535e-01, 7.99432693e-01, 4.95194769e-01],\n",
      "       [4.65615605e-01, 3.99680165e-01, 1.04840980e-01, 6.29744826e-01,\n",
      "        2.14179156e-02, 6.38678350e-01, 8.63173654e-01, 4.66731550e-02],\n",
      "       [2.98666200e-01, 5.73113800e-01, 3.51394025e-01, 1.00678758e-01,\n",
      "        9.28755363e-01, 5.14822708e-01, 9.15166486e-01, 6.35583711e-02],\n",
      "       [1.82237634e-01, 2.55482611e-01, 9.75089059e-02, 1.74233385e-01,\n",
      "        8.27753870e-03, 6.08918190e-01, 3.83805784e-01, 5.53488853e-02],\n",
      "       [8.68790481e-01, 9.34231576e-01, 6.31742073e-01, 4.36375806e-02,\n",
      "        7.67469871e-01, 6.80818447e-01, 1.26119118e-02, 1.00000000e+00],\n",
      "       [6.48947770e-01, 3.48121516e-01, 7.23034176e-01, 9.77090529e-01,\n",
      "        6.51869793e-01, 6.41800821e-01, 5.91386622e-02, 5.32241501e-02],\n",
      "       [5.03545874e-01, 2.31692319e-01, 8.23403920e-01, 9.59800909e-01,\n",
      "        8.12699077e-01, 3.98427399e-01, 2.06947708e-01, 3.76628611e-02],\n",
      "       [2.54523018e-01, 2.65946959e-01, 1.61123971e-01, 2.77463658e-01,\n",
      "        6.22704434e-01, 7.58810717e-01, 9.72384590e-01, 6.59278919e-02],\n",
      "       [9.91404519e-01, 8.10223009e-01, 8.00470754e-01, 3.04486176e-01,\n",
      "        5.13822853e-01, 4.94603264e-01, 4.82737596e-01, 3.82653455e-02],\n",
      "       [9.22373857e-01, 6.29785870e-01, 3.93114085e-01, 6.01016530e-02,\n",
      "        9.13681129e-01, 9.76345752e-01, 4.62398038e-01, 2.17787834e-01],\n",
      "       [3.75329204e-03, 9.86642212e-01, 6.00831727e-01, 3.61485708e-01,\n",
      "        8.45035030e-01, 5.82785972e-01, 1.75057065e-01, 0.00000000e+00],\n",
      "       [3.17175069e-01, 6.46598763e-01, 3.65707629e-01, 2.56658941e-01,\n",
      "        9.92088855e-01, 4.61794885e-01, 5.28771985e-01, 4.02049018e-02],\n",
      "       [3.28433282e-01, 8.36117405e-01, 2.09479555e-01, 8.09531305e-01,\n",
      "        7.82212872e-02, 8.60361146e-01, 5.68572088e-01, 1.86302837e-02],\n",
      "       [4.39871822e-01, 5.44547016e-01, 8.40434686e-01, 2.08202599e-01,\n",
      "        1.13606367e-01, 8.56249846e-01, 5.86549467e-01, 2.98823587e-02],\n",
      "       [9.60978520e-02, 3.68446242e-01, 2.47955216e-01, 7.20751538e-01,\n",
      "        5.58554695e-01, 1.70000544e-01, 7.65118050e-01, 5.86666485e-03],\n",
      "       [9.56455465e-01, 1.22386654e-02, 3.38742090e-01, 5.65482383e-01,\n",
      "        5.78244642e-01, 1.52098166e-01, 3.02529547e-01, 2.26720670e-01],\n",
      "       [1.70553993e-01, 7.81747561e-01, 9.04681658e-01, 5.41693521e-01,\n",
      "        8.77451940e-01, 7.38528742e-01, 1.98593475e-01, 1.82444249e-02],\n",
      "       [5.62622914e-01, 6.87318600e-01, 7.00685661e-02, 6.56729132e-01,\n",
      "        7.86525331e-01, 8.13639652e-01, 7.05782403e-01, 6.03936516e-02],\n",
      "       [4.10792893e-01, 7.49850603e-01, 1.24206685e-01, 8.58145090e-01,\n",
      "        4.08424830e-01, 2.36055301e-01, 9.43837265e-01, 1.14145971e-02],\n",
      "       [8.90223079e-01, 7.20226093e-01, 4.16341134e-01, 6.00739617e-01,\n",
      "        3.23981659e-01, 3.30374790e-01, 8.03729319e-01, 1.82778420e-02],\n",
      "       [3.87943022e-01, 4.06897579e-01, 2.17261847e-02, 4.38694592e-01,\n",
      "        6.83300236e-01, 6.72363704e-01, 3.73489088e-01, 1.07066810e-01],\n",
      "       [4.01194646e-02, 8.84376190e-01, 7.10289297e-01, 3.91547432e-01,\n",
      "        1.22449422e-01, 7.18263703e-01, 8.45831625e-01, 3.36440124e-04],\n",
      "       [1.24216908e-01, 2.04016072e-01, 7.73554266e-01, 4.04067216e-01,\n",
      "        1.55493431e-01, 9.12753841e-01, 4.11651038e-01, 2.59075369e-02],\n",
      "       [6.29171800e-01, 8.77747727e-01, 1.18610440e-02, 9.39993986e-01,\n",
      "        3.05112385e-01, 5.22962482e-01, 7.72213664e-02, 6.64188786e-02],\n",
      "       [8.05924285e-01, 4.83577938e-01, 4.60363434e-01, 8.23124189e-01,\n",
      "        4.31517870e-01, 1.00406226e-01, 2.05203119e-02, 9.90056287e-02],\n",
      "       [8.29926460e-01, 9.44931069e-01, 6.41723247e-01, 2.30477059e-01,\n",
      "        4.82724275e-01, 3.05968629e-01, 4.34121515e-01, 4.05939914e-02],\n",
      "       [5.44646955e-01, 6.85863043e-02, 4.98123097e-01, 9.21723915e-02,\n",
      "        9.78525180e-01, 5.50476661e-01, 5.11429208e-01, 2.71897797e-01],\n",
      "       [5.31525251e-01, 3.08273993e-01, 9.97546187e-01, 9.81324622e-01,\n",
      "        2.46318991e-01, 9.43524373e-01, 1.22063975e-01, 3.80648332e-02],\n",
      "       [2.83335991e-02, 8.59195636e-01, 4.57702635e-02, 3.28619483e-01,\n",
      "        7.03480856e-01, 4.09356791e-01, 6.03735118e-01, 6.53903195e-03],\n",
      "       [6.00597941e-02, 1.52988904e-01, 1.96579571e-01, 3.21665040e-02,\n",
      "        4.64939000e-01, 7.91215421e-01, 9.28232398e-01, 1.01911320e-01],\n",
      "       [2.37452831e-01, 6.65477530e-01, 3.14398352e-01, 1.61876488e-02,\n",
      "        2.22741000e-01, 2.48711744e-01, 7.50310021e-01, 9.79417348e-02],\n",
      "       [8.42023525e-01, 5.98279751e-01, 5.46076911e-01, 3.53440354e-01,\n",
      "        6.16491805e-01, 8.26504027e-01, 9.92743561e-01, 4.91643621e-02],\n",
      "       [1.53402083e-01, 4.21126445e-01, 9.56014033e-01, 1.49756527e-01,\n",
      "        3.99519736e-01, 8.96732638e-01, 1.02331625e-01, 3.88753000e-02],\n",
      "       [7.04215049e-01, 1.28863290e-01, 5.75550932e-01, 7.48845048e-01,\n",
      "        6.79757069e-01, 6.57401274e-02, 2.65664986e-01, 5.63419170e-02],\n",
      "       [4.47079100e-01, 1.67773226e-01, 4.58525671e-01, 6.75071881e-01,\n",
      "        5.88512439e-01, 2.92116265e-01, 6.40159535e-01, 3.23215832e-02]]), array([[0.98059491, 0.21165191, 0.26731283, 0.28440539, 0.66937168,\n",
      "        0.83975293, 0.05115337, 0.89354006],\n",
      "       [0.17293582, 0.77372394, 0.0525034 , 0.49654943, 0.23538884,\n",
      "        0.45323185, 0.23973606, 0.0775114 ],\n",
      "       [0.47268628, 0.30316486, 0.54486522, 0.83524139, 0.9829217 ,\n",
      "        0.61505531, 0.38490146, 0.17640058],\n",
      "       [0.13166002, 0.63076312, 0.35424699, 0.41004401, 0.85325087,\n",
      "        0.94282517, 0.03452931, 0.18392682],\n",
      "       [0.85345265, 0.85000177, 0.59344229, 0.05242793, 0.90577452,\n",
      "        0.84339526, 0.24993841, 1.        ],\n",
      "       [0.26905075, 0.32247895, 0.43899069, 0.99260704, 0.07032388,\n",
      "        0.8907168 , 0.77895328, 0.11825208],\n",
      "       [0.10142498, 0.59109867, 0.44974132, 0.79531574, 0.83010635,\n",
      "        0.76774559, 0.7019581 , 0.047835  ],\n",
      "       [0.68492729, 0.97593344, 0.00841821, 0.59250387, 0.26735113,\n",
      "        0.02493176, 0.10023203, 0.25605458],\n",
      "       [0.58110132, 0.88710135, 0.79307238, 0.44594056, 0.16443815,\n",
      "        0.51697924, 0.15962439, 0.07098782],\n",
      "       [0.78828988, 0.14397021, 0.16118202, 0.75714366, 0.92874779,\n",
      "        0.580983  , 0.75480506, 0.51665397],\n",
      "       [0.38535679, 0.38476394, 0.9502571 , 0.18822545, 0.14320325,\n",
      "        0.68150954, 0.54164558, 0.13045905],\n",
      "       [0.4019946 , 0.19877872, 0.75735559, 0.63888736, 0.41336221,\n",
      "        0.27119069, 0.57694319, 0.09103222],\n",
      "       [0.32818535, 0.66672744, 0.2301729 , 0.09098366, 0.54096409,\n",
      "        0.11403159, 0.3565022 , 0.40582944],\n",
      "       [0.2905133 , 0.68558351, 0.88438552, 0.21959644, 0.03386182,\n",
      "        0.2309737 , 0.42185904, 0.02051956],\n",
      "       [0.00592571, 0.0939921 , 0.70903172, 0.84976245, 0.30258239,\n",
      "        0.04068944, 0.82285091, 0.        ],\n",
      "       [0.80651215, 0.95941833, 0.37127115, 0.66406086, 0.34003963,\n",
      "        0.39204697, 0.88281954, 0.07147986],\n",
      "       [0.9120142 , 0.05753653, 0.65610618, 0.92566226, 0.70133334,\n",
      "        0.72680435, 0.45904414, 0.76255113],\n",
      "       [0.92174661, 0.41133569, 0.08351579, 0.32230558, 0.48791015,\n",
      "        0.5551053 , 0.19502286, 0.45828059],\n",
      "       [0.05535033, 0.82915173, 0.98459391, 0.15304687, 0.60951313,\n",
      "        0.28582009, 0.51468781, 0.06082105],\n",
      "       [0.5393266 , 0.26419948, 0.60839939, 0.70140031, 0.73076764,\n",
      "        0.65735584, 0.92087008, 0.18160559],\n",
      "       [0.50321468, 0.72049317, 0.86338246, 0.03269325, 0.76871676,\n",
      "        0.42913124, 0.65736981, 0.77775308],\n",
      "       [0.6541594 , 0.55201291, 0.15862372, 0.24051867, 0.44730439,\n",
      "        0.19505179, 0.84608122, 0.15494107],\n",
      "       [0.22967479, 0.51010861, 0.80909535, 0.52970552, 0.08616171,\n",
      "        0.99453392, 0.97009655, 0.07413817],\n",
      "       [0.62120705, 0.02696466, 0.49062788, 0.36619428, 0.58710157,\n",
      "        0.35380754, 0.60033261, 0.79478789],\n",
      "       [0.7232324 , 0.46840635, 0.28742343, 0.91641227, 0.36349816,\n",
      "        0.12901391, 0.31212548, 0.08937797]]), array([[1.34532995, 1.56632337, 1.93980442, 1.67658644, 1.62204072,\n",
      "        1.98835214, 1.0988846 , 0.47844986],\n",
      "       [1.28586761, 1.63282178, 1.02099102, 1.81669991, 1.00920719,\n",
      "        1.60236092, 1.81797568, 0.25490469],\n",
      "       [1.60313528, 1.74653764, 1.68942721, 1.28945098, 1.09794884,\n",
      "        1.23304845, 1.50455183, 0.14381611],\n",
      "       [1.028366  , 1.96132486, 1.4142151 , 1.04363849, 1.26815361,\n",
      "        1.1828424 , 1.05730511, 0.0612128 ],\n",
      "       [1.66581087, 1.66174001, 1.13602772, 1.95886856, 1.34640755,\n",
      "        1.43999113, 1.7806985 , 0.35491138],\n",
      "       [1.73567997, 1.79628038, 1.59031622, 1.56784033, 1.12638874,\n",
      "        1.82449067, 1.88743105, 0.38339418],\n",
      "       [1.10891439, 1.05175567, 1.81818174, 1.54239604, 1.69374231,\n",
      "        1.03946437, 1.59350226, 0.20653215],\n",
      "       [1.22824706, 1.3327775 , 1.09175059, 1.77276957, 1.16929532,\n",
      "        1.11681794, 1.31576444, 0.17312216],\n",
      "       [1.92578595, 1.46572649, 1.37726515, 1.37985989, 1.7349335 ,\n",
      "        1.67692213, 1.68920839, 0.85609533],\n",
      "       [1.55506391, 1.89274502, 1.86391432, 1.10030953, 1.45313225,\n",
      "        1.34515989, 1.4781585 , 0.26519204],\n",
      "       [1.12143154, 1.53909292, 1.77031421, 1.41874821, 1.56721252,\n",
      "        1.05741535, 1.95508972, 0.        ],\n",
      "       [1.85432374, 1.31309037, 1.28705383, 1.97275754, 1.40240765,\n",
      "        1.93483677, 1.15099348, 1.        ],\n",
      "       [1.7777145 , 1.68912911, 1.17152447, 1.14630813, 1.37378595,\n",
      "        1.28258924, 1.1726076 , 0.56652613],\n",
      "       [1.46530794, 1.12356967, 1.04689503, 1.60579265, 1.31572634,\n",
      "        1.70836685, 1.52839489, 0.89299332],\n",
      "       [1.5090077 , 1.19705176, 1.73266936, 1.1680292 , 1.93432929,\n",
      "        1.50620627, 1.97760907, 0.69436616],\n",
      "       [1.0791392 , 1.41749353, 1.64572795, 1.03687787, 1.82466722,\n",
      "        1.39340545, 1.02479968, 0.47112783],\n",
      "       [1.39947969, 1.08688948, 1.34015027, 1.50256328, 1.89592821,\n",
      "        1.24599887, 1.34834957, 0.65774654],\n",
      "       [1.70929932, 1.51802023, 1.98934404, 1.75735153, 1.51833766,\n",
      "        1.45789078, 1.2326466 , 0.39459163],\n",
      "       [1.43702969, 1.00333141, 1.47405064, 1.91620677, 1.64117288,\n",
      "        1.73332132, 1.73096984, 0.82066446],\n",
      "       [1.89747184, 1.87718441, 1.88632491, 1.46327884, 1.54430129,\n",
      "        1.59458763, 1.6354712 , 0.40035912],\n",
      "       [1.97911016, 1.37725026, 1.25925258, 1.21547501, 1.04489426,\n",
      "        1.53983181, 1.86483409, 0.7324596 ],\n",
      "       [1.18973709, 1.94772613, 1.53756772, 1.68818511, 1.98235516,\n",
      "        1.79836951, 1.67247382, 0.25197437],\n",
      "       [1.59637391, 1.82666626, 1.21262493, 1.25637141, 1.2135149 ,\n",
      "        1.14181619, 1.39560878, 0.23083352],\n",
      "       [1.82814976, 1.21956158, 1.6201134 , 1.87025354, 1.76698794,\n",
      "        1.90266747, 1.40618175, 0.98665579],\n",
      "       [1.26938029, 1.24232242, 1.51552571, 1.3292327 , 1.87919254,\n",
      "        1.87054717, 1.24517787, 0.7993605 ]]), array([[2.24316309, 2.28389107, 2.1278159 , 2.70708111, 2.52349481,\n",
      "        2.15386641, 2.9495922 , 0.2875246 ],\n",
      "       [2.97414587, 2.37007276, 2.31798655, 2.90924543, 2.26523867,\n",
      "        2.04611014, 2.71992331, 0.3907806 ],\n",
      "       [2.40440018, 2.74661078, 2.77533706, 2.60256957, 2.47753606,\n",
      "        2.37818986, 2.1511113 , 0.23569282],\n",
      "       [2.3719101 , 2.68728727, 2.87015002, 2.44560422, 2.87290346,\n",
      "        2.02079711, 2.1947487 , 0.22711288],\n",
      "       [2.14769933, 2.46503492, 2.01218932, 2.947326  , 2.37881379,\n",
      "        2.49394719, 2.08857059, 0.37962365],\n",
      "       [2.46825846, 2.95774602, 2.91051792, 2.09816212, 2.68489291,\n",
      "        2.09369821, 2.45570885, 0.16843043],\n",
      "       [2.1187291 , 2.26007853, 2.98676393, 2.66610334, 2.40162448,\n",
      "        2.9534613 , 2.79646529, 0.39959154],\n",
      "       [2.06779643, 2.33429207, 2.70921566, 2.97176717, 2.05219633,\n",
      "        2.30247224, 2.52661203, 0.05517454],\n",
      "       [2.66704866, 2.53507225, 2.25839908, 2.03713224, 2.10611097,\n",
      "        2.61747446, 2.6409577 , 0.57568631],\n",
      "       [2.28865393, 2.86076372, 2.83214118, 2.8692015 , 2.19830304,\n",
      "        2.41673677, 2.86303079, 0.        ],\n",
      "       [2.17365829, 2.8187415 , 2.50332863, 2.58591896, 2.95837511,\n",
      "        2.80068132, 2.99699211, 0.31561851],\n",
      "       [2.79898136, 2.79138788, 2.11455255, 2.48822269, 2.83393481,\n",
      "        2.586402  , 2.83947006, 0.61631714],\n",
      "       [2.56273724, 2.18715838, 2.04628486, 2.36152261, 2.65090192,\n",
      "        2.70957033, 2.06031418, 0.98289857],\n",
      "       [2.72869392, 2.09205415, 2.92689713, 2.21821703, 2.6136999 ,\n",
      "        2.74547215, 2.27234375, 0.883515  ],\n",
      "       [2.69211039, 2.51988471, 2.52864476, 2.79971067, 2.21532796,\n",
      "        2.21621545, 2.3557795 , 0.29820538],\n",
      "       [2.93631191, 2.88968612, 2.33856032, 2.41308958, 2.77165313,\n",
      "        2.5517636 , 2.00293534, 0.67894038],\n",
      "       [2.82689834, 2.97665192, 2.63587268, 2.1601438 , 2.13383436,\n",
      "        2.90152857, 2.57735521, 0.47709571],\n",
      "       [2.63891247, 2.15039681, 2.16101244, 2.07675874, 2.51433196,\n",
      "        2.33707691, 2.40904111, 0.77244687],\n",
      "       [2.20588507, 2.04555087, 2.20959111, 2.30609369, 2.01673675,\n",
      "        2.16747508, 2.39444617, 0.35824609],\n",
      "       [2.03674318, 2.02165659, 2.42758639, 2.15985061, 2.73932546,\n",
      "        2.26508089, 2.72467462, 0.43322817],\n",
      "       [2.86663296, 2.41349316, 2.37727686, 2.74801334, 2.58129552,\n",
      "        2.8652936 , 2.91049656, 0.79821388],\n",
      "       [2.9164751 , 2.23791515, 2.67109188, 2.27666723, 2.91397475,\n",
      "        2.7950032 , 2.50506804, 1.        ],\n",
      "       [2.51047305, 2.59982365, 2.47868352, 2.32039786, 2.31019422,\n",
      "        2.4783669 , 2.61495961, 0.3665043 ],\n",
      "       [2.53793436, 2.62444594, 2.73066673, 2.52252068, 2.34414579,\n",
      "        2.66498697, 2.29943267, 0.4099813 ],\n",
      "       [2.35062096, 2.67304104, 2.58445276, 2.81291924, 2.9994092 ,\n",
      "        2.99446419, 2.20767568, 0.583816  ]]), array([[3.55225862, 3.91939239, 3.29246886, 3.12041242, 3.19633596,\n",
      "        3.5133904 , 3.92793213, 0.30086066],\n",
      "       [3.29454444, 3.68208801, 3.06541152, 3.74287751, 3.5885439 ,\n",
      "        3.92782443, 3.59249935, 0.6065408 ],\n",
      "       [3.06480796, 3.81362408, 3.88346463, 3.04748682, 3.4766015 ,\n",
      "        3.52543682, 3.76834697, 0.08126757],\n",
      "       [3.82117063, 3.85784894, 3.78227147, 3.99778151, 3.70718872,\n",
      "        3.28347662, 3.05605447, 0.3915702 ],\n",
      "       [3.79607272, 3.05794236, 3.25526275, 3.36755045, 3.61673657,\n",
      "        3.19194625, 3.40120286, 0.84792688],\n",
      "       [3.5081494 , 3.09098544, 3.57249098, 3.64306893, 3.36939893,\n",
      "        3.7444918 , 3.2780793 , 0.81703551],\n",
      "       [3.45374649, 3.23952459, 3.23790388, 3.59907355, 3.09707478,\n",
      "        3.2085023 , 3.71718992, 0.37776771],\n",
      "       [3.18722814, 3.54483282, 3.36402274, 3.81414656, 3.30380996,\n",
      "        3.88311965, 3.97251475, 0.40238287],\n",
      "       [3.85311014, 3.29151627, 3.17832688, 3.18130006, 3.32110034,\n",
      "        3.33712692, 3.50375209, 0.7710169 ],\n",
      "       [3.91625696, 3.43230963, 3.68066842, 3.76153182, 3.15988095,\n",
      "        3.71688819, 3.73284438, 0.65451361],\n",
      "       [3.67127934, 3.17345388, 3.63160712, 3.42412629, 3.54696455,\n",
      "        3.47014065, 3.20899542, 0.76784008],\n",
      "       [3.22784745, 3.60341379, 3.67245117, 3.24420256, 3.87386046,\n",
      "        3.86816222, 3.44065188, 0.5580588 ],\n",
      "       [3.99810728, 3.36646822, 3.03345266, 3.89923617, 3.721672  ,\n",
      "        3.6352428 , 3.82492386, 1.        ],\n",
      "       [3.9396728 , 3.4939107 , 3.74655048, 3.47005013, 3.24368719,\n",
      "        3.39967728, 3.64075107, 0.50878145],\n",
      "       [3.35402784, 3.75075879, 3.97073475, 3.28987755, 3.89947924,\n",
      "        3.9991381 , 3.55109359, 0.5306363 ],\n",
      "       [3.03168055, 3.76430731, 3.34164661, 3.00930228, 3.48375057,\n",
      "        3.06427396, 3.84304462, 0.        ],\n",
      "       [3.09278342, 3.3358056 , 3.82197275, 3.34231554, 3.78704054,\n",
      "        3.66884386, 3.34059423, 0.4720096 ],\n",
      "       [3.70369358, 3.46950731, 3.11705096, 3.60106923, 3.97709074,\n",
      "        3.02656132, 3.88638769, 0.52798877],\n",
      "       [3.14051809, 3.12656613, 3.55340934, 3.95417611, 3.83058954,\n",
      "        3.1255909 , 3.08941519, 0.39800137],\n",
      "       [3.38687837, 3.24265858, 3.40558583, 3.70447678, 3.65600571,\n",
      "        3.08060669, 3.29174805, 0.42561883],\n",
      "       [3.63209038, 3.01605479, 3.12434996, 3.53870691, 3.02130498,\n",
      "        3.57018424, 3.62183823, 0.85444111],\n",
      "       [3.41467426, 3.95971893, 3.92948756, 3.08155883, 3.92619113,\n",
      "        3.40733154, 3.38105649, 0.29992632],\n",
      "       [3.57058562, 3.98043364, 3.8754583 , 3.23865859, 3.06607216,\n",
      "        3.80653478, 3.0211934 , 0.34037039],\n",
      "       [3.27555905, 3.67865779, 3.49888566, 3.87006363, 3.41445127,\n",
      "        3.78817085, 3.18225625, 0.40886579],\n",
      "       [3.75434438, 3.58376714, 3.45725485, 3.49878115, 3.23591308,\n",
      "        3.24559838, 3.13144486, 0.43524593]])]\n"
     ]
    }
   ],
   "source": [
    "print(layers)"
   ],
   "metadata": {
    "collapsed": false,
    "pycharm": {
     "name": "#%%\n"
    }
   }
  },
  {
   "cell_type": "code",
   "execution_count": 25,
   "outputs": [],
   "source": [
    "FILE_DEST = 'Test_Data_Final/chem_eng/'\n",
    "filenames = [\"train\",\"test\",\"extrap_1\",\"extrap_2\",\"extrap_3\"]\n",
    "for i in range(len(layers)):\n",
    "    np.savetxt(FILE_DEST+'chemeng_'+filenames[i]+'.txt', layers[i], delimiter=' ')"
   ],
   "metadata": {
    "collapsed": false,
    "pycharm": {
     "name": "#%%\n"
    }
   }
  }
 ],
 "metadata": {
  "kernelspec": {
   "display_name": "Python 3",
   "language": "python",
   "name": "python3"
  },
  "language_info": {
   "codemirror_mode": {
    "name": "ipython",
    "version": 2
   },
   "file_extension": ".py",
   "mimetype": "text/x-python",
   "name": "python",
   "nbconvert_exporter": "python",
   "pygments_lexer": "ipython2",
   "version": "2.7.6"
  }
 },
 "nbformat": 4,
 "nbformat_minor": 0
}