{
 "cells": [
  {
   "cell_type": "markdown",
   "source": [
    "## Buckingham-Pi Python module\n",
    "* [F=MA test case](#fma)\n",
    "* [Dimensionless Data from data and units files](#dim1)\n",
    "* [Dimensionless Groups from sympy expressions](#dim2)\n",
    "* [Dimensionless Data from dimensionless groups and data](#dim3)\n",
    "* [Function Test](#test1)"
   ],
   "metadata": {
    "collapsed": false
   }
  },
  {
   "cell_type": "code",
   "execution_count": 1,
   "metadata": {
    "collapsed": true
   },
   "outputs": [],
   "source": [
    "import pandas as pd\n",
    "import numpy as np\n",
    "import sympy.functions\n",
    "from sympy import symbols, lambdify, parse_expr, Function\n",
    "from BuckinghamPy.buckinghampy.buckinghampi import BuckinghamPi\n",
    "from sympy import S"
   ]
  },
  {
   "cell_type": "markdown",
   "source": [
    "### F=MA test case <a class=\"anchor\" id=\"fma\"></a>\n",
    "There seems to be a problem with this module when the dimensions for the F=MA equation are fed in as it gives an error. Instead it should return a set with only one dimensionless group."
   ],
   "metadata": {
    "collapsed": false
   }
  },
  {
   "cell_type": "code",
   "execution_count": 2,
   "outputs": [
    {
     "data": {
      "text/plain": "<IPython.core.display.Math object>",
      "text/latex": "$\\displaystyle \\text{Set }1: \\quad\\pi_1 = \\frac{a m}{f}\\quad$"
     },
     "metadata": {},
     "output_type": "display_data"
    },
    {
     "data": {
      "text/plain": "<IPython.core.display.Markdown object>",
      "text/markdown": "---"
     },
     "metadata": {},
     "output_type": "display_data"
    }
   ],
   "source": [
    "Example = BuckinghamPi()\n",
    "# Example.add_variable(name='m', dimensions=\"M\")\n",
    "# Example.add_variable(name='f', dimensions=\"M*T/L^(2)\")\n",
    "# Example.add_variable(name='a', dimensions = \"T/L^(2)\", non_repeating=True)\n",
    "Example.add_variable(name='m', dimensions=\"M\")\n",
    "Example.add_variable(name='f', dimensions=\"M*Q\")\n",
    "Example.add_variable(name='a', dimensions = \"Q\", non_repeating=True)\n",
    "#Where Q = L/T^2\n",
    "Example.generate_pi_terms()\n",
    "\n",
    "Example.print_all()"
   ],
   "metadata": {
    "collapsed": false,
    "pycharm": {
     "name": "#%%\n"
    }
   }
  },
  {
   "cell_type": "markdown",
   "source": [
    "### Create Dimensionless data from data and units file <a class=\"anchor\" id=\"dim1\"></a>"
   ],
   "metadata": {
    "collapsed": false
   }
  },
  {
   "cell_type": "code",
   "execution_count": 2,
   "outputs": [],
   "source": [
    "def create_dimless_data(units, data):\n",
    "    trial = BuckinghamPi()\n",
    "    unit_names = \"\"\n",
    "    for i in range(0, len(units)-1):\n",
    "        new_unit = \"X\"+str(i)\n",
    "        trial.add_variable(name=new_unit, dimensions=units[i])\n",
    "        unit_names = unit_names + new_unit + \" \"\n",
    "    new_unit = \"X\"+str(len(units)-1)\n",
    "    trial.add_variable(name=new_unit, dimensions=units[-1],non_repeating=True)\n",
    "    unit_names = unit_names + new_unit\n",
    "    print(unit_names)\n",
    "    print(units)\n",
    "    trial.generate_pi_terms()\n",
    "    symbo = symbols(unit_names)\n",
    "    print(trial.print_all())\n",
    "    output = [] #array containing the dimensionless data\n",
    "    for f in trial.pi_terms:\n",
    "        lambda_expr = np.vectorize(lambdify(symbo, f[0], modules=[\"scipy\", \"numpy\"]))\n",
    "        output.append(lambda_expr(*(data.T.tolist())))\n",
    "    return output"
   ],
   "metadata": {
    "collapsed": false,
    "pycharm": {
     "name": "#%%\n"
    }
   }
  },
  {
   "cell_type": "code",
   "execution_count": null,
   "outputs": [],
   "source": [
    "data = pd.read_csv('f1_train.txt', header=None, sep=' ').to_numpy()\n",
    "fma_units = [\"M*Q\",\"M\",\"Q\"]"
   ],
   "metadata": {
    "collapsed": false,
    "pycharm": {
     "name": "#%%\n"
    }
   }
  },
  {
   "cell_type": "code",
   "execution_count": null,
   "outputs": [],
   "source": [
    "dimred_data = create_dimless_data(fma_units, data)\n",
    "print(dimred_data)"
   ],
   "metadata": {
    "collapsed": false,
    "pycharm": {
     "name": "#%%\n"
    }
   }
  },
  {
   "cell_type": "code",
   "execution_count": null,
   "outputs": [],
   "source": [
    "units_file = pd.read_csv(\"units.csv\", sep=',')\n",
    "units_file.head()"
   ],
   "metadata": {
    "collapsed": false,
    "pycharm": {
     "name": "#%%\n"
    }
   }
  },
  {
   "cell_type": "markdown",
   "source": [
    "### Create dimensionless groups from sympy expressions <a class=\"anchor\" id=\"dim2\"></a>"
   ],
   "metadata": {
    "collapsed": false
   }
  },
  {
   "cell_type": "code",
   "execution_count": 3,
   "outputs": [],
   "source": [
    "def expr_vars_to_dimless_groups(ind_vars,dep_var, units_path):\n",
    "    ind_vars = ind_vars.split()\n",
    "    Example = BuckinghamPi()\n",
    "    units_file = pd.read_csv(units_path, sep=',')\n",
    "    dim_types = ['m','s','kg','T','V']\n",
    "    for var in ind_vars:\n",
    "        print(var)\n",
    "        var_dat = units_file[units_file['Variable'] == var].values[0,2:7]\n",
    "        dim_str = \"\"\n",
    "        for i in range(0, len(var_dat)):\n",
    "            if var_dat[i] != 0:\n",
    "                dim_str = dim_str + '*' + dim_types[i] + '^' + '('+ str(var_dat[i]) + ')'\n",
    "        if dim_str == '':\n",
    "            continue\n",
    "        Example.add_variable(name=var, dimensions=dim_str[1:])\n",
    "    var_dat = units_file[units_file['Variable'] == dep_var].values[0,2:7]\n",
    "    dim_str = \"\"\n",
    "    for i in range(0, len(var_dat)):\n",
    "        if var_dat[i] != 0:\n",
    "            dim_str = dim_str + '*' + dim_types[i] + '^' + '('+ str(var_dat[i]) + ')'\n",
    "\n",
    "    Example.add_variable(name=dep_var, dimensions=dim_str[1:], non_repeating=True)\n",
    "    return Example"
   ],
   "metadata": {
    "collapsed": false,
    "pycharm": {
     "name": "#%%\n"
    }
   }
  },
  {
   "cell_type": "code",
   "execution_count": 43,
   "outputs": [
    {
     "name": "stdout",
     "output_type": "stream",
     "text": [
      "*m^(1.0)*s^(-2.0)*kg^(1.0)*V^(-2.0)\n",
      "*m^(1.0)*s^(-1.0)\n",
      "*m^(-1.0)*V^(1.0)\n",
      "*m^(1.0)\n",
      "*s^(-1.0)\n",
      "*s^(-1.0)\n",
      "*m^(1.0)*s^(-1.0)*kg^(1.0)\n"
     ]
    }
   ],
   "source": [
    "ind_vars = \"epsilon c Ef r omega omega_0 p\"\n",
    "ind_vars = ind_vars.split()\n",
    "Example = BuckinghamPi()\n",
    "units_file = pd.read_csv(\"units.csv\", sep=',')\n",
    "dim_types = ['m','s','kg','T','V']\n",
    "for var in ind_vars:\n",
    "    #print(var)\n",
    "    #print(units_file[units_file['Variable'] == var].values[0,2:7])\n",
    "    var_dat = units_file[units_file['Variable'] == var].values[0,2:7]\n",
    "    dim_str = \"\"\n",
    "    for i in range(0, len(var_dat)):\n",
    "        if var_dat[i] != 0:\n",
    "            dim_str = dim_str + '*' + dim_types[i] + '^' + '('+ str(var_dat[i]) + ')'\n",
    "    print(dim_str)\n",
    "    #print(\"after dim_Str\")\n",
    "    if dim_str == '':\n",
    "        continue\n",
    "    #Example.add_variable(name=var, dimensions=dim_str[1:])"
   ],
   "metadata": {
    "collapsed": false,
    "pycharm": {
     "name": "#%%\n"
    }
   }
  },
  {
   "cell_type": "code",
   "execution_count": 34,
   "outputs": [
    {
     "data": {
      "text/plain": "<IPython.core.display.Math object>",
      "text/latex": "$\\displaystyle \\text{Set }1: \\quad\\pi_1 = \\frac{x_{2}}{x_{1}}\\quad$"
     },
     "metadata": {},
     "output_type": "display_data"
    },
    {
     "data": {
      "text/plain": "<IPython.core.display.Markdown object>",
      "text/markdown": "---"
     },
     "metadata": {},
     "output_type": "display_data"
    }
   ],
   "source": [
    "Example.generate_pi_terms()\n",
    "Example.print_all()"
   ],
   "metadata": {
    "collapsed": false,
    "pycharm": {
     "name": "#%%\n"
    }
   }
  },
  {
   "cell_type": "markdown",
   "source": [
    "### Create dimensionless data from dimensionless groups and data <a class=\"anchor\" id=\"dim3\"></a>"
   ],
   "metadata": {
    "collapsed": false
   }
  },
  {
   "cell_type": "code",
   "execution_count": 5,
   "outputs": [],
   "source": [
    "class protected_division(Function):\n",
    "    @classmethod\n",
    "    def eval(cls, x, y):\n",
    "        if y.is_Number:\n",
    "            if y.is_zero:\n",
    "                return S.One\n",
    "            else:\n",
    "                return x/y\n",
    "class protected_square_root(Function):\n",
    "    @classmethod\n",
    "    def eval(cls, x):\n",
    "        if x.is_Number:\n",
    "            return sympy.functions.sqrt(sympy.functions.Abs(x))\n",
    "\n",
    "def dimless_groups_to_dimless_data(data, buckpi, expr_vars):\n",
    "    buckpi.generate_pi_terms()\n",
    "    symbo = symbols(expr_vars)\n",
    "    print(buckpi.print_all())\n",
    "    output = []  # array containing the dimensionless data\n",
    "    j = 0\n",
    "    for f in buckpi.pi_terms:\n",
    "        dim_groups_set = np.zeros((len(data), len(f)))\n",
    "        try:\n",
    "            for i in range(0, len(f)):\n",
    "                lamda_expr = np.vectorize(lambdify(symbo, f[i], modules= [{'/':protected_division},\"scipy\", \"numpy\"]))\n",
    "                dim_groups_set[:,i] = lamda_expr(*(data.T.tolist()))\n",
    "            output.append(dim_groups_set)\n",
    "        except:\n",
    "            print(\"problem with set \", len(output))\n",
    "            output.append(0)\n",
    "\n",
    "        i+=j\n",
    "    return output"
   ],
   "metadata": {
    "collapsed": false,
    "pycharm": {
     "name": "#%%\n"
    }
   }
  },
  {
   "cell_type": "code",
   "execution_count": 13,
   "outputs": [
    {
     "name": "stdout",
     "output_type": "stream",
     "text": [
      "G\n",
      "m1\n",
      "m2\n",
      "r1\n",
      "r2\n",
      "____________________\n"
     ]
    },
    {
     "data": {
      "text/plain": "<IPython.core.display.Math object>",
      "text/latex": "$\\displaystyle \\text{Set }1: \\quad\\pi_1 = \\frac{m_{2}}{m_{1}}\\quad\\pi_2 = \\frac{r_{2}}{r_{1}}\\quad\\pi_3 = \\frac{U r_{1}}{G m_{1}^{2}}\\quad$"
     },
     "metadata": {},
     "output_type": "display_data"
    },
    {
     "data": {
      "text/plain": "<IPython.core.display.Markdown object>",
      "text/markdown": "---"
     },
     "metadata": {},
     "output_type": "display_data"
    },
    {
     "data": {
      "text/plain": "<IPython.core.display.Math object>",
      "text/latex": "$\\displaystyle \\text{Set }2: \\quad\\pi_1 = \\frac{m_{2}}{m_{1}}\\quad\\pi_2 = \\frac{r_{1}}{r_{2}}\\quad\\pi_3 = \\frac{U r_{2}}{G m_{1}^{2}}\\quad$"
     },
     "metadata": {},
     "output_type": "display_data"
    },
    {
     "data": {
      "text/plain": "<IPython.core.display.Markdown object>",
      "text/markdown": "---"
     },
     "metadata": {},
     "output_type": "display_data"
    },
    {
     "data": {
      "text/plain": "<IPython.core.display.Math object>",
      "text/latex": "$\\displaystyle \\text{Set }3: \\quad\\pi_1 = \\frac{m_{1}}{m_{2}}\\quad\\pi_2 = \\frac{r_{2}}{r_{1}}\\quad\\pi_3 = \\frac{U r_{1}}{G m_{2}^{2}}\\quad$"
     },
     "metadata": {},
     "output_type": "display_data"
    },
    {
     "data": {
      "text/plain": "<IPython.core.display.Markdown object>",
      "text/markdown": "---"
     },
     "metadata": {},
     "output_type": "display_data"
    },
    {
     "data": {
      "text/plain": "<IPython.core.display.Math object>",
      "text/latex": "$\\displaystyle \\text{Set }4: \\quad\\pi_1 = \\frac{m_{1}}{m_{2}}\\quad\\pi_2 = \\frac{r_{1}}{r_{2}}\\quad\\pi_3 = \\frac{U r_{2}}{G m_{2}^{2}}\\quad$"
     },
     "metadata": {},
     "output_type": "display_data"
    },
    {
     "data": {
      "text/plain": "<IPython.core.display.Markdown object>",
      "text/markdown": "---"
     },
     "metadata": {},
     "output_type": "display_data"
    },
    {
     "name": "stdout",
     "output_type": "stream",
     "text": [
      "None\n"
     ]
    },
    {
     "data": {
      "text/plain": "<IPython.core.display.Math object>",
      "text/latex": "$\\displaystyle \\text{Set }1: \\quad\\pi_1 = \\frac{m_{2}}{m_{1}}\\quad\\pi_2 = \\frac{r_{2}}{r_{1}}\\quad\\pi_3 = \\frac{U r_{1}}{G m_{1}^{2}}\\quad$"
     },
     "metadata": {},
     "output_type": "display_data"
    },
    {
     "data": {
      "text/plain": "<IPython.core.display.Markdown object>",
      "text/markdown": "---"
     },
     "metadata": {},
     "output_type": "display_data"
    },
    {
     "data": {
      "text/plain": "<IPython.core.display.Math object>",
      "text/latex": "$\\displaystyle \\text{Set }2: \\quad\\pi_1 = \\frac{m_{2}}{m_{1}}\\quad\\pi_2 = \\frac{r_{1}}{r_{2}}\\quad\\pi_3 = \\frac{U r_{2}}{G m_{1}^{2}}\\quad$"
     },
     "metadata": {},
     "output_type": "display_data"
    },
    {
     "data": {
      "text/plain": "<IPython.core.display.Markdown object>",
      "text/markdown": "---"
     },
     "metadata": {},
     "output_type": "display_data"
    },
    {
     "data": {
      "text/plain": "<IPython.core.display.Math object>",
      "text/latex": "$\\displaystyle \\text{Set }3: \\quad\\pi_1 = \\frac{m_{1}}{m_{2}}\\quad\\pi_2 = \\frac{r_{2}}{r_{1}}\\quad\\pi_3 = \\frac{U r_{1}}{G m_{2}^{2}}\\quad$"
     },
     "metadata": {},
     "output_type": "display_data"
    },
    {
     "data": {
      "text/plain": "<IPython.core.display.Markdown object>",
      "text/markdown": "---"
     },
     "metadata": {},
     "output_type": "display_data"
    },
    {
     "data": {
      "text/plain": "<IPython.core.display.Math object>",
      "text/latex": "$\\displaystyle \\text{Set }4: \\quad\\pi_1 = \\frac{m_{1}}{m_{2}}\\quad\\pi_2 = \\frac{r_{1}}{r_{2}}\\quad\\pi_3 = \\frac{U r_{2}}{G m_{2}^{2}}\\quad$"
     },
     "metadata": {},
     "output_type": "display_data"
    },
    {
     "data": {
      "text/plain": "<IPython.core.display.Markdown object>",
      "text/markdown": "---"
     },
     "metadata": {},
     "output_type": "display_data"
    },
    {
     "name": "stdout",
     "output_type": "stream",
     "text": [
      "None\n"
     ]
    },
    {
     "data": {
      "text/plain": "<IPython.core.display.Math object>",
      "text/latex": "$\\displaystyle \\text{Set }1: \\quad\\pi_1 = \\frac{m_{2}}{m_{1}}\\quad\\pi_2 = \\frac{r_{2}}{r_{1}}\\quad\\pi_3 = \\frac{U r_{1}}{G m_{1}^{2}}\\quad$"
     },
     "metadata": {},
     "output_type": "display_data"
    },
    {
     "data": {
      "text/plain": "<IPython.core.display.Markdown object>",
      "text/markdown": "---"
     },
     "metadata": {},
     "output_type": "display_data"
    },
    {
     "data": {
      "text/plain": "<IPython.core.display.Math object>",
      "text/latex": "$\\displaystyle \\text{Set }2: \\quad\\pi_1 = \\frac{m_{2}}{m_{1}}\\quad\\pi_2 = \\frac{r_{1}}{r_{2}}\\quad\\pi_3 = \\frac{U r_{2}}{G m_{1}^{2}}\\quad$"
     },
     "metadata": {},
     "output_type": "display_data"
    },
    {
     "data": {
      "text/plain": "<IPython.core.display.Markdown object>",
      "text/markdown": "---"
     },
     "metadata": {},
     "output_type": "display_data"
    },
    {
     "data": {
      "text/plain": "<IPython.core.display.Math object>",
      "text/latex": "$\\displaystyle \\text{Set }3: \\quad\\pi_1 = \\frac{m_{1}}{m_{2}}\\quad\\pi_2 = \\frac{r_{2}}{r_{1}}\\quad\\pi_3 = \\frac{U r_{1}}{G m_{2}^{2}}\\quad$"
     },
     "metadata": {},
     "output_type": "display_data"
    },
    {
     "data": {
      "text/plain": "<IPython.core.display.Markdown object>",
      "text/markdown": "---"
     },
     "metadata": {},
     "output_type": "display_data"
    },
    {
     "data": {
      "text/plain": "<IPython.core.display.Math object>",
      "text/latex": "$\\displaystyle \\text{Set }4: \\quad\\pi_1 = \\frac{m_{1}}{m_{2}}\\quad\\pi_2 = \\frac{r_{1}}{r_{2}}\\quad\\pi_3 = \\frac{U r_{2}}{G m_{2}^{2}}\\quad$"
     },
     "metadata": {},
     "output_type": "display_data"
    },
    {
     "data": {
      "text/plain": "<IPython.core.display.Markdown object>",
      "text/markdown": "---"
     },
     "metadata": {},
     "output_type": "display_data"
    },
    {
     "name": "stdout",
     "output_type": "stream",
     "text": [
      "None\n"
     ]
    },
    {
     "data": {
      "text/plain": "<IPython.core.display.Math object>",
      "text/latex": "$\\displaystyle \\text{Set }1: \\quad\\pi_1 = \\frac{m_{2}}{m_{1}}\\quad\\pi_2 = \\frac{r_{2}}{r_{1}}\\quad\\pi_3 = \\frac{U r_{1}}{G m_{1}^{2}}\\quad$"
     },
     "metadata": {},
     "output_type": "display_data"
    },
    {
     "data": {
      "text/plain": "<IPython.core.display.Markdown object>",
      "text/markdown": "---"
     },
     "metadata": {},
     "output_type": "display_data"
    },
    {
     "data": {
      "text/plain": "<IPython.core.display.Math object>",
      "text/latex": "$\\displaystyle \\text{Set }2: \\quad\\pi_1 = \\frac{m_{2}}{m_{1}}\\quad\\pi_2 = \\frac{r_{1}}{r_{2}}\\quad\\pi_3 = \\frac{U r_{2}}{G m_{1}^{2}}\\quad$"
     },
     "metadata": {},
     "output_type": "display_data"
    },
    {
     "data": {
      "text/plain": "<IPython.core.display.Markdown object>",
      "text/markdown": "---"
     },
     "metadata": {},
     "output_type": "display_data"
    },
    {
     "data": {
      "text/plain": "<IPython.core.display.Math object>",
      "text/latex": "$\\displaystyle \\text{Set }3: \\quad\\pi_1 = \\frac{m_{1}}{m_{2}}\\quad\\pi_2 = \\frac{r_{2}}{r_{1}}\\quad\\pi_3 = \\frac{U r_{1}}{G m_{2}^{2}}\\quad$"
     },
     "metadata": {},
     "output_type": "display_data"
    },
    {
     "data": {
      "text/plain": "<IPython.core.display.Markdown object>",
      "text/markdown": "---"
     },
     "metadata": {},
     "output_type": "display_data"
    },
    {
     "data": {
      "text/plain": "<IPython.core.display.Math object>",
      "text/latex": "$\\displaystyle \\text{Set }4: \\quad\\pi_1 = \\frac{m_{1}}{m_{2}}\\quad\\pi_2 = \\frac{r_{1}}{r_{2}}\\quad\\pi_3 = \\frac{U r_{2}}{G m_{2}^{2}}\\quad$"
     },
     "metadata": {},
     "output_type": "display_data"
    },
    {
     "data": {
      "text/plain": "<IPython.core.display.Markdown object>",
      "text/markdown": "---"
     },
     "metadata": {},
     "output_type": "display_data"
    },
    {
     "name": "stdout",
     "output_type": "stream",
     "text": [
      "None\n"
     ]
    },
    {
     "data": {
      "text/plain": "<IPython.core.display.Math object>",
      "text/latex": "$\\displaystyle \\text{Set }1: \\quad\\pi_1 = \\frac{m_{2}}{m_{1}}\\quad\\pi_2 = \\frac{r_{2}}{r_{1}}\\quad\\pi_3 = \\frac{U r_{1}}{G m_{1}^{2}}\\quad$"
     },
     "metadata": {},
     "output_type": "display_data"
    },
    {
     "data": {
      "text/plain": "<IPython.core.display.Markdown object>",
      "text/markdown": "---"
     },
     "metadata": {},
     "output_type": "display_data"
    },
    {
     "data": {
      "text/plain": "<IPython.core.display.Math object>",
      "text/latex": "$\\displaystyle \\text{Set }2: \\quad\\pi_1 = \\frac{m_{2}}{m_{1}}\\quad\\pi_2 = \\frac{r_{1}}{r_{2}}\\quad\\pi_3 = \\frac{U r_{2}}{G m_{1}^{2}}\\quad$"
     },
     "metadata": {},
     "output_type": "display_data"
    },
    {
     "data": {
      "text/plain": "<IPython.core.display.Markdown object>",
      "text/markdown": "---"
     },
     "metadata": {},
     "output_type": "display_data"
    },
    {
     "data": {
      "text/plain": "<IPython.core.display.Math object>",
      "text/latex": "$\\displaystyle \\text{Set }3: \\quad\\pi_1 = \\frac{m_{1}}{m_{2}}\\quad\\pi_2 = \\frac{r_{2}}{r_{1}}\\quad\\pi_3 = \\frac{U r_{1}}{G m_{2}^{2}}\\quad$"
     },
     "metadata": {},
     "output_type": "display_data"
    },
    {
     "data": {
      "text/plain": "<IPython.core.display.Markdown object>",
      "text/markdown": "---"
     },
     "metadata": {},
     "output_type": "display_data"
    },
    {
     "data": {
      "text/plain": "<IPython.core.display.Math object>",
      "text/latex": "$\\displaystyle \\text{Set }4: \\quad\\pi_1 = \\frac{m_{1}}{m_{2}}\\quad\\pi_2 = \\frac{r_{1}}{r_{2}}\\quad\\pi_3 = \\frac{U r_{2}}{G m_{2}^{2}}\\quad$"
     },
     "metadata": {},
     "output_type": "display_data"
    },
    {
     "data": {
      "text/plain": "<IPython.core.display.Markdown object>",
      "text/markdown": "---"
     },
     "metadata": {},
     "output_type": "display_data"
    },
    {
     "name": "stdout",
     "output_type": "stream",
     "text": [
      "None\n"
     ]
    }
   ],
   "source": [
    "I_13_12_data = pd.read_csv('Test_Data_Final/I_13_12/I_13_12_train.txt', header=None, sep=' ')\n",
    "bp_e1 = expr_vars_to_dimless_groups(\"G m1 m2 r1 r2\",\"U\", \"units.csv\")\n",
    "#bp_e1 = expr_vars_to_dimless_groups(\"m1 m2 r1 r2\",\"U\", \"units.csv\")\n",
    "print(\"____________________\")\n",
    "#dimless_data = dimless_groups_to_dimless_data(I_13_12_data.to_numpy(), bp_e1, \"G m1 m2 r1 r2 U\")\n",
    "dimless_data = dimless_groups_to_dimless_data(I_13_12_data.to_numpy(), bp_e1, \"G m1 m2 r1 r2 U\")\n",
    "for i in range(len(dimless_data)):\n",
    "    np.savetxt(\"Test_Data_Final/I_13_12_dimless/I_13_12_train_dimless_set_\"+str(i)+\".txt\", dimless_data[i])\n",
    "\n",
    "I_13_12_extrap_data = pd.read_csv('Test_Data_Final/I_13_12/I_13_12_test.txt', header=None, sep=' ')\n",
    "dimless_data = dimless_groups_to_dimless_data(I_13_12_extrap_data.to_numpy(), bp_e1, \"G m1 m2 r1 r2 U\")\n",
    "for i in range(len(dimless_data)):\n",
    "    np.savetxt(\"Test_Data_Final/I_13_12_dimless/I_13_12_test_dimless_set_\"+str(i)+\".txt\", dimless_data[i])\n",
    "\n",
    "I_13_12_extrap_data = pd.read_csv('Test_Data_Final/I_13_12/I_13_12_extrap_1.txt', header=None, sep=' ')\n",
    "dimless_data = dimless_groups_to_dimless_data(I_13_12_extrap_data.to_numpy(), bp_e1, \"G m1 m2 r1 r2 U\")\n",
    "for i in range(len(dimless_data)):\n",
    "    np.savetxt(\"Test_Data_Final/I_13_12_dimless/I_13_12_extrap_1_dimless_set_\"+str(i)+\".txt\", dimless_data[i])\n",
    "\n",
    "I_13_12_extrap_data = pd.read_csv('Test_Data_Final/I_13_12/I_13_12_extrap_2.txt', header=None, sep=' ')\n",
    "dimless_data = dimless_groups_to_dimless_data(I_13_12_extrap_data.to_numpy(), bp_e1,  \"G m1 m2 r1 r2 U\")\n",
    "for i in range(len(dimless_data)):\n",
    "    np.savetxt(\"Test_Data_Final/I_13_12_dimless/I_13_12_extrap_2_dimless_set_\"+str(i)+\".txt\", dimless_data[i])\n",
    "\n",
    "I_13_12_extrap_data = pd.read_csv('Test_Data_Final/I_13_12/I_13_12_extrap_3.txt', header=None, sep=' ')\n",
    "dimless_data = dimless_groups_to_dimless_data(I_13_12_extrap_data.to_numpy(), bp_e1,  \"G m1 m2 r1 r2 U\")\n",
    "for i in range(len(dimless_data)):\n",
    "    np.savetxt(\"Test_Data_Final/I_13_12_dimless/I_13_12_extrap_3_dimless_set_\"+str(i)+\".txt\", dimless_data[i])"
   ],
   "metadata": {
    "collapsed": false,
    "pycharm": {
     "name": "#%%\n"
    }
   }
  },
  {
   "cell_type": "code",
   "execution_count": 9,
   "outputs": [
    {
     "name": "stdout",
     "output_type": "stream",
     "text": [
      "x1\n",
      "x2\n",
      "theta1\n",
      "theta2\n",
      "____________________\n"
     ]
    },
    {
     "data": {
      "text/plain": "<IPython.core.display.Math object>",
      "text/latex": "$\\displaystyle \\text{Set }1: \\quad\\pi_1 = \\frac{x_{2}}{x_{1}}\\quad\\pi_2 = \\frac{x}{x_{1}}\\quad$"
     },
     "metadata": {},
     "output_type": "display_data"
    },
    {
     "data": {
      "text/plain": "<IPython.core.display.Markdown object>",
      "text/markdown": "---"
     },
     "metadata": {},
     "output_type": "display_data"
    },
    {
     "data": {
      "text/plain": "<IPython.core.display.Math object>",
      "text/latex": "$\\displaystyle \\text{Set }2: \\quad\\pi_1 = \\frac{x_{1}}{x_{2}}\\quad\\pi_2 = \\frac{x}{x_{2}}\\quad$"
     },
     "metadata": {},
     "output_type": "display_data"
    },
    {
     "data": {
      "text/plain": "<IPython.core.display.Markdown object>",
      "text/markdown": "---"
     },
     "metadata": {},
     "output_type": "display_data"
    },
    {
     "name": "stdout",
     "output_type": "stream",
     "text": [
      "None\n"
     ]
    },
    {
     "data": {
      "text/plain": "<IPython.core.display.Math object>",
      "text/latex": "$\\displaystyle \\text{Set }1: \\quad\\pi_1 = \\frac{x_{2}}{x_{1}}\\quad\\pi_2 = \\frac{x}{x_{1}}\\quad$"
     },
     "metadata": {},
     "output_type": "display_data"
    },
    {
     "data": {
      "text/plain": "<IPython.core.display.Markdown object>",
      "text/markdown": "---"
     },
     "metadata": {},
     "output_type": "display_data"
    },
    {
     "data": {
      "text/plain": "<IPython.core.display.Math object>",
      "text/latex": "$\\displaystyle \\text{Set }2: \\quad\\pi_1 = \\frac{x_{1}}{x_{2}}\\quad\\pi_2 = \\frac{x}{x_{2}}\\quad$"
     },
     "metadata": {},
     "output_type": "display_data"
    },
    {
     "data": {
      "text/plain": "<IPython.core.display.Markdown object>",
      "text/markdown": "---"
     },
     "metadata": {},
     "output_type": "display_data"
    },
    {
     "name": "stdout",
     "output_type": "stream",
     "text": [
      "None\n"
     ]
    },
    {
     "data": {
      "text/plain": "<IPython.core.display.Math object>",
      "text/latex": "$\\displaystyle \\text{Set }1: \\quad\\pi_1 = \\frac{x_{2}}{x_{1}}\\quad\\pi_2 = \\frac{x}{x_{1}}\\quad$"
     },
     "metadata": {},
     "output_type": "display_data"
    },
    {
     "data": {
      "text/plain": "<IPython.core.display.Markdown object>",
      "text/markdown": "---"
     },
     "metadata": {},
     "output_type": "display_data"
    },
    {
     "data": {
      "text/plain": "<IPython.core.display.Math object>",
      "text/latex": "$\\displaystyle \\text{Set }2: \\quad\\pi_1 = \\frac{x_{1}}{x_{2}}\\quad\\pi_2 = \\frac{x}{x_{2}}\\quad$"
     },
     "metadata": {},
     "output_type": "display_data"
    },
    {
     "data": {
      "text/plain": "<IPython.core.display.Markdown object>",
      "text/markdown": "---"
     },
     "metadata": {},
     "output_type": "display_data"
    },
    {
     "name": "stdout",
     "output_type": "stream",
     "text": [
      "None\n"
     ]
    },
    {
     "data": {
      "text/plain": "<IPython.core.display.Math object>",
      "text/latex": "$\\displaystyle \\text{Set }1: \\quad\\pi_1 = \\frac{x_{2}}{x_{1}}\\quad\\pi_2 = \\frac{x}{x_{1}}\\quad$"
     },
     "metadata": {},
     "output_type": "display_data"
    },
    {
     "data": {
      "text/plain": "<IPython.core.display.Markdown object>",
      "text/markdown": "---"
     },
     "metadata": {},
     "output_type": "display_data"
    },
    {
     "data": {
      "text/plain": "<IPython.core.display.Math object>",
      "text/latex": "$\\displaystyle \\text{Set }2: \\quad\\pi_1 = \\frac{x_{1}}{x_{2}}\\quad\\pi_2 = \\frac{x}{x_{2}}\\quad$"
     },
     "metadata": {},
     "output_type": "display_data"
    },
    {
     "data": {
      "text/plain": "<IPython.core.display.Markdown object>",
      "text/markdown": "---"
     },
     "metadata": {},
     "output_type": "display_data"
    },
    {
     "name": "stdout",
     "output_type": "stream",
     "text": [
      "None\n"
     ]
    },
    {
     "data": {
      "text/plain": "<IPython.core.display.Math object>",
      "text/latex": "$\\displaystyle \\text{Set }1: \\quad\\pi_1 = \\frac{x_{2}}{x_{1}}\\quad\\pi_2 = \\frac{x}{x_{1}}\\quad$"
     },
     "metadata": {},
     "output_type": "display_data"
    },
    {
     "data": {
      "text/plain": "<IPython.core.display.Markdown object>",
      "text/markdown": "---"
     },
     "metadata": {},
     "output_type": "display_data"
    },
    {
     "data": {
      "text/plain": "<IPython.core.display.Math object>",
      "text/latex": "$\\displaystyle \\text{Set }2: \\quad\\pi_1 = \\frac{x_{1}}{x_{2}}\\quad\\pi_2 = \\frac{x}{x_{2}}\\quad$"
     },
     "metadata": {},
     "output_type": "display_data"
    },
    {
     "data": {
      "text/plain": "<IPython.core.display.Markdown object>",
      "text/markdown": "---"
     },
     "metadata": {},
     "output_type": "display_data"
    },
    {
     "name": "stdout",
     "output_type": "stream",
     "text": [
      "None\n"
     ]
    }
   ],
   "source": [
    "I_29_16_data = pd.read_csv('Test_Data_Final/I_29_16/I_29_16_train.txt', header=None, sep=' ')\n",
    "bp_e2 = expr_vars_to_dimless_groups(\"x1 x2 theta1 theta2\",\"x\", \"units.csv\")\n",
    "#bp_e1 = expr_vars_to_dimless_groups(\"m1 m2 r1 r2\",\"U\", \"units.csv\")\n",
    "print(\"____________________\")\n",
    "#dimless_data = dimless_groups_to_dimless_data(I_13_12_data.to_numpy(), bp_e1, \"G m1 m2 r1 r2 U\")\n",
    "dimless_data = dimless_groups_to_dimless_data(I_29_16_data.to_numpy(), bp_e2, \"x1 x2 theta1 theta2 x\")\n",
    "for i in range(len(dimless_data)):\n",
    "    np.savetxt(\"Test_Data_Final/I_29_16_dimless/I_29_16_train_dimless_set_\"+str(i)+\".txt\", dimless_data[i])\n",
    "\n",
    "I_29_16_extrap_data = pd.read_csv('Test_Data_Final/I_29_16/I_29_16_test.txt', header=None, sep=' ')\n",
    "dimless_data = dimless_groups_to_dimless_data(I_29_16_extrap_data.to_numpy(), bp_e2, \"x1 x2 theta1 theta2 x\")\n",
    "for i in range(len(dimless_data)):\n",
    "    np.savetxt(\"Test_Data_Final/I_29_16_dimless/I_29_16_test_dimless_set_\"+str(i)+\".txt\", dimless_data[i])\n",
    "\n",
    "I_29_16_extrap_data = pd.read_csv('Test_Data_Final/I_29_16/I_29_16_extrap_1.txt', header=None, sep=' ')\n",
    "dimless_data = dimless_groups_to_dimless_data(I_29_16_extrap_data.to_numpy(), bp_e2, \"x1 x2 theta1 theta2 x\")\n",
    "for i in range(len(dimless_data)):\n",
    "    np.savetxt(\"Test_Data_Final/I_29_16_dimless/I_29_16_extrap_1_dimless_set_\"+str(i)+\".txt\", dimless_data[i])\n",
    "\n",
    "I_29_16_extrap_data = pd.read_csv('Test_Data_Final/I_29_16/I_29_16_extrap_2.txt', header=None, sep=' ')\n",
    "dimless_data = dimless_groups_to_dimless_data(I_29_16_extrap_data.to_numpy(), bp_e2, \"x1 x2 theta1 theta2 x\")\n",
    "for i in range(len(dimless_data)):\n",
    "    np.savetxt(\"Test_Data_Final/I_29_16_dimless/I_29_16_extrap_2_dimless_set_\"+str(i)+\".txt\", dimless_data[i])\n",
    "\n",
    "I_29_16_extrap_data = pd.read_csv('Test_Data_Final/I_29_16/I_29_16_extrap_3.txt', header=None, sep=' ')\n",
    "dimless_data = dimless_groups_to_dimless_data(I_29_16_extrap_data.to_numpy(), bp_e2, \"x1 x2 theta1 theta2 x\")\n",
    "for i in range(len(dimless_data)):\n",
    "    np.savetxt(\"Test_Data_Final/I_29_16_dimless/I_29_16_extrap_3_dimless_set_\"+str(i)+\".txt\", dimless_data[i])"
   ],
   "metadata": {
    "collapsed": false,
    "pycharm": {
     "name": "#%%\n"
    }
   }
  },
  {
   "cell_type": "code",
   "execution_count": 11,
   "outputs": [
    {
     "name": "stdout",
     "output_type": "stream",
     "text": [
      "epsilon\n",
      "c\n",
      "Ef\n",
      "r\n",
      "omega\n",
      "omega_0\n",
      "____________________\n"
     ]
    },
    {
     "data": {
      "text/plain": "<IPython.core.display.Math object>",
      "text/latex": "$\\displaystyle \\text{Set }1: \\quad\\pi_1 = \\frac{\\omega r}{c}\\quad\\pi_2 = \\frac{\\omega_{0} r}{c}\\quad\\pi_3 = \\frac{c p}{Ef^{2} \\epsilon r^{3}}\\quad$"
     },
     "metadata": {},
     "output_type": "display_data"
    },
    {
     "data": {
      "text/plain": "<IPython.core.display.Markdown object>",
      "text/markdown": "---"
     },
     "metadata": {},
     "output_type": "display_data"
    },
    {
     "data": {
      "text/plain": "<IPython.core.display.Math object>",
      "text/latex": "$\\displaystyle \\text{Set }2: \\quad\\pi_1 = \\frac{\\omega r}{c}\\quad\\pi_2 = \\frac{\\omega_{0}}{\\omega}\\quad\\pi_3 = \\frac{\\omega^{3} p}{Ef^{2} c^{2} \\epsilon}\\quad$"
     },
     "metadata": {},
     "output_type": "display_data"
    },
    {
     "data": {
      "text/plain": "<IPython.core.display.Markdown object>",
      "text/markdown": "---"
     },
     "metadata": {},
     "output_type": "display_data"
    },
    {
     "data": {
      "text/plain": "<IPython.core.display.Math object>",
      "text/latex": "$\\displaystyle \\text{Set }3: \\quad\\pi_1 = \\frac{\\omega_{0} r}{c}\\quad\\pi_2 = \\frac{\\omega}{\\omega_{0}}\\quad\\pi_3 = \\frac{\\omega_{0}^{3} p}{Ef^{2} c^{2} \\epsilon}\\quad$"
     },
     "metadata": {},
     "output_type": "display_data"
    },
    {
     "data": {
      "text/plain": "<IPython.core.display.Markdown object>",
      "text/markdown": "---"
     },
     "metadata": {},
     "output_type": "display_data"
    },
    {
     "data": {
      "text/plain": "<IPython.core.display.Math object>",
      "text/latex": "$\\displaystyle \\text{Set }4: \\quad\\pi_1 = \\frac{c}{\\omega r}\\quad\\pi_2 = \\frac{\\omega_{0}}{\\omega}\\quad\\pi_3 = \\frac{\\omega p}{Ef^{2} \\epsilon r^{2}}\\quad$"
     },
     "metadata": {},
     "output_type": "display_data"
    },
    {
     "data": {
      "text/plain": "<IPython.core.display.Markdown object>",
      "text/markdown": "---"
     },
     "metadata": {},
     "output_type": "display_data"
    },
    {
     "data": {
      "text/plain": "<IPython.core.display.Math object>",
      "text/latex": "$\\displaystyle \\text{Set }5: \\quad\\pi_1 = \\frac{c}{\\omega_{0} r}\\quad\\pi_2 = \\frac{\\omega}{\\omega_{0}}\\quad\\pi_3 = \\frac{\\omega_{0} p}{Ef^{2} \\epsilon r^{2}}\\quad$"
     },
     "metadata": {},
     "output_type": "display_data"
    },
    {
     "data": {
      "text/plain": "<IPython.core.display.Markdown object>",
      "text/markdown": "---"
     },
     "metadata": {},
     "output_type": "display_data"
    },
    {
     "name": "stdout",
     "output_type": "stream",
     "text": [
      "None\n"
     ]
    },
    {
     "data": {
      "text/plain": "<IPython.core.display.Math object>",
      "text/latex": "$\\displaystyle \\text{Set }1: \\quad\\pi_1 = \\frac{\\omega r}{c}\\quad\\pi_2 = \\frac{\\omega_{0} r}{c}\\quad\\pi_3 = \\frac{c p}{Ef^{2} \\epsilon r^{3}}\\quad$"
     },
     "metadata": {},
     "output_type": "display_data"
    },
    {
     "data": {
      "text/plain": "<IPython.core.display.Markdown object>",
      "text/markdown": "---"
     },
     "metadata": {},
     "output_type": "display_data"
    },
    {
     "data": {
      "text/plain": "<IPython.core.display.Math object>",
      "text/latex": "$\\displaystyle \\text{Set }2: \\quad\\pi_1 = \\frac{\\omega r}{c}\\quad\\pi_2 = \\frac{\\omega_{0}}{\\omega}\\quad\\pi_3 = \\frac{\\omega^{3} p}{Ef^{2} c^{2} \\epsilon}\\quad$"
     },
     "metadata": {},
     "output_type": "display_data"
    },
    {
     "data": {
      "text/plain": "<IPython.core.display.Markdown object>",
      "text/markdown": "---"
     },
     "metadata": {},
     "output_type": "display_data"
    },
    {
     "data": {
      "text/plain": "<IPython.core.display.Math object>",
      "text/latex": "$\\displaystyle \\text{Set }3: \\quad\\pi_1 = \\frac{\\omega_{0} r}{c}\\quad\\pi_2 = \\frac{\\omega}{\\omega_{0}}\\quad\\pi_3 = \\frac{\\omega_{0}^{3} p}{Ef^{2} c^{2} \\epsilon}\\quad$"
     },
     "metadata": {},
     "output_type": "display_data"
    },
    {
     "data": {
      "text/plain": "<IPython.core.display.Markdown object>",
      "text/markdown": "---"
     },
     "metadata": {},
     "output_type": "display_data"
    },
    {
     "data": {
      "text/plain": "<IPython.core.display.Math object>",
      "text/latex": "$\\displaystyle \\text{Set }4: \\quad\\pi_1 = \\frac{c}{\\omega r}\\quad\\pi_2 = \\frac{\\omega_{0}}{\\omega}\\quad\\pi_3 = \\frac{\\omega p}{Ef^{2} \\epsilon r^{2}}\\quad$"
     },
     "metadata": {},
     "output_type": "display_data"
    },
    {
     "data": {
      "text/plain": "<IPython.core.display.Markdown object>",
      "text/markdown": "---"
     },
     "metadata": {},
     "output_type": "display_data"
    },
    {
     "data": {
      "text/plain": "<IPython.core.display.Math object>",
      "text/latex": "$\\displaystyle \\text{Set }5: \\quad\\pi_1 = \\frac{c}{\\omega_{0} r}\\quad\\pi_2 = \\frac{\\omega}{\\omega_{0}}\\quad\\pi_3 = \\frac{\\omega_{0} p}{Ef^{2} \\epsilon r^{2}}\\quad$"
     },
     "metadata": {},
     "output_type": "display_data"
    },
    {
     "data": {
      "text/plain": "<IPython.core.display.Markdown object>",
      "text/markdown": "---"
     },
     "metadata": {},
     "output_type": "display_data"
    },
    {
     "name": "stdout",
     "output_type": "stream",
     "text": [
      "None\n"
     ]
    },
    {
     "data": {
      "text/plain": "<IPython.core.display.Math object>",
      "text/latex": "$\\displaystyle \\text{Set }1: \\quad\\pi_1 = \\frac{\\omega r}{c}\\quad\\pi_2 = \\frac{\\omega_{0} r}{c}\\quad\\pi_3 = \\frac{c p}{Ef^{2} \\epsilon r^{3}}\\quad$"
     },
     "metadata": {},
     "output_type": "display_data"
    },
    {
     "data": {
      "text/plain": "<IPython.core.display.Markdown object>",
      "text/markdown": "---"
     },
     "metadata": {},
     "output_type": "display_data"
    },
    {
     "data": {
      "text/plain": "<IPython.core.display.Math object>",
      "text/latex": "$\\displaystyle \\text{Set }2: \\quad\\pi_1 = \\frac{\\omega r}{c}\\quad\\pi_2 = \\frac{\\omega_{0}}{\\omega}\\quad\\pi_3 = \\frac{\\omega^{3} p}{Ef^{2} c^{2} \\epsilon}\\quad$"
     },
     "metadata": {},
     "output_type": "display_data"
    },
    {
     "data": {
      "text/plain": "<IPython.core.display.Markdown object>",
      "text/markdown": "---"
     },
     "metadata": {},
     "output_type": "display_data"
    },
    {
     "data": {
      "text/plain": "<IPython.core.display.Math object>",
      "text/latex": "$\\displaystyle \\text{Set }3: \\quad\\pi_1 = \\frac{\\omega_{0} r}{c}\\quad\\pi_2 = \\frac{\\omega}{\\omega_{0}}\\quad\\pi_3 = \\frac{\\omega_{0}^{3} p}{Ef^{2} c^{2} \\epsilon}\\quad$"
     },
     "metadata": {},
     "output_type": "display_data"
    },
    {
     "data": {
      "text/plain": "<IPython.core.display.Markdown object>",
      "text/markdown": "---"
     },
     "metadata": {},
     "output_type": "display_data"
    },
    {
     "data": {
      "text/plain": "<IPython.core.display.Math object>",
      "text/latex": "$\\displaystyle \\text{Set }4: \\quad\\pi_1 = \\frac{c}{\\omega r}\\quad\\pi_2 = \\frac{\\omega_{0}}{\\omega}\\quad\\pi_3 = \\frac{\\omega p}{Ef^{2} \\epsilon r^{2}}\\quad$"
     },
     "metadata": {},
     "output_type": "display_data"
    },
    {
     "data": {
      "text/plain": "<IPython.core.display.Markdown object>",
      "text/markdown": "---"
     },
     "metadata": {},
     "output_type": "display_data"
    },
    {
     "data": {
      "text/plain": "<IPython.core.display.Math object>",
      "text/latex": "$\\displaystyle \\text{Set }5: \\quad\\pi_1 = \\frac{c}{\\omega_{0} r}\\quad\\pi_2 = \\frac{\\omega}{\\omega_{0}}\\quad\\pi_3 = \\frac{\\omega_{0} p}{Ef^{2} \\epsilon r^{2}}\\quad$"
     },
     "metadata": {},
     "output_type": "display_data"
    },
    {
     "data": {
      "text/plain": "<IPython.core.display.Markdown object>",
      "text/markdown": "---"
     },
     "metadata": {},
     "output_type": "display_data"
    },
    {
     "name": "stdout",
     "output_type": "stream",
     "text": [
      "None\n"
     ]
    },
    {
     "data": {
      "text/plain": "<IPython.core.display.Math object>",
      "text/latex": "$\\displaystyle \\text{Set }1: \\quad\\pi_1 = \\frac{\\omega r}{c}\\quad\\pi_2 = \\frac{\\omega_{0} r}{c}\\quad\\pi_3 = \\frac{c p}{Ef^{2} \\epsilon r^{3}}\\quad$"
     },
     "metadata": {},
     "output_type": "display_data"
    },
    {
     "data": {
      "text/plain": "<IPython.core.display.Markdown object>",
      "text/markdown": "---"
     },
     "metadata": {},
     "output_type": "display_data"
    },
    {
     "data": {
      "text/plain": "<IPython.core.display.Math object>",
      "text/latex": "$\\displaystyle \\text{Set }2: \\quad\\pi_1 = \\frac{\\omega r}{c}\\quad\\pi_2 = \\frac{\\omega_{0}}{\\omega}\\quad\\pi_3 = \\frac{\\omega^{3} p}{Ef^{2} c^{2} \\epsilon}\\quad$"
     },
     "metadata": {},
     "output_type": "display_data"
    },
    {
     "data": {
      "text/plain": "<IPython.core.display.Markdown object>",
      "text/markdown": "---"
     },
     "metadata": {},
     "output_type": "display_data"
    },
    {
     "data": {
      "text/plain": "<IPython.core.display.Math object>",
      "text/latex": "$\\displaystyle \\text{Set }3: \\quad\\pi_1 = \\frac{\\omega_{0} r}{c}\\quad\\pi_2 = \\frac{\\omega}{\\omega_{0}}\\quad\\pi_3 = \\frac{\\omega_{0}^{3} p}{Ef^{2} c^{2} \\epsilon}\\quad$"
     },
     "metadata": {},
     "output_type": "display_data"
    },
    {
     "data": {
      "text/plain": "<IPython.core.display.Markdown object>",
      "text/markdown": "---"
     },
     "metadata": {},
     "output_type": "display_data"
    },
    {
     "data": {
      "text/plain": "<IPython.core.display.Math object>",
      "text/latex": "$\\displaystyle \\text{Set }4: \\quad\\pi_1 = \\frac{c}{\\omega r}\\quad\\pi_2 = \\frac{\\omega_{0}}{\\omega}\\quad\\pi_3 = \\frac{\\omega p}{Ef^{2} \\epsilon r^{2}}\\quad$"
     },
     "metadata": {},
     "output_type": "display_data"
    },
    {
     "data": {
      "text/plain": "<IPython.core.display.Markdown object>",
      "text/markdown": "---"
     },
     "metadata": {},
     "output_type": "display_data"
    },
    {
     "data": {
      "text/plain": "<IPython.core.display.Math object>",
      "text/latex": "$\\displaystyle \\text{Set }5: \\quad\\pi_1 = \\frac{c}{\\omega_{0} r}\\quad\\pi_2 = \\frac{\\omega}{\\omega_{0}}\\quad\\pi_3 = \\frac{\\omega_{0} p}{Ef^{2} \\epsilon r^{2}}\\quad$"
     },
     "metadata": {},
     "output_type": "display_data"
    },
    {
     "data": {
      "text/plain": "<IPython.core.display.Markdown object>",
      "text/markdown": "---"
     },
     "metadata": {},
     "output_type": "display_data"
    },
    {
     "name": "stdout",
     "output_type": "stream",
     "text": [
      "None\n"
     ]
    },
    {
     "data": {
      "text/plain": "<IPython.core.display.Math object>",
      "text/latex": "$\\displaystyle \\text{Set }1: \\quad\\pi_1 = \\frac{\\omega r}{c}\\quad\\pi_2 = \\frac{\\omega_{0} r}{c}\\quad\\pi_3 = \\frac{c p}{Ef^{2} \\epsilon r^{3}}\\quad$"
     },
     "metadata": {},
     "output_type": "display_data"
    },
    {
     "data": {
      "text/plain": "<IPython.core.display.Markdown object>",
      "text/markdown": "---"
     },
     "metadata": {},
     "output_type": "display_data"
    },
    {
     "data": {
      "text/plain": "<IPython.core.display.Math object>",
      "text/latex": "$\\displaystyle \\text{Set }2: \\quad\\pi_1 = \\frac{\\omega r}{c}\\quad\\pi_2 = \\frac{\\omega_{0}}{\\omega}\\quad\\pi_3 = \\frac{\\omega^{3} p}{Ef^{2} c^{2} \\epsilon}\\quad$"
     },
     "metadata": {},
     "output_type": "display_data"
    },
    {
     "data": {
      "text/plain": "<IPython.core.display.Markdown object>",
      "text/markdown": "---"
     },
     "metadata": {},
     "output_type": "display_data"
    },
    {
     "data": {
      "text/plain": "<IPython.core.display.Math object>",
      "text/latex": "$\\displaystyle \\text{Set }3: \\quad\\pi_1 = \\frac{\\omega_{0} r}{c}\\quad\\pi_2 = \\frac{\\omega}{\\omega_{0}}\\quad\\pi_3 = \\frac{\\omega_{0}^{3} p}{Ef^{2} c^{2} \\epsilon}\\quad$"
     },
     "metadata": {},
     "output_type": "display_data"
    },
    {
     "data": {
      "text/plain": "<IPython.core.display.Markdown object>",
      "text/markdown": "---"
     },
     "metadata": {},
     "output_type": "display_data"
    },
    {
     "data": {
      "text/plain": "<IPython.core.display.Math object>",
      "text/latex": "$\\displaystyle \\text{Set }4: \\quad\\pi_1 = \\frac{c}{\\omega r}\\quad\\pi_2 = \\frac{\\omega_{0}}{\\omega}\\quad\\pi_3 = \\frac{\\omega p}{Ef^{2} \\epsilon r^{2}}\\quad$"
     },
     "metadata": {},
     "output_type": "display_data"
    },
    {
     "data": {
      "text/plain": "<IPython.core.display.Markdown object>",
      "text/markdown": "---"
     },
     "metadata": {},
     "output_type": "display_data"
    },
    {
     "data": {
      "text/plain": "<IPython.core.display.Math object>",
      "text/latex": "$\\displaystyle \\text{Set }5: \\quad\\pi_1 = \\frac{c}{\\omega_{0} r}\\quad\\pi_2 = \\frac{\\omega}{\\omega_{0}}\\quad\\pi_3 = \\frac{\\omega_{0} p}{Ef^{2} \\epsilon r^{2}}\\quad$"
     },
     "metadata": {},
     "output_type": "display_data"
    },
    {
     "data": {
      "text/plain": "<IPython.core.display.Markdown object>",
      "text/markdown": "---"
     },
     "metadata": {},
     "output_type": "display_data"
    },
    {
     "name": "stdout",
     "output_type": "stream",
     "text": [
      "None\n"
     ]
    }
   ],
   "source": [
    "I_32_17_data = pd.read_csv('Test_Data_Final/I_32_17/I_32_17_train.txt', header=None, sep=' ')\n",
    "bp_e2 = expr_vars_to_dimless_groups(\"epsilon c Ef r omega omega_0\",\"p\", \"units.csv\")\n",
    "#bp_e1 = expr_vars_to_dimless_groups(\"m1 m2 r1 r2\",\"U\", \"units.csv\")\n",
    "print(\"____________________\")\n",
    "#dimless_data = dimless_groups_to_dimless_data(I_13_12_data.to_numpy(), bp_e1, \"G m1 m2 r1 r2 U\")\n",
    "dimless_data = dimless_groups_to_dimless_data(I_32_17_data.to_numpy(), bp_e2, \"epsilon c Ef r omega omega_0 p\")\n",
    "for i in range(len(dimless_data)):\n",
    "    np.savetxt(\"Test_Data_Final/I_32_17_dimless/I_32_17_train_dimless_set_\"+str(i)+\".txt\", dimless_data[i])\n",
    "\n",
    "I_32_17_extrap_data = pd.read_csv('Test_Data_Final/I_32_17/I_32_17_test.txt', header=None, sep=' ')\n",
    "dimless_data = dimless_groups_to_dimless_data(I_32_17_extrap_data.to_numpy(), bp_e2, \"epsilon c Ef r omega omega_0 p\")\n",
    "for i in range(len(dimless_data)):\n",
    "    np.savetxt(\"Test_Data_Final/I_32_17_dimless/I_32_17_test_dimless_set_\"+str(i)+\".txt\", dimless_data[i])\n",
    "\n",
    "I_32_17_extrap_data = pd.read_csv('Test_Data_Final/I_32_17/I_32_17_extrap_1.txt', header=None, sep=' ')\n",
    "dimless_data = dimless_groups_to_dimless_data(I_32_17_extrap_data.to_numpy(), bp_e2, \"epsilon c Ef r omega omega_0 p\")\n",
    "for i in range(len(dimless_data)):\n",
    "    np.savetxt(\"Test_Data_Final/I_32_17_dimless/I_32_17_extrap_1_dimless_set_\"+str(i)+\".txt\", dimless_data[i])\n",
    "\n",
    "I_32_17_extrap_data = pd.read_csv('Test_Data_Final/I_32_17/I_32_17_extrap_2.txt', header=None, sep=' ')\n",
    "dimless_data = dimless_groups_to_dimless_data(I_32_17_extrap_data.to_numpy(), bp_e2, \"epsilon c Ef r omega omega_0 p\")\n",
    "for i in range(len(dimless_data)):\n",
    "    np.savetxt(\"Test_Data_Final/I_32_17_dimless/I_32_17_extrap_2_dimless_set_\"+str(i)+\".txt\", dimless_data[i])\n",
    "\n",
    "I_32_17_extrap_data = pd.read_csv('Test_Data_Final/I_32_17/I_32_17_extrap_3.txt', header=None, sep=' ')\n",
    "dimless_data = dimless_groups_to_dimless_data(I_32_17_extrap_data.to_numpy(), bp_e2, \"epsilon c Ef r omega omega_0 p\")\n",
    "for i in range(len(dimless_data)):\n",
    "    np.savetxt(\"Test_Data_Final/I_32_17_dimless/I_32_17_extrap_3_dimless_set_\"+str(i)+\".txt\", dimless_data[i])"
   ],
   "metadata": {
    "collapsed": false,
    "pycharm": {
     "name": "#%%\n"
    }
   }
  },
  {
   "cell_type": "code",
   "execution_count": 30,
   "outputs": [
    {
     "name": "stdout",
     "output_type": "stream",
     "text": [
      "None\n"
     ]
    }
   ],
   "source": [
    "ex = BuckinghamPi()\n",
    "\n",
    "ex.add_variable(name='m1', dimensions=\"K\")\n",
    "ex.add_variable(name='m2', dimensions=\"K\")\n",
    "ex.add_variable(name='r1', dimensions=\"M\")\n",
    "ex.add_variable(name='r2', dimensions=\"M\")\n",
    "#ex.add_variable(name='G', dimensions = \"\")\n",
    "ex.add_variable(name='U', dimensions = \"M^2*S^(-2)*K\", non_repeating=True)\n",
    "\n",
    "ex.generate_pi_terms()\n",
    "\n",
    "print(ex.print_all())"
   ],
   "metadata": {
    "collapsed": false,
    "pycharm": {
     "name": "#%%\n"
    }
   }
  },
  {
   "cell_type": "code",
   "execution_count": 4,
   "outputs": [
    {
     "data": {
      "text/plain": "          0        1         2         3         4          5\n0  1.646440  2.14557  1.808290  1.634650  1.270960  -1.118210\n1  1.312760  2.67532  2.890990  1.150320  2.375180   4.551710\n2  1.704130  2.77679  0.213108  0.261388  0.060655 -12.767700\n3  2.334470  2.61004  2.935860  2.397480  1.384440  -5.459680\n4  0.354823  1.91976  0.430060  2.834010  1.565540  -0.083753",
      "text/html": "<div>\n<style scoped>\n    .dataframe tbody tr th:only-of-type {\n        vertical-align: middle;\n    }\n\n    .dataframe tbody tr th {\n        vertical-align: top;\n    }\n\n    .dataframe thead th {\n        text-align: right;\n    }\n</style>\n<table border=\"1\" class=\"dataframe\">\n  <thead>\n    <tr style=\"text-align: right;\">\n      <th></th>\n      <th>0</th>\n      <th>1</th>\n      <th>2</th>\n      <th>3</th>\n      <th>4</th>\n      <th>5</th>\n    </tr>\n  </thead>\n  <tbody>\n    <tr>\n      <th>0</th>\n      <td>1.646440</td>\n      <td>2.14557</td>\n      <td>1.808290</td>\n      <td>1.634650</td>\n      <td>1.270960</td>\n      <td>-1.118210</td>\n    </tr>\n    <tr>\n      <th>1</th>\n      <td>1.312760</td>\n      <td>2.67532</td>\n      <td>2.890990</td>\n      <td>1.150320</td>\n      <td>2.375180</td>\n      <td>4.551710</td>\n    </tr>\n    <tr>\n      <th>2</th>\n      <td>1.704130</td>\n      <td>2.77679</td>\n      <td>0.213108</td>\n      <td>0.261388</td>\n      <td>0.060655</td>\n      <td>-12.767700</td>\n    </tr>\n    <tr>\n      <th>3</th>\n      <td>2.334470</td>\n      <td>2.61004</td>\n      <td>2.935860</td>\n      <td>2.397480</td>\n      <td>1.384440</td>\n      <td>-5.459680</td>\n    </tr>\n    <tr>\n      <th>4</th>\n      <td>0.354823</td>\n      <td>1.91976</td>\n      <td>0.430060</td>\n      <td>2.834010</td>\n      <td>1.565540</td>\n      <td>-0.083753</td>\n    </tr>\n  </tbody>\n</table>\n</div>"
     },
     "execution_count": 4,
     "metadata": {},
     "output_type": "execute_result"
    }
   ],
   "source": [
    "I_13_12_data = pd.read_csv('Test Data/normal/I_13_12_train.txt', header=None, sep=' ')\n",
    "I_13_12_data.head()"
   ],
   "metadata": {
    "collapsed": false,
    "pycharm": {
     "name": "#%%\n"
    }
   }
  },
  {
   "cell_type": "markdown",
   "source": [],
   "metadata": {
    "collapsed": false
   }
  },
  {
   "cell_type": "code",
   "execution_count": null,
   "outputs": [],
   "source": [
    "fma_data = np.ones((5, 3))\n",
    "fma_data[:,0] *= 2\n",
    "fma_data[:,1] *= 2\n",
    "fma_data[:,2] *= 4\n",
    "print(fma_data)\n",
    "dimless_data = dimless_groups_to_dimless_data(fma_data, Example, \"f m a\")\n",
    "print(dimless_data)"
   ],
   "metadata": {
    "collapsed": false,
    "pycharm": {
     "name": "#%%\n"
    }
   }
  },
  {
   "cell_type": "code",
   "execution_count": 41,
   "outputs": [
    {
     "name": "stdout",
     "output_type": "stream",
     "text": [
      "(60, 25) 25\n",
      "kg*m^(-3) T kg*s^(-1) T T kg*m^(-1)*s^(-2) m T kg*m^(-3) kg*m^(-3)\n"
     ]
    },
    {
     "data": {
      "text/plain": "         0         1         3         4         6         7         16   \n0  0.652778  0.187552  0.104175  0.698214  0.049065  0.217631  0.891566  \\\n1  0.743056  0.083135  0.124365  0.478571  0.046729  0.247934  0.903614   \n2  0.673611  0.035598  0.096860  0.485714  0.046729  0.179063  0.777108   \n3  0.763889  0.096346  0.182388  0.896429  0.046729  0.041322  0.626506   \n4  0.763889  0.091979  0.160461  0.780357  0.049065  0.275482  0.668675   \n\n         19        20        24  \n0  0.287101  0.475431  0.600000  \n1  0.121589  0.052420  0.139394  \n2  0.000000  0.000000  0.172727  \n3  0.294136  0.197692  0.515152  \n4  0.287402  0.195256  0.209091  ",
      "text/html": "<div>\n<style scoped>\n    .dataframe tbody tr th:only-of-type {\n        vertical-align: middle;\n    }\n\n    .dataframe tbody tr th {\n        vertical-align: top;\n    }\n\n    .dataframe thead th {\n        text-align: right;\n    }\n</style>\n<table border=\"1\" class=\"dataframe\">\n  <thead>\n    <tr style=\"text-align: right;\">\n      <th></th>\n      <th>0</th>\n      <th>1</th>\n      <th>3</th>\n      <th>4</th>\n      <th>6</th>\n      <th>7</th>\n      <th>16</th>\n      <th>19</th>\n      <th>20</th>\n      <th>24</th>\n    </tr>\n  </thead>\n  <tbody>\n    <tr>\n      <th>0</th>\n      <td>0.652778</td>\n      <td>0.187552</td>\n      <td>0.104175</td>\n      <td>0.698214</td>\n      <td>0.049065</td>\n      <td>0.217631</td>\n      <td>0.891566</td>\n      <td>0.287101</td>\n      <td>0.475431</td>\n      <td>0.600000</td>\n    </tr>\n    <tr>\n      <th>1</th>\n      <td>0.743056</td>\n      <td>0.083135</td>\n      <td>0.124365</td>\n      <td>0.478571</td>\n      <td>0.046729</td>\n      <td>0.247934</td>\n      <td>0.903614</td>\n      <td>0.121589</td>\n      <td>0.052420</td>\n      <td>0.139394</td>\n    </tr>\n    <tr>\n      <th>2</th>\n      <td>0.673611</td>\n      <td>0.035598</td>\n      <td>0.096860</td>\n      <td>0.485714</td>\n      <td>0.046729</td>\n      <td>0.179063</td>\n      <td>0.777108</td>\n      <td>0.000000</td>\n      <td>0.000000</td>\n      <td>0.172727</td>\n    </tr>\n    <tr>\n      <th>3</th>\n      <td>0.763889</td>\n      <td>0.096346</td>\n      <td>0.182388</td>\n      <td>0.896429</td>\n      <td>0.046729</td>\n      <td>0.041322</td>\n      <td>0.626506</td>\n      <td>0.294136</td>\n      <td>0.197692</td>\n      <td>0.515152</td>\n    </tr>\n    <tr>\n      <th>4</th>\n      <td>0.763889</td>\n      <td>0.091979</td>\n      <td>0.160461</td>\n      <td>0.780357</td>\n      <td>0.049065</td>\n      <td>0.275482</td>\n      <td>0.668675</td>\n      <td>0.287402</td>\n      <td>0.195256</td>\n      <td>0.209091</td>\n    </tr>\n  </tbody>\n</table>\n</div>"
     },
     "execution_count": 41,
     "metadata": {},
     "output_type": "execute_result"
    }
   ],
   "source": [
    "pg_data = pd.read_csv('Test_Data_Final/pg_data/pg_train.txt', header=None, sep=' ')\n",
    "pg_units = ['T', 'kg*s^(-1)', '-', 'T', 'T', '-', 'kg*m^(-1)*s^(-2)', 'm', '-', '-', '-', '-', '-', '-', '-', '-', 'T', '-', '-', 'kg*m^(-3)', 'kg*m^(-3)', '-', '-', '-', 'kg*m^(-3)']\n",
    "print(pg_data.shape,len(pg_units))\n",
    "# pg_columns = pg_data.columns\n",
    "# for i in range(len(pg_units)):\n",
    "#     if pg_units[i] == '-':\n",
    "#         del pg_data[pg_columns[i]]\n",
    "index_with_units = [i for i in range(len(pg_units)) if pg_units[i] != '-']\n",
    "pg_data = pg_data[index_with_units]\n",
    "pg_dep_unit = pg_units.pop(-1)\n",
    "pg_ind_units = (\" \".join(pg_units)).replace(' -','')\n",
    "print(pg_dep_unit, pg_ind_units)\n",
    "# #pg_column_index = list(pg_data.columns)\n",
    "#\n",
    "pg_data.head()"
   ],
   "metadata": {
    "collapsed": false,
    "pycharm": {
     "name": "#%%\n"
    }
   }
  },
  {
   "cell_type": "code",
   "execution_count": 42,
   "outputs": [
    {
     "name": "stdout",
     "output_type": "stream",
     "text": [
      "rho\n",
      "T\n",
      "mu_drift\n",
      "T1\n",
      "T2\n",
      "pr\n",
      "m\n",
      "T3\n",
      "rho_0\n",
      "____________________\n"
     ]
    }
   ],
   "source": [
    "pg_ind_units = \" rho T mu_drift T1 T2 pr m T3 rho_0\"\n",
    "pg_dep_unit = \"rho_1\"\n",
    "pg_e2 = expr_vars_to_dimless_groups(pg_ind_units,pg_dep_unit, \"units.csv\")\n",
    "print(\"____________________\")"
   ],
   "metadata": {
    "collapsed": false,
    "pycharm": {
     "name": "#%%\n"
    }
   }
  },
  {
   "cell_type": "code",
   "execution_count": 21,
   "outputs": [
    {
     "data": {
      "text/plain": "[0, 1, 3, 4, 6, 7, 16, 19, 20, 24]"
     },
     "execution_count": 21,
     "metadata": {},
     "output_type": "execute_result"
    }
   ],
   "source": [
    "index_with_units"
   ],
   "metadata": {
    "collapsed": false,
    "pycharm": {
     "name": "#%%\n"
    }
   }
  },
  {
   "cell_type": "code",
   "execution_count": 43,
   "outputs": [
    {
     "data": {
      "text/plain": "<IPython.core.display.Math object>",
      "text/latex": "$\\displaystyle \\text{Set }1: \\quad\\pi_1 = \\frac{T_{1}}{T}\\quad\\pi_2 = \\frac{T_{2}}{T}\\quad\\pi_3 = \\frac{m pr^{\\frac{3}{4}}}{\\mu_{drift}^{\\frac{3}{2}} \\sqrt[4]{\\rho}}\\quad\\pi_4 = \\frac{T_{3}}{T}\\quad\\pi_5 = \\frac{\\rho_{0}}{\\rho}\\quad\\pi_6 = \\frac{\\rho_{1}}{\\rho}\\quad$"
     },
     "metadata": {},
     "output_type": "display_data"
    },
    {
     "data": {
      "text/plain": "<IPython.core.display.Markdown object>",
      "text/markdown": "---"
     },
     "metadata": {},
     "output_type": "display_data"
    },
    {
     "data": {
      "text/plain": "<IPython.core.display.Math object>",
      "text/latex": "$\\displaystyle \\text{Set }2: \\quad\\pi_1 = \\frac{T_{1}}{T}\\quad\\pi_2 = \\frac{T_{2}}{T}\\quad\\pi_3 = \\frac{m^{\\frac{4}{3}} pr}{\\mu_{drift}^{2} \\sqrt[3]{\\rho}}\\quad\\pi_4 = \\frac{T_{3}}{T}\\quad\\pi_5 = \\frac{\\rho_{0}}{\\rho}\\quad\\pi_6 = \\frac{\\rho_{1}}{\\rho}\\quad$"
     },
     "metadata": {},
     "output_type": "display_data"
    },
    {
     "data": {
      "text/plain": "<IPython.core.display.Markdown object>",
      "text/markdown": "---"
     },
     "metadata": {},
     "output_type": "display_data"
    },
    {
     "data": {
      "text/plain": "<IPython.core.display.Math object>",
      "text/latex": "$\\displaystyle \\text{Set }3: \\quad\\pi_1 = \\frac{\\mu_{drift} \\sqrt[6]{\\rho}}{m^{\\frac{2}{3}} \\sqrt{pr}}\\quad\\pi_2 = \\frac{T_{1}}{T}\\quad\\pi_3 = \\frac{T_{2}}{T}\\quad\\pi_4 = \\frac{T_{3}}{T}\\quad\\pi_5 = \\frac{\\rho_{0}}{\\rho}\\quad\\pi_6 = \\frac{\\rho_{1}}{\\rho}\\quad$"
     },
     "metadata": {},
     "output_type": "display_data"
    },
    {
     "data": {
      "text/plain": "<IPython.core.display.Markdown object>",
      "text/markdown": "---"
     },
     "metadata": {},
     "output_type": "display_data"
    },
    {
     "data": {
      "text/plain": "<IPython.core.display.Math object>",
      "text/latex": "$\\displaystyle \\text{Set }4: \\quad\\pi_1 = \\frac{T}{T_{1}}\\quad\\pi_2 = \\frac{T_{2}}{T_{1}}\\quad\\pi_3 = \\frac{m pr^{\\frac{3}{4}}}{\\mu_{drift}^{\\frac{3}{2}} \\sqrt[4]{\\rho}}\\quad\\pi_4 = \\frac{T_{3}}{T_{1}}\\quad\\pi_5 = \\frac{\\rho_{0}}{\\rho}\\quad\\pi_6 = \\frac{\\rho_{1}}{\\rho}\\quad$"
     },
     "metadata": {},
     "output_type": "display_data"
    },
    {
     "data": {
      "text/plain": "<IPython.core.display.Markdown object>",
      "text/markdown": "---"
     },
     "metadata": {},
     "output_type": "display_data"
    },
    {
     "data": {
      "text/plain": "<IPython.core.display.Math object>",
      "text/latex": "$\\displaystyle \\text{Set }5: \\quad\\pi_1 = \\frac{T}{T_{1}}\\quad\\pi_2 = \\frac{T_{2}}{T_{1}}\\quad\\pi_3 = \\frac{m^{\\frac{4}{3}} pr}{\\mu_{drift}^{2} \\sqrt[3]{\\rho}}\\quad\\pi_4 = \\frac{T_{3}}{T_{1}}\\quad\\pi_5 = \\frac{\\rho_{0}}{\\rho}\\quad\\pi_6 = \\frac{\\rho_{1}}{\\rho}\\quad$"
     },
     "metadata": {},
     "output_type": "display_data"
    },
    {
     "data": {
      "text/plain": "<IPython.core.display.Markdown object>",
      "text/markdown": "---"
     },
     "metadata": {},
     "output_type": "display_data"
    },
    {
     "data": {
      "text/plain": "<IPython.core.display.Math object>",
      "text/latex": "$\\displaystyle \\text{Set }6: \\quad\\pi_1 = \\frac{T}{T_{2}}\\quad\\pi_2 = \\frac{T_{1}}{T_{2}}\\quad\\pi_3 = \\frac{m pr^{\\frac{3}{4}}}{\\mu_{drift}^{\\frac{3}{2}} \\sqrt[4]{\\rho}}\\quad\\pi_4 = \\frac{T_{3}}{T_{2}}\\quad\\pi_5 = \\frac{\\rho_{0}}{\\rho}\\quad\\pi_6 = \\frac{\\rho_{1}}{\\rho}\\quad$"
     },
     "metadata": {},
     "output_type": "display_data"
    },
    {
     "data": {
      "text/plain": "<IPython.core.display.Markdown object>",
      "text/markdown": "---"
     },
     "metadata": {},
     "output_type": "display_data"
    },
    {
     "data": {
      "text/plain": "<IPython.core.display.Math object>",
      "text/latex": "$\\displaystyle \\text{Set }7: \\quad\\pi_1 = \\frac{T}{T_{2}}\\quad\\pi_2 = \\frac{T_{1}}{T_{2}}\\quad\\pi_3 = \\frac{m^{\\frac{4}{3}} pr}{\\mu_{drift}^{2} \\sqrt[3]{\\rho}}\\quad\\pi_4 = \\frac{T_{3}}{T_{2}}\\quad\\pi_5 = \\frac{\\rho_{0}}{\\rho}\\quad\\pi_6 = \\frac{\\rho_{1}}{\\rho}\\quad$"
     },
     "metadata": {},
     "output_type": "display_data"
    },
    {
     "data": {
      "text/plain": "<IPython.core.display.Markdown object>",
      "text/markdown": "---"
     },
     "metadata": {},
     "output_type": "display_data"
    },
    {
     "data": {
      "text/plain": "<IPython.core.display.Math object>",
      "text/latex": "$\\displaystyle \\text{Set }8: \\quad\\pi_1 = \\frac{T}{T_{3}}\\quad\\pi_2 = \\frac{T_{1}}{T_{3}}\\quad\\pi_3 = \\frac{T_{2}}{T_{3}}\\quad\\pi_4 = \\frac{m pr^{\\frac{3}{4}}}{\\mu_{drift}^{\\frac{3}{2}} \\sqrt[4]{\\rho}}\\quad\\pi_5 = \\frac{\\rho_{0}}{\\rho}\\quad\\pi_6 = \\frac{\\rho_{1}}{\\rho}\\quad$"
     },
     "metadata": {},
     "output_type": "display_data"
    },
    {
     "data": {
      "text/plain": "<IPython.core.display.Markdown object>",
      "text/markdown": "---"
     },
     "metadata": {},
     "output_type": "display_data"
    },
    {
     "data": {
      "text/plain": "<IPython.core.display.Math object>",
      "text/latex": "$\\displaystyle \\text{Set }9: \\quad\\pi_1 = \\frac{T}{T_{3}}\\quad\\pi_2 = \\frac{T_{1}}{T_{3}}\\quad\\pi_3 = \\frac{T_{2}}{T_{3}}\\quad\\pi_4 = \\frac{m^{\\frac{4}{3}} pr}{\\mu_{drift}^{2} \\sqrt[3]{\\rho}}\\quad\\pi_5 = \\frac{\\rho_{0}}{\\rho}\\quad\\pi_6 = \\frac{\\rho_{1}}{\\rho}\\quad$"
     },
     "metadata": {},
     "output_type": "display_data"
    },
    {
     "data": {
      "text/plain": "<IPython.core.display.Markdown object>",
      "text/markdown": "---"
     },
     "metadata": {},
     "output_type": "display_data"
    },
    {
     "data": {
      "text/plain": "<IPython.core.display.Math object>",
      "text/latex": "$\\displaystyle \\text{Set }10: \\quad\\pi_1 = \\frac{T}{T_{1}}\\quad\\pi_2 = \\frac{\\mu_{drift} \\sqrt[6]{\\rho}}{m^{\\frac{2}{3}} \\sqrt{pr}}\\quad\\pi_3 = \\frac{T_{2}}{T_{1}}\\quad\\pi_4 = \\frac{T_{3}}{T_{1}}\\quad\\pi_5 = \\frac{\\rho_{0}}{\\rho}\\quad\\pi_6 = \\frac{\\rho_{1}}{\\rho}\\quad$"
     },
     "metadata": {},
     "output_type": "display_data"
    },
    {
     "data": {
      "text/plain": "<IPython.core.display.Markdown object>",
      "text/markdown": "---"
     },
     "metadata": {},
     "output_type": "display_data"
    },
    {
     "data": {
      "text/plain": "<IPython.core.display.Math object>",
      "text/latex": "$\\displaystyle \\text{Set }11: \\quad\\pi_1 = \\frac{T}{T_{2}}\\quad\\pi_2 = \\frac{\\mu_{drift} \\sqrt[6]{\\rho}}{m^{\\frac{2}{3}} \\sqrt{pr}}\\quad\\pi_3 = \\frac{T_{1}}{T_{2}}\\quad\\pi_4 = \\frac{T_{3}}{T_{2}}\\quad\\pi_5 = \\frac{\\rho_{0}}{\\rho}\\quad\\pi_6 = \\frac{\\rho_{1}}{\\rho}\\quad$"
     },
     "metadata": {},
     "output_type": "display_data"
    },
    {
     "data": {
      "text/plain": "<IPython.core.display.Markdown object>",
      "text/markdown": "---"
     },
     "metadata": {},
     "output_type": "display_data"
    },
    {
     "data": {
      "text/plain": "<IPython.core.display.Math object>",
      "text/latex": "$\\displaystyle \\text{Set }12: \\quad\\pi_1 = \\frac{T}{T_{3}}\\quad\\pi_2 = \\frac{\\mu_{drift} \\sqrt[6]{\\rho}}{m^{\\frac{2}{3}} \\sqrt{pr}}\\quad\\pi_3 = \\frac{T_{1}}{T_{3}}\\quad\\pi_4 = \\frac{T_{2}}{T_{3}}\\quad\\pi_5 = \\frac{\\rho_{0}}{\\rho}\\quad\\pi_6 = \\frac{\\rho_{1}}{\\rho}\\quad$"
     },
     "metadata": {},
     "output_type": "display_data"
    },
    {
     "data": {
      "text/plain": "<IPython.core.display.Markdown object>",
      "text/markdown": "---"
     },
     "metadata": {},
     "output_type": "display_data"
    },
    {
     "data": {
      "text/plain": "<IPython.core.display.Math object>",
      "text/latex": "$\\displaystyle \\text{Set }13: \\quad\\pi_1 = \\frac{\\mu_{drift}^{6} \\rho}{m^{4} pr^{3}}\\quad\\pi_2 = \\frac{T_{1}}{T}\\quad\\pi_3 = \\frac{T_{2}}{T}\\quad\\pi_4 = \\frac{T_{3}}{T}\\quad\\pi_5 = \\frac{\\mu_{drift}^{6} \\rho_{0}}{m^{4} pr^{3}}\\quad\\pi_6 = \\frac{\\mu_{drift}^{6} \\rho_{1}}{m^{4} pr^{3}}\\quad$"
     },
     "metadata": {},
     "output_type": "display_data"
    },
    {
     "data": {
      "text/plain": "<IPython.core.display.Markdown object>",
      "text/markdown": "---"
     },
     "metadata": {},
     "output_type": "display_data"
    },
    {
     "data": {
      "text/plain": "<IPython.core.display.Math object>",
      "text/latex": "$\\displaystyle \\text{Set }14: \\quad\\pi_1 = \\frac{\\rho}{\\rho_{0}}\\quad\\pi_2 = \\frac{T_{1}}{T}\\quad\\pi_3 = \\frac{T_{2}}{T}\\quad\\pi_4 = \\frac{m pr^{\\frac{3}{4}}}{\\mu_{drift}^{\\frac{3}{2}} \\sqrt[4]{\\rho_{0}}}\\quad\\pi_5 = \\frac{T_{3}}{T}\\quad\\pi_6 = \\frac{\\rho_{1}}{\\rho_{0}}\\quad$"
     },
     "metadata": {},
     "output_type": "display_data"
    },
    {
     "data": {
      "text/plain": "<IPython.core.display.Markdown object>",
      "text/markdown": "---"
     },
     "metadata": {},
     "output_type": "display_data"
    },
    {
     "data": {
      "text/plain": "<IPython.core.display.Math object>",
      "text/latex": "$\\displaystyle \\text{Set }15: \\quad\\pi_1 = \\frac{\\rho}{\\rho_{0}}\\quad\\pi_2 = \\frac{T_{1}}{T}\\quad\\pi_3 = \\frac{T_{2}}{T}\\quad\\pi_4 = \\frac{m^{\\frac{4}{3}} pr}{\\mu_{drift}^{2} \\sqrt[3]{\\rho_{0}}}\\quad\\pi_5 = \\frac{T_{3}}{T}\\quad\\pi_6 = \\frac{\\rho_{1}}{\\rho_{0}}\\quad$"
     },
     "metadata": {},
     "output_type": "display_data"
    },
    {
     "data": {
      "text/plain": "<IPython.core.display.Markdown object>",
      "text/markdown": "---"
     },
     "metadata": {},
     "output_type": "display_data"
    },
    {
     "data": {
      "text/plain": "<IPython.core.display.Math object>",
      "text/latex": "$\\displaystyle \\text{Set }16: \\quad\\pi_1 = \\frac{\\rho}{\\rho_{0}}\\quad\\pi_2 = \\frac{\\mu_{drift} \\sqrt[6]{\\rho_{0}}}{m^{\\frac{2}{3}} \\sqrt{pr}}\\quad\\pi_3 = \\frac{T_{1}}{T}\\quad\\pi_4 = \\frac{T_{2}}{T}\\quad\\pi_5 = \\frac{T_{3}}{T}\\quad\\pi_6 = \\frac{\\rho_{1}}{\\rho_{0}}\\quad$"
     },
     "metadata": {},
     "output_type": "display_data"
    },
    {
     "data": {
      "text/plain": "<IPython.core.display.Markdown object>",
      "text/markdown": "---"
     },
     "metadata": {},
     "output_type": "display_data"
    },
    {
     "data": {
      "text/plain": "<IPython.core.display.Math object>",
      "text/latex": "$\\displaystyle \\text{Set }17: \\quad\\pi_1 = \\frac{\\mu_{drift}^{6} \\rho}{m^{4} pr^{3}}\\quad\\pi_2 = \\frac{T}{T_{1}}\\quad\\pi_3 = \\frac{T_{2}}{T_{1}}\\quad\\pi_4 = \\frac{T_{3}}{T_{1}}\\quad\\pi_5 = \\frac{\\mu_{drift}^{6} \\rho_{0}}{m^{4} pr^{3}}\\quad\\pi_6 = \\frac{\\mu_{drift}^{6} \\rho_{1}}{m^{4} pr^{3}}\\quad$"
     },
     "metadata": {},
     "output_type": "display_data"
    },
    {
     "data": {
      "text/plain": "<IPython.core.display.Markdown object>",
      "text/markdown": "---"
     },
     "metadata": {},
     "output_type": "display_data"
    },
    {
     "data": {
      "text/plain": "<IPython.core.display.Math object>",
      "text/latex": "$\\displaystyle \\text{Set }18: \\quad\\pi_1 = \\frac{\\rho}{\\rho_{0}}\\quad\\pi_2 = \\frac{T}{T_{1}}\\quad\\pi_3 = \\frac{T_{2}}{T_{1}}\\quad\\pi_4 = \\frac{m pr^{\\frac{3}{4}}}{\\mu_{drift}^{\\frac{3}{2}} \\sqrt[4]{\\rho_{0}}}\\quad\\pi_5 = \\frac{T_{3}}{T_{1}}\\quad\\pi_6 = \\frac{\\rho_{1}}{\\rho_{0}}\\quad$"
     },
     "metadata": {},
     "output_type": "display_data"
    },
    {
     "data": {
      "text/plain": "<IPython.core.display.Markdown object>",
      "text/markdown": "---"
     },
     "metadata": {},
     "output_type": "display_data"
    },
    {
     "data": {
      "text/plain": "<IPython.core.display.Math object>",
      "text/latex": "$\\displaystyle \\text{Set }19: \\quad\\pi_1 = \\frac{\\rho}{\\rho_{0}}\\quad\\pi_2 = \\frac{T}{T_{1}}\\quad\\pi_3 = \\frac{T_{2}}{T_{1}}\\quad\\pi_4 = \\frac{m^{\\frac{4}{3}} pr}{\\mu_{drift}^{2} \\sqrt[3]{\\rho_{0}}}\\quad\\pi_5 = \\frac{T_{3}}{T_{1}}\\quad\\pi_6 = \\frac{\\rho_{1}}{\\rho_{0}}\\quad$"
     },
     "metadata": {},
     "output_type": "display_data"
    },
    {
     "data": {
      "text/plain": "<IPython.core.display.Markdown object>",
      "text/markdown": "---"
     },
     "metadata": {},
     "output_type": "display_data"
    },
    {
     "data": {
      "text/plain": "<IPython.core.display.Math object>",
      "text/latex": "$\\displaystyle \\text{Set }20: \\quad\\pi_1 = \\frac{\\mu_{drift}^{6} \\rho}{m^{4} pr^{3}}\\quad\\pi_2 = \\frac{T}{T_{2}}\\quad\\pi_3 = \\frac{T_{1}}{T_{2}}\\quad\\pi_4 = \\frac{T_{3}}{T_{2}}\\quad\\pi_5 = \\frac{\\mu_{drift}^{6} \\rho_{0}}{m^{4} pr^{3}}\\quad\\pi_6 = \\frac{\\mu_{drift}^{6} \\rho_{1}}{m^{4} pr^{3}}\\quad$"
     },
     "metadata": {},
     "output_type": "display_data"
    },
    {
     "data": {
      "text/plain": "<IPython.core.display.Markdown object>",
      "text/markdown": "---"
     },
     "metadata": {},
     "output_type": "display_data"
    },
    {
     "data": {
      "text/plain": "<IPython.core.display.Math object>",
      "text/latex": "$\\displaystyle \\text{Set }21: \\quad\\pi_1 = \\frac{\\rho}{\\rho_{0}}\\quad\\pi_2 = \\frac{T}{T_{2}}\\quad\\pi_3 = \\frac{T_{1}}{T_{2}}\\quad\\pi_4 = \\frac{m pr^{\\frac{3}{4}}}{\\mu_{drift}^{\\frac{3}{2}} \\sqrt[4]{\\rho_{0}}}\\quad\\pi_5 = \\frac{T_{3}}{T_{2}}\\quad\\pi_6 = \\frac{\\rho_{1}}{\\rho_{0}}\\quad$"
     },
     "metadata": {},
     "output_type": "display_data"
    },
    {
     "data": {
      "text/plain": "<IPython.core.display.Markdown object>",
      "text/markdown": "---"
     },
     "metadata": {},
     "output_type": "display_data"
    },
    {
     "data": {
      "text/plain": "<IPython.core.display.Math object>",
      "text/latex": "$\\displaystyle \\text{Set }22: \\quad\\pi_1 = \\frac{\\rho}{\\rho_{0}}\\quad\\pi_2 = \\frac{T}{T_{2}}\\quad\\pi_3 = \\frac{T_{1}}{T_{2}}\\quad\\pi_4 = \\frac{m^{\\frac{4}{3}} pr}{\\mu_{drift}^{2} \\sqrt[3]{\\rho_{0}}}\\quad\\pi_5 = \\frac{T_{3}}{T_{2}}\\quad\\pi_6 = \\frac{\\rho_{1}}{\\rho_{0}}\\quad$"
     },
     "metadata": {},
     "output_type": "display_data"
    },
    {
     "data": {
      "text/plain": "<IPython.core.display.Markdown object>",
      "text/markdown": "---"
     },
     "metadata": {},
     "output_type": "display_data"
    },
    {
     "data": {
      "text/plain": "<IPython.core.display.Math object>",
      "text/latex": "$\\displaystyle \\text{Set }23: \\quad\\pi_1 = \\frac{\\mu_{drift}^{6} \\rho}{m^{4} pr^{3}}\\quad\\pi_2 = \\frac{T}{T_{3}}\\quad\\pi_3 = \\frac{T_{1}}{T_{3}}\\quad\\pi_4 = \\frac{T_{2}}{T_{3}}\\quad\\pi_5 = \\frac{\\mu_{drift}^{6} \\rho_{0}}{m^{4} pr^{3}}\\quad\\pi_6 = \\frac{\\mu_{drift}^{6} \\rho_{1}}{m^{4} pr^{3}}\\quad$"
     },
     "metadata": {},
     "output_type": "display_data"
    },
    {
     "data": {
      "text/plain": "<IPython.core.display.Markdown object>",
      "text/markdown": "---"
     },
     "metadata": {},
     "output_type": "display_data"
    },
    {
     "data": {
      "text/plain": "<IPython.core.display.Math object>",
      "text/latex": "$\\displaystyle \\text{Set }24: \\quad\\pi_1 = \\frac{\\rho}{\\rho_{0}}\\quad\\pi_2 = \\frac{T}{T_{3}}\\quad\\pi_3 = \\frac{T_{1}}{T_{3}}\\quad\\pi_4 = \\frac{T_{2}}{T_{3}}\\quad\\pi_5 = \\frac{m pr^{\\frac{3}{4}}}{\\mu_{drift}^{\\frac{3}{2}} \\sqrt[4]{\\rho_{0}}}\\quad\\pi_6 = \\frac{\\rho_{1}}{\\rho_{0}}\\quad$"
     },
     "metadata": {},
     "output_type": "display_data"
    },
    {
     "data": {
      "text/plain": "<IPython.core.display.Markdown object>",
      "text/markdown": "---"
     },
     "metadata": {},
     "output_type": "display_data"
    },
    {
     "data": {
      "text/plain": "<IPython.core.display.Math object>",
      "text/latex": "$\\displaystyle \\text{Set }25: \\quad\\pi_1 = \\frac{\\rho}{\\rho_{0}}\\quad\\pi_2 = \\frac{T}{T_{3}}\\quad\\pi_3 = \\frac{T_{1}}{T_{3}}\\quad\\pi_4 = \\frac{T_{2}}{T_{3}}\\quad\\pi_5 = \\frac{m^{\\frac{4}{3}} pr}{\\mu_{drift}^{2} \\sqrt[3]{\\rho_{0}}}\\quad\\pi_6 = \\frac{\\rho_{1}}{\\rho_{0}}\\quad$"
     },
     "metadata": {},
     "output_type": "display_data"
    },
    {
     "data": {
      "text/plain": "<IPython.core.display.Markdown object>",
      "text/markdown": "---"
     },
     "metadata": {},
     "output_type": "display_data"
    },
    {
     "data": {
      "text/plain": "<IPython.core.display.Math object>",
      "text/latex": "$\\displaystyle \\text{Set }26: \\quad\\pi_1 = \\frac{\\rho}{\\rho_{0}}\\quad\\pi_2 = \\frac{T}{T_{1}}\\quad\\pi_3 = \\frac{\\mu_{drift} \\sqrt[6]{\\rho_{0}}}{m^{\\frac{2}{3}} \\sqrt{pr}}\\quad\\pi_4 = \\frac{T_{2}}{T_{1}}\\quad\\pi_5 = \\frac{T_{3}}{T_{1}}\\quad\\pi_6 = \\frac{\\rho_{1}}{\\rho_{0}}\\quad$"
     },
     "metadata": {},
     "output_type": "display_data"
    },
    {
     "data": {
      "text/plain": "<IPython.core.display.Markdown object>",
      "text/markdown": "---"
     },
     "metadata": {},
     "output_type": "display_data"
    },
    {
     "data": {
      "text/plain": "<IPython.core.display.Math object>",
      "text/latex": "$\\displaystyle \\text{Set }27: \\quad\\pi_1 = \\frac{\\rho}{\\rho_{0}}\\quad\\pi_2 = \\frac{T}{T_{2}}\\quad\\pi_3 = \\frac{\\mu_{drift} \\sqrt[6]{\\rho_{0}}}{m^{\\frac{2}{3}} \\sqrt{pr}}\\quad\\pi_4 = \\frac{T_{1}}{T_{2}}\\quad\\pi_5 = \\frac{T_{3}}{T_{2}}\\quad\\pi_6 = \\frac{\\rho_{1}}{\\rho_{0}}\\quad$"
     },
     "metadata": {},
     "output_type": "display_data"
    },
    {
     "data": {
      "text/plain": "<IPython.core.display.Markdown object>",
      "text/markdown": "---"
     },
     "metadata": {},
     "output_type": "display_data"
    },
    {
     "data": {
      "text/plain": "<IPython.core.display.Math object>",
      "text/latex": "$\\displaystyle \\text{Set }28: \\quad\\pi_1 = \\frac{\\rho}{\\rho_{0}}\\quad\\pi_2 = \\frac{T}{T_{3}}\\quad\\pi_3 = \\frac{\\mu_{drift} \\sqrt[6]{\\rho_{0}}}{m^{\\frac{2}{3}} \\sqrt{pr}}\\quad\\pi_4 = \\frac{T_{1}}{T_{3}}\\quad\\pi_5 = \\frac{T_{2}}{T_{3}}\\quad\\pi_6 = \\frac{\\rho_{1}}{\\rho_{0}}\\quad$"
     },
     "metadata": {},
     "output_type": "display_data"
    },
    {
     "data": {
      "text/plain": "<IPython.core.display.Markdown object>",
      "text/markdown": "---"
     },
     "metadata": {},
     "output_type": "display_data"
    },
    {
     "name": "stdout",
     "output_type": "stream",
     "text": [
      "None\n",
      "problem with set  0\n",
      "problem with set  1\n",
      "problem with set  2\n",
      "problem with set  3\n",
      "problem with set  4\n",
      "problem with set  7\n",
      "problem with set  8\n",
      "problem with set  9\n",
      "problem with set  11\n",
      "problem with set  12\n",
      "problem with set  13\n",
      "problem with set  14\n",
      "problem with set  15\n",
      "problem with set  16\n",
      "problem with set  17\n",
      "problem with set  18\n",
      "problem with set  19\n",
      "problem with set  20\n",
      "problem with set  21\n",
      "problem with set  22\n",
      "problem with set  23\n",
      "problem with set  24\n",
      "problem with set  25\n",
      "problem with set  26\n",
      "problem with set  27\n"
     ]
    },
    {
     "name": "stderr",
     "output_type": "stream",
     "text": [
      "<lambdifygenerated-308>:2: RuntimeWarning: divide by zero encountered in scalar divide\n",
      "  return mu_drift*rho**(1/6)/(m**(2/3)*sqrt(pr))\n",
      "<lambdifygenerated-328>:2: RuntimeWarning: divide by zero encountered in scalar divide\n",
      "  return mu_drift*rho**(1/6)/(m**(2/3)*sqrt(pr))\n"
     ]
    }
   ],
   "source": [
    "pg_all_units = pg_ind_units+\" \"+pg_dep_unit\n",
    "dimless_data = dimless_groups_to_dimless_data(pg_data.to_numpy(), pg_e2, pg_all_units)"
   ],
   "metadata": {
    "collapsed": false,
    "pycharm": {
     "name": "#%%\n"
    }
   }
  },
  {
   "cell_type": "code",
   "execution_count": null,
   "outputs": [],
   "source": [
    "pg_all_units = pg_ind_units+\" \"+pg_dep_unit\n",
    "dimless_data = dimless_groups_to_dimless_data(pg_data.to_numpy(), pg_e2, pg_all_units)\n",
    "pg_original = pd.read_csv('Test_Data_Final/pg_data/pg_train.txt', header=None, sep=' ')\n",
    "pg_original = pg_original[[2,9,10,18]]\n",
    "for i in range(len(dimless_data)):\n",
    "    if not isinstance(dimless_data[i], np.ndarray):\n",
    "        continue\n",
    "    full_data = pd.concat([pg_original.reset_index(drop=True), pd.DataFrame(dimless_data[i]).reset_index(drop=True)], axis=1).to_numpy()\n",
    "    np.savetxt(\"Test_Data_Final/pg_data_dimless/pg_train_dimless_set_\"+str(i)+\".txt\",full_data)"
   ],
   "metadata": {
    "collapsed": false,
    "pycharm": {
     "name": "#%%\n",
     "is_executing": true
    }
   }
  },
  {
   "cell_type": "code",
   "execution_count": 29,
   "outputs": [
    {
     "data": {
      "text/plain": "<IPython.core.display.Math object>",
      "text/latex": "$\\displaystyle \\text{Set }1: \\quad\\pi_1 = \\frac{T_{1}}{T}\\quad\\pi_2 = \\frac{T_{2}}{T}\\quad\\pi_3 = \\frac{m pr^{\\frac{3}{4}}}{\\mu_{drift}^{\\frac{3}{2}} \\sqrt[4]{\\rho}}\\quad\\pi_4 = \\frac{T_{3}}{T}\\quad\\pi_5 = \\frac{\\rho_{0}}{\\rho}\\quad\\pi_6 = \\frac{\\rho_{1}}{\\rho}\\quad$"
     },
     "metadata": {},
     "output_type": "display_data"
    },
    {
     "data": {
      "text/plain": "<IPython.core.display.Markdown object>",
      "text/markdown": "---"
     },
     "metadata": {},
     "output_type": "display_data"
    },
    {
     "data": {
      "text/plain": "<IPython.core.display.Math object>",
      "text/latex": "$\\displaystyle \\text{Set }2: \\quad\\pi_1 = \\frac{T_{1}}{T}\\quad\\pi_2 = \\frac{T_{2}}{T}\\quad\\pi_3 = \\frac{m^{\\frac{4}{3}} pr}{\\mu_{drift}^{2} \\sqrt[3]{\\rho}}\\quad\\pi_4 = \\frac{T_{3}}{T}\\quad\\pi_5 = \\frac{\\rho_{0}}{\\rho}\\quad\\pi_6 = \\frac{\\rho_{1}}{\\rho}\\quad$"
     },
     "metadata": {},
     "output_type": "display_data"
    },
    {
     "data": {
      "text/plain": "<IPython.core.display.Markdown object>",
      "text/markdown": "---"
     },
     "metadata": {},
     "output_type": "display_data"
    },
    {
     "data": {
      "text/plain": "<IPython.core.display.Math object>",
      "text/latex": "$\\displaystyle \\text{Set }3: \\quad\\pi_1 = \\frac{\\mu_{drift} \\sqrt[6]{\\rho}}{m^{\\frac{2}{3}} \\sqrt{pr}}\\quad\\pi_2 = \\frac{T_{1}}{T}\\quad\\pi_3 = \\frac{T_{2}}{T}\\quad\\pi_4 = \\frac{T_{3}}{T}\\quad\\pi_5 = \\frac{\\rho_{0}}{\\rho}\\quad\\pi_6 = \\frac{\\rho_{1}}{\\rho}\\quad$"
     },
     "metadata": {},
     "output_type": "display_data"
    },
    {
     "data": {
      "text/plain": "<IPython.core.display.Markdown object>",
      "text/markdown": "---"
     },
     "metadata": {},
     "output_type": "display_data"
    },
    {
     "data": {
      "text/plain": "<IPython.core.display.Math object>",
      "text/latex": "$\\displaystyle \\text{Set }4: \\quad\\pi_1 = \\frac{T}{T_{1}}\\quad\\pi_2 = \\frac{T_{2}}{T_{1}}\\quad\\pi_3 = \\frac{m pr^{\\frac{3}{4}}}{\\mu_{drift}^{\\frac{3}{2}} \\sqrt[4]{\\rho}}\\quad\\pi_4 = \\frac{T_{3}}{T_{1}}\\quad\\pi_5 = \\frac{\\rho_{0}}{\\rho}\\quad\\pi_6 = \\frac{\\rho_{1}}{\\rho}\\quad$"
     },
     "metadata": {},
     "output_type": "display_data"
    },
    {
     "data": {
      "text/plain": "<IPython.core.display.Markdown object>",
      "text/markdown": "---"
     },
     "metadata": {},
     "output_type": "display_data"
    },
    {
     "data": {
      "text/plain": "<IPython.core.display.Math object>",
      "text/latex": "$\\displaystyle \\text{Set }5: \\quad\\pi_1 = \\frac{T}{T_{1}}\\quad\\pi_2 = \\frac{T_{2}}{T_{1}}\\quad\\pi_3 = \\frac{m^{\\frac{4}{3}} pr}{\\mu_{drift}^{2} \\sqrt[3]{\\rho}}\\quad\\pi_4 = \\frac{T_{3}}{T_{1}}\\quad\\pi_5 = \\frac{\\rho_{0}}{\\rho}\\quad\\pi_6 = \\frac{\\rho_{1}}{\\rho}\\quad$"
     },
     "metadata": {},
     "output_type": "display_data"
    },
    {
     "data": {
      "text/plain": "<IPython.core.display.Markdown object>",
      "text/markdown": "---"
     },
     "metadata": {},
     "output_type": "display_data"
    },
    {
     "data": {
      "text/plain": "<IPython.core.display.Math object>",
      "text/latex": "$\\displaystyle \\text{Set }6: \\quad\\pi_1 = \\frac{T}{T_{2}}\\quad\\pi_2 = \\frac{T_{1}}{T_{2}}\\quad\\pi_3 = \\frac{m pr^{\\frac{3}{4}}}{\\mu_{drift}^{\\frac{3}{2}} \\sqrt[4]{\\rho}}\\quad\\pi_4 = \\frac{T_{3}}{T_{2}}\\quad\\pi_5 = \\frac{\\rho_{0}}{\\rho}\\quad\\pi_6 = \\frac{\\rho_{1}}{\\rho}\\quad$"
     },
     "metadata": {},
     "output_type": "display_data"
    },
    {
     "data": {
      "text/plain": "<IPython.core.display.Markdown object>",
      "text/markdown": "---"
     },
     "metadata": {},
     "output_type": "display_data"
    },
    {
     "data": {
      "text/plain": "<IPython.core.display.Math object>",
      "text/latex": "$\\displaystyle \\text{Set }7: \\quad\\pi_1 = \\frac{T}{T_{2}}\\quad\\pi_2 = \\frac{T_{1}}{T_{2}}\\quad\\pi_3 = \\frac{m^{\\frac{4}{3}} pr}{\\mu_{drift}^{2} \\sqrt[3]{\\rho}}\\quad\\pi_4 = \\frac{T_{3}}{T_{2}}\\quad\\pi_5 = \\frac{\\rho_{0}}{\\rho}\\quad\\pi_6 = \\frac{\\rho_{1}}{\\rho}\\quad$"
     },
     "metadata": {},
     "output_type": "display_data"
    },
    {
     "data": {
      "text/plain": "<IPython.core.display.Markdown object>",
      "text/markdown": "---"
     },
     "metadata": {},
     "output_type": "display_data"
    },
    {
     "data": {
      "text/plain": "<IPython.core.display.Math object>",
      "text/latex": "$\\displaystyle \\text{Set }8: \\quad\\pi_1 = \\frac{T}{T_{3}}\\quad\\pi_2 = \\frac{T_{1}}{T_{3}}\\quad\\pi_3 = \\frac{T_{2}}{T_{3}}\\quad\\pi_4 = \\frac{m pr^{\\frac{3}{4}}}{\\mu_{drift}^{\\frac{3}{2}} \\sqrt[4]{\\rho}}\\quad\\pi_5 = \\frac{\\rho_{0}}{\\rho}\\quad\\pi_6 = \\frac{\\rho_{1}}{\\rho}\\quad$"
     },
     "metadata": {},
     "output_type": "display_data"
    },
    {
     "data": {
      "text/plain": "<IPython.core.display.Markdown object>",
      "text/markdown": "---"
     },
     "metadata": {},
     "output_type": "display_data"
    },
    {
     "data": {
      "text/plain": "<IPython.core.display.Math object>",
      "text/latex": "$\\displaystyle \\text{Set }9: \\quad\\pi_1 = \\frac{T}{T_{3}}\\quad\\pi_2 = \\frac{T_{1}}{T_{3}}\\quad\\pi_3 = \\frac{T_{2}}{T_{3}}\\quad\\pi_4 = \\frac{m^{\\frac{4}{3}} pr}{\\mu_{drift}^{2} \\sqrt[3]{\\rho}}\\quad\\pi_5 = \\frac{\\rho_{0}}{\\rho}\\quad\\pi_6 = \\frac{\\rho_{1}}{\\rho}\\quad$"
     },
     "metadata": {},
     "output_type": "display_data"
    },
    {
     "data": {
      "text/plain": "<IPython.core.display.Markdown object>",
      "text/markdown": "---"
     },
     "metadata": {},
     "output_type": "display_data"
    },
    {
     "data": {
      "text/plain": "<IPython.core.display.Math object>",
      "text/latex": "$\\displaystyle \\text{Set }10: \\quad\\pi_1 = \\frac{T}{T_{1}}\\quad\\pi_2 = \\frac{\\mu_{drift} \\sqrt[6]{\\rho}}{m^{\\frac{2}{3}} \\sqrt{pr}}\\quad\\pi_3 = \\frac{T_{2}}{T_{1}}\\quad\\pi_4 = \\frac{T_{3}}{T_{1}}\\quad\\pi_5 = \\frac{\\rho_{0}}{\\rho}\\quad\\pi_6 = \\frac{\\rho_{1}}{\\rho}\\quad$"
     },
     "metadata": {},
     "output_type": "display_data"
    },
    {
     "data": {
      "text/plain": "<IPython.core.display.Markdown object>",
      "text/markdown": "---"
     },
     "metadata": {},
     "output_type": "display_data"
    },
    {
     "data": {
      "text/plain": "<IPython.core.display.Math object>",
      "text/latex": "$\\displaystyle \\text{Set }11: \\quad\\pi_1 = \\frac{T}{T_{2}}\\quad\\pi_2 = \\frac{\\mu_{drift} \\sqrt[6]{\\rho}}{m^{\\frac{2}{3}} \\sqrt{pr}}\\quad\\pi_3 = \\frac{T_{1}}{T_{2}}\\quad\\pi_4 = \\frac{T_{3}}{T_{2}}\\quad\\pi_5 = \\frac{\\rho_{0}}{\\rho}\\quad\\pi_6 = \\frac{\\rho_{1}}{\\rho}\\quad$"
     },
     "metadata": {},
     "output_type": "display_data"
    },
    {
     "data": {
      "text/plain": "<IPython.core.display.Markdown object>",
      "text/markdown": "---"
     },
     "metadata": {},
     "output_type": "display_data"
    },
    {
     "data": {
      "text/plain": "<IPython.core.display.Math object>",
      "text/latex": "$\\displaystyle \\text{Set }12: \\quad\\pi_1 = \\frac{T}{T_{3}}\\quad\\pi_2 = \\frac{\\mu_{drift} \\sqrt[6]{\\rho}}{m^{\\frac{2}{3}} \\sqrt{pr}}\\quad\\pi_3 = \\frac{T_{1}}{T_{3}}\\quad\\pi_4 = \\frac{T_{2}}{T_{3}}\\quad\\pi_5 = \\frac{\\rho_{0}}{\\rho}\\quad\\pi_6 = \\frac{\\rho_{1}}{\\rho}\\quad$"
     },
     "metadata": {},
     "output_type": "display_data"
    },
    {
     "data": {
      "text/plain": "<IPython.core.display.Markdown object>",
      "text/markdown": "---"
     },
     "metadata": {},
     "output_type": "display_data"
    },
    {
     "data": {
      "text/plain": "<IPython.core.display.Math object>",
      "text/latex": "$\\displaystyle \\text{Set }13: \\quad\\pi_1 = \\frac{\\mu_{drift}^{6} \\rho}{m^{4} pr^{3}}\\quad\\pi_2 = \\frac{T_{1}}{T}\\quad\\pi_3 = \\frac{T_{2}}{T}\\quad\\pi_4 = \\frac{T_{3}}{T}\\quad\\pi_5 = \\frac{\\mu_{drift}^{6} \\rho_{0}}{m^{4} pr^{3}}\\quad\\pi_6 = \\frac{\\mu_{drift}^{6} \\rho_{1}}{m^{4} pr^{3}}\\quad$"
     },
     "metadata": {},
     "output_type": "display_data"
    },
    {
     "data": {
      "text/plain": "<IPython.core.display.Markdown object>",
      "text/markdown": "---"
     },
     "metadata": {},
     "output_type": "display_data"
    },
    {
     "data": {
      "text/plain": "<IPython.core.display.Math object>",
      "text/latex": "$\\displaystyle \\text{Set }14: \\quad\\pi_1 = \\frac{\\rho}{\\rho_{0}}\\quad\\pi_2 = \\frac{T_{1}}{T}\\quad\\pi_3 = \\frac{T_{2}}{T}\\quad\\pi_4 = \\frac{m pr^{\\frac{3}{4}}}{\\mu_{drift}^{\\frac{3}{2}} \\sqrt[4]{\\rho_{0}}}\\quad\\pi_5 = \\frac{T_{3}}{T}\\quad\\pi_6 = \\frac{\\rho_{1}}{\\rho_{0}}\\quad$"
     },
     "metadata": {},
     "output_type": "display_data"
    },
    {
     "data": {
      "text/plain": "<IPython.core.display.Markdown object>",
      "text/markdown": "---"
     },
     "metadata": {},
     "output_type": "display_data"
    },
    {
     "data": {
      "text/plain": "<IPython.core.display.Math object>",
      "text/latex": "$\\displaystyle \\text{Set }15: \\quad\\pi_1 = \\frac{\\rho}{\\rho_{0}}\\quad\\pi_2 = \\frac{T_{1}}{T}\\quad\\pi_3 = \\frac{T_{2}}{T}\\quad\\pi_4 = \\frac{m^{\\frac{4}{3}} pr}{\\mu_{drift}^{2} \\sqrt[3]{\\rho_{0}}}\\quad\\pi_5 = \\frac{T_{3}}{T}\\quad\\pi_6 = \\frac{\\rho_{1}}{\\rho_{0}}\\quad$"
     },
     "metadata": {},
     "output_type": "display_data"
    },
    {
     "data": {
      "text/plain": "<IPython.core.display.Markdown object>",
      "text/markdown": "---"
     },
     "metadata": {},
     "output_type": "display_data"
    },
    {
     "data": {
      "text/plain": "<IPython.core.display.Math object>",
      "text/latex": "$\\displaystyle \\text{Set }16: \\quad\\pi_1 = \\frac{\\rho}{\\rho_{0}}\\quad\\pi_2 = \\frac{\\mu_{drift} \\sqrt[6]{\\rho_{0}}}{m^{\\frac{2}{3}} \\sqrt{pr}}\\quad\\pi_3 = \\frac{T_{1}}{T}\\quad\\pi_4 = \\frac{T_{2}}{T}\\quad\\pi_5 = \\frac{T_{3}}{T}\\quad\\pi_6 = \\frac{\\rho_{1}}{\\rho_{0}}\\quad$"
     },
     "metadata": {},
     "output_type": "display_data"
    },
    {
     "data": {
      "text/plain": "<IPython.core.display.Markdown object>",
      "text/markdown": "---"
     },
     "metadata": {},
     "output_type": "display_data"
    },
    {
     "data": {
      "text/plain": "<IPython.core.display.Math object>",
      "text/latex": "$\\displaystyle \\text{Set }17: \\quad\\pi_1 = \\frac{\\mu_{drift}^{6} \\rho}{m^{4} pr^{3}}\\quad\\pi_2 = \\frac{T}{T_{1}}\\quad\\pi_3 = \\frac{T_{2}}{T_{1}}\\quad\\pi_4 = \\frac{T_{3}}{T_{1}}\\quad\\pi_5 = \\frac{\\mu_{drift}^{6} \\rho_{0}}{m^{4} pr^{3}}\\quad\\pi_6 = \\frac{\\mu_{drift}^{6} \\rho_{1}}{m^{4} pr^{3}}\\quad$"
     },
     "metadata": {},
     "output_type": "display_data"
    },
    {
     "data": {
      "text/plain": "<IPython.core.display.Markdown object>",
      "text/markdown": "---"
     },
     "metadata": {},
     "output_type": "display_data"
    },
    {
     "data": {
      "text/plain": "<IPython.core.display.Math object>",
      "text/latex": "$\\displaystyle \\text{Set }18: \\quad\\pi_1 = \\frac{\\rho}{\\rho_{0}}\\quad\\pi_2 = \\frac{T}{T_{1}}\\quad\\pi_3 = \\frac{T_{2}}{T_{1}}\\quad\\pi_4 = \\frac{m pr^{\\frac{3}{4}}}{\\mu_{drift}^{\\frac{3}{2}} \\sqrt[4]{\\rho_{0}}}\\quad\\pi_5 = \\frac{T_{3}}{T_{1}}\\quad\\pi_6 = \\frac{\\rho_{1}}{\\rho_{0}}\\quad$"
     },
     "metadata": {},
     "output_type": "display_data"
    },
    {
     "data": {
      "text/plain": "<IPython.core.display.Markdown object>",
      "text/markdown": "---"
     },
     "metadata": {},
     "output_type": "display_data"
    },
    {
     "data": {
      "text/plain": "<IPython.core.display.Math object>",
      "text/latex": "$\\displaystyle \\text{Set }19: \\quad\\pi_1 = \\frac{\\rho}{\\rho_{0}}\\quad\\pi_2 = \\frac{T}{T_{1}}\\quad\\pi_3 = \\frac{T_{2}}{T_{1}}\\quad\\pi_4 = \\frac{m^{\\frac{4}{3}} pr}{\\mu_{drift}^{2} \\sqrt[3]{\\rho_{0}}}\\quad\\pi_5 = \\frac{T_{3}}{T_{1}}\\quad\\pi_6 = \\frac{\\rho_{1}}{\\rho_{0}}\\quad$"
     },
     "metadata": {},
     "output_type": "display_data"
    },
    {
     "data": {
      "text/plain": "<IPython.core.display.Markdown object>",
      "text/markdown": "---"
     },
     "metadata": {},
     "output_type": "display_data"
    },
    {
     "data": {
      "text/plain": "<IPython.core.display.Math object>",
      "text/latex": "$\\displaystyle \\text{Set }20: \\quad\\pi_1 = \\frac{\\mu_{drift}^{6} \\rho}{m^{4} pr^{3}}\\quad\\pi_2 = \\frac{T}{T_{2}}\\quad\\pi_3 = \\frac{T_{1}}{T_{2}}\\quad\\pi_4 = \\frac{T_{3}}{T_{2}}\\quad\\pi_5 = \\frac{\\mu_{drift}^{6} \\rho_{0}}{m^{4} pr^{3}}\\quad\\pi_6 = \\frac{\\mu_{drift}^{6} \\rho_{1}}{m^{4} pr^{3}}\\quad$"
     },
     "metadata": {},
     "output_type": "display_data"
    },
    {
     "data": {
      "text/plain": "<IPython.core.display.Markdown object>",
      "text/markdown": "---"
     },
     "metadata": {},
     "output_type": "display_data"
    },
    {
     "data": {
      "text/plain": "<IPython.core.display.Math object>",
      "text/latex": "$\\displaystyle \\text{Set }21: \\quad\\pi_1 = \\frac{\\rho}{\\rho_{0}}\\quad\\pi_2 = \\frac{T}{T_{2}}\\quad\\pi_3 = \\frac{T_{1}}{T_{2}}\\quad\\pi_4 = \\frac{m pr^{\\frac{3}{4}}}{\\mu_{drift}^{\\frac{3}{2}} \\sqrt[4]{\\rho_{0}}}\\quad\\pi_5 = \\frac{T_{3}}{T_{2}}\\quad\\pi_6 = \\frac{\\rho_{1}}{\\rho_{0}}\\quad$"
     },
     "metadata": {},
     "output_type": "display_data"
    },
    {
     "data": {
      "text/plain": "<IPython.core.display.Markdown object>",
      "text/markdown": "---"
     },
     "metadata": {},
     "output_type": "display_data"
    },
    {
     "data": {
      "text/plain": "<IPython.core.display.Math object>",
      "text/latex": "$\\displaystyle \\text{Set }22: \\quad\\pi_1 = \\frac{\\rho}{\\rho_{0}}\\quad\\pi_2 = \\frac{T}{T_{2}}\\quad\\pi_3 = \\frac{T_{1}}{T_{2}}\\quad\\pi_4 = \\frac{m^{\\frac{4}{3}} pr}{\\mu_{drift}^{2} \\sqrt[3]{\\rho_{0}}}\\quad\\pi_5 = \\frac{T_{3}}{T_{2}}\\quad\\pi_6 = \\frac{\\rho_{1}}{\\rho_{0}}\\quad$"
     },
     "metadata": {},
     "output_type": "display_data"
    },
    {
     "data": {
      "text/plain": "<IPython.core.display.Markdown object>",
      "text/markdown": "---"
     },
     "metadata": {},
     "output_type": "display_data"
    },
    {
     "data": {
      "text/plain": "<IPython.core.display.Math object>",
      "text/latex": "$\\displaystyle \\text{Set }23: \\quad\\pi_1 = \\frac{\\mu_{drift}^{6} \\rho}{m^{4} pr^{3}}\\quad\\pi_2 = \\frac{T}{T_{3}}\\quad\\pi_3 = \\frac{T_{1}}{T_{3}}\\quad\\pi_4 = \\frac{T_{2}}{T_{3}}\\quad\\pi_5 = \\frac{\\mu_{drift}^{6} \\rho_{0}}{m^{4} pr^{3}}\\quad\\pi_6 = \\frac{\\mu_{drift}^{6} \\rho_{1}}{m^{4} pr^{3}}\\quad$"
     },
     "metadata": {},
     "output_type": "display_data"
    },
    {
     "data": {
      "text/plain": "<IPython.core.display.Markdown object>",
      "text/markdown": "---"
     },
     "metadata": {},
     "output_type": "display_data"
    },
    {
     "data": {
      "text/plain": "<IPython.core.display.Math object>",
      "text/latex": "$\\displaystyle \\text{Set }24: \\quad\\pi_1 = \\frac{\\rho}{\\rho_{0}}\\quad\\pi_2 = \\frac{T}{T_{3}}\\quad\\pi_3 = \\frac{T_{1}}{T_{3}}\\quad\\pi_4 = \\frac{T_{2}}{T_{3}}\\quad\\pi_5 = \\frac{m pr^{\\frac{3}{4}}}{\\mu_{drift}^{\\frac{3}{2}} \\sqrt[4]{\\rho_{0}}}\\quad\\pi_6 = \\frac{\\rho_{1}}{\\rho_{0}}\\quad$"
     },
     "metadata": {},
     "output_type": "display_data"
    },
    {
     "data": {
      "text/plain": "<IPython.core.display.Markdown object>",
      "text/markdown": "---"
     },
     "metadata": {},
     "output_type": "display_data"
    },
    {
     "data": {
      "text/plain": "<IPython.core.display.Math object>",
      "text/latex": "$\\displaystyle \\text{Set }25: \\quad\\pi_1 = \\frac{\\rho}{\\rho_{0}}\\quad\\pi_2 = \\frac{T}{T_{3}}\\quad\\pi_3 = \\frac{T_{1}}{T_{3}}\\quad\\pi_4 = \\frac{T_{2}}{T_{3}}\\quad\\pi_5 = \\frac{m^{\\frac{4}{3}} pr}{\\mu_{drift}^{2} \\sqrt[3]{\\rho_{0}}}\\quad\\pi_6 = \\frac{\\rho_{1}}{\\rho_{0}}\\quad$"
     },
     "metadata": {},
     "output_type": "display_data"
    },
    {
     "data": {
      "text/plain": "<IPython.core.display.Markdown object>",
      "text/markdown": "---"
     },
     "metadata": {},
     "output_type": "display_data"
    },
    {
     "data": {
      "text/plain": "<IPython.core.display.Math object>",
      "text/latex": "$\\displaystyle \\text{Set }26: \\quad\\pi_1 = \\frac{\\rho}{\\rho_{0}}\\quad\\pi_2 = \\frac{T}{T_{1}}\\quad\\pi_3 = \\frac{\\mu_{drift} \\sqrt[6]{\\rho_{0}}}{m^{\\frac{2}{3}} \\sqrt{pr}}\\quad\\pi_4 = \\frac{T_{2}}{T_{1}}\\quad\\pi_5 = \\frac{T_{3}}{T_{1}}\\quad\\pi_6 = \\frac{\\rho_{1}}{\\rho_{0}}\\quad$"
     },
     "metadata": {},
     "output_type": "display_data"
    },
    {
     "data": {
      "text/plain": "<IPython.core.display.Markdown object>",
      "text/markdown": "---"
     },
     "metadata": {},
     "output_type": "display_data"
    },
    {
     "data": {
      "text/plain": "<IPython.core.display.Math object>",
      "text/latex": "$\\displaystyle \\text{Set }27: \\quad\\pi_1 = \\frac{\\rho}{\\rho_{0}}\\quad\\pi_2 = \\frac{T}{T_{2}}\\quad\\pi_3 = \\frac{\\mu_{drift} \\sqrt[6]{\\rho_{0}}}{m^{\\frac{2}{3}} \\sqrt{pr}}\\quad\\pi_4 = \\frac{T_{1}}{T_{2}}\\quad\\pi_5 = \\frac{T_{3}}{T_{2}}\\quad\\pi_6 = \\frac{\\rho_{1}}{\\rho_{0}}\\quad$"
     },
     "metadata": {},
     "output_type": "display_data"
    },
    {
     "data": {
      "text/plain": "<IPython.core.display.Markdown object>",
      "text/markdown": "---"
     },
     "metadata": {},
     "output_type": "display_data"
    },
    {
     "data": {
      "text/plain": "<IPython.core.display.Math object>",
      "text/latex": "$\\displaystyle \\text{Set }28: \\quad\\pi_1 = \\frac{\\rho}{\\rho_{0}}\\quad\\pi_2 = \\frac{T}{T_{3}}\\quad\\pi_3 = \\frac{\\mu_{drift} \\sqrt[6]{\\rho_{0}}}{m^{\\frac{2}{3}} \\sqrt{pr}}\\quad\\pi_4 = \\frac{T_{1}}{T_{3}}\\quad\\pi_5 = \\frac{T_{2}}{T_{3}}\\quad\\pi_6 = \\frac{\\rho_{1}}{\\rho_{0}}\\quad$"
     },
     "metadata": {},
     "output_type": "display_data"
    },
    {
     "data": {
      "text/plain": "<IPython.core.display.Markdown object>",
      "text/markdown": "---"
     },
     "metadata": {},
     "output_type": "display_data"
    },
    {
     "name": "stdout",
     "output_type": "stream",
     "text": [
      "None\n",
      "problem with set  0\n",
      "problem with set  1\n",
      "problem with set  3\n",
      "problem with set  4\n",
      "problem with set  5\n",
      "problem with set  6\n",
      "problem with set  7\n",
      "problem with set  8\n",
      "problem with set  12\n",
      "problem with set  13\n",
      "problem with set  14\n",
      "problem with set  16\n",
      "problem with set  17\n",
      "problem with set  18\n",
      "problem with set  19\n",
      "problem with set  20\n",
      "problem with set  21\n",
      "problem with set  22\n",
      "problem with set  23\n",
      "problem with set  24\n"
     ]
    },
    {
     "name": "stderr",
     "output_type": "stream",
     "text": [
      "<lambdifygenerated-811>:2: RuntimeWarning: invalid value encountered in scalar divide\n",
      "  return mu_drift*rho**(1/6)/(m**(2/3)*sqrt(pr))\n",
      "<lambdifygenerated-838>:2: RuntimeWarning: invalid value encountered in scalar divide\n",
      "  return mu_drift*rho**(1/6)/(m**(2/3)*sqrt(pr))\n",
      "<lambdifygenerated-844>:2: RuntimeWarning: invalid value encountered in scalar divide\n",
      "  return mu_drift*rho**(1/6)/(m**(2/3)*sqrt(pr))\n",
      "<lambdifygenerated-850>:2: RuntimeWarning: invalid value encountered in scalar divide\n",
      "  return mu_drift*rho**(1/6)/(m**(2/3)*sqrt(pr))\n",
      "<lambdifygenerated-865>:2: RuntimeWarning: invalid value encountered in scalar divide\n",
      "  return mu_drift*rho_0**(1/6)/(m**(2/3)*sqrt(pr))\n",
      "<lambdifygenerated-901>:2: RuntimeWarning: invalid value encountered in scalar divide\n",
      "  return mu_drift*rho_0**(1/6)/(m**(2/3)*sqrt(pr))\n",
      "<lambdifygenerated-907>:2: RuntimeWarning: invalid value encountered in scalar divide\n",
      "  return mu_drift*rho_0**(1/6)/(m**(2/3)*sqrt(pr))\n",
      "<lambdifygenerated-913>:2: RuntimeWarning: invalid value encountered in scalar divide\n",
      "  return mu_drift*rho_0**(1/6)/(m**(2/3)*sqrt(pr))\n"
     ]
    }
   ],
   "source": [
    "pg_extrap_data = pd.read_csv('Test_Data_Final/pg_data/pg_test.txt', header=None, sep=' ')\n",
    "pg_extrap_data_units = pg_extrap_data[index_with_units]\n",
    "pg_extrap_data = pg_extrap_data[[2,9,10,18]]\n",
    "dimless_data = dimless_groups_to_dimless_data(pg_extrap_data_units.to_numpy(), pg_e2, pg_all_units)\n",
    "for i in range(len(dimless_data)):\n",
    "    if not isinstance(dimless_data[i], np.ndarray):\n",
    "        continue\n",
    "    full_data = pd.concat([pg_extrap_data.reset_index(drop=True), pd.DataFrame(dimless_data[i]).reset_index(drop=True)], axis=1).to_numpy()\n",
    "    np.savetxt(\"Test_Data_Final/pg_data_dimless/pg_test_dimless_set_\"+str(i)+\".txt\", full_data)"
   ],
   "metadata": {
    "collapsed": false,
    "pycharm": {
     "name": "#%%\n"
    }
   }
  },
  {
   "cell_type": "code",
   "execution_count": 30,
   "outputs": [
    {
     "data": {
      "text/plain": "<IPython.core.display.Math object>",
      "text/latex": "$\\displaystyle \\text{Set }1: \\quad\\pi_1 = \\frac{T_{1}}{T}\\quad\\pi_2 = \\frac{T_{2}}{T}\\quad\\pi_3 = \\frac{m pr^{\\frac{3}{4}}}{\\mu_{drift}^{\\frac{3}{2}} \\sqrt[4]{\\rho}}\\quad\\pi_4 = \\frac{T_{3}}{T}\\quad\\pi_5 = \\frac{\\rho_{0}}{\\rho}\\quad\\pi_6 = \\frac{\\rho_{1}}{\\rho}\\quad$"
     },
     "metadata": {},
     "output_type": "display_data"
    },
    {
     "data": {
      "text/plain": "<IPython.core.display.Markdown object>",
      "text/markdown": "---"
     },
     "metadata": {},
     "output_type": "display_data"
    },
    {
     "data": {
      "text/plain": "<IPython.core.display.Math object>",
      "text/latex": "$\\displaystyle \\text{Set }2: \\quad\\pi_1 = \\frac{T_{1}}{T}\\quad\\pi_2 = \\frac{T_{2}}{T}\\quad\\pi_3 = \\frac{m^{\\frac{4}{3}} pr}{\\mu_{drift}^{2} \\sqrt[3]{\\rho}}\\quad\\pi_4 = \\frac{T_{3}}{T}\\quad\\pi_5 = \\frac{\\rho_{0}}{\\rho}\\quad\\pi_6 = \\frac{\\rho_{1}}{\\rho}\\quad$"
     },
     "metadata": {},
     "output_type": "display_data"
    },
    {
     "data": {
      "text/plain": "<IPython.core.display.Markdown object>",
      "text/markdown": "---"
     },
     "metadata": {},
     "output_type": "display_data"
    },
    {
     "data": {
      "text/plain": "<IPython.core.display.Math object>",
      "text/latex": "$\\displaystyle \\text{Set }3: \\quad\\pi_1 = \\frac{\\mu_{drift} \\sqrt[6]{\\rho}}{m^{\\frac{2}{3}} \\sqrt{pr}}\\quad\\pi_2 = \\frac{T_{1}}{T}\\quad\\pi_3 = \\frac{T_{2}}{T}\\quad\\pi_4 = \\frac{T_{3}}{T}\\quad\\pi_5 = \\frac{\\rho_{0}}{\\rho}\\quad\\pi_6 = \\frac{\\rho_{1}}{\\rho}\\quad$"
     },
     "metadata": {},
     "output_type": "display_data"
    },
    {
     "data": {
      "text/plain": "<IPython.core.display.Markdown object>",
      "text/markdown": "---"
     },
     "metadata": {},
     "output_type": "display_data"
    },
    {
     "data": {
      "text/plain": "<IPython.core.display.Math object>",
      "text/latex": "$\\displaystyle \\text{Set }4: \\quad\\pi_1 = \\frac{T}{T_{1}}\\quad\\pi_2 = \\frac{T_{2}}{T_{1}}\\quad\\pi_3 = \\frac{m pr^{\\frac{3}{4}}}{\\mu_{drift}^{\\frac{3}{2}} \\sqrt[4]{\\rho}}\\quad\\pi_4 = \\frac{T_{3}}{T_{1}}\\quad\\pi_5 = \\frac{\\rho_{0}}{\\rho}\\quad\\pi_6 = \\frac{\\rho_{1}}{\\rho}\\quad$"
     },
     "metadata": {},
     "output_type": "display_data"
    },
    {
     "data": {
      "text/plain": "<IPython.core.display.Markdown object>",
      "text/markdown": "---"
     },
     "metadata": {},
     "output_type": "display_data"
    },
    {
     "data": {
      "text/plain": "<IPython.core.display.Math object>",
      "text/latex": "$\\displaystyle \\text{Set }5: \\quad\\pi_1 = \\frac{T}{T_{1}}\\quad\\pi_2 = \\frac{T_{2}}{T_{1}}\\quad\\pi_3 = \\frac{m^{\\frac{4}{3}} pr}{\\mu_{drift}^{2} \\sqrt[3]{\\rho}}\\quad\\pi_4 = \\frac{T_{3}}{T_{1}}\\quad\\pi_5 = \\frac{\\rho_{0}}{\\rho}\\quad\\pi_6 = \\frac{\\rho_{1}}{\\rho}\\quad$"
     },
     "metadata": {},
     "output_type": "display_data"
    },
    {
     "data": {
      "text/plain": "<IPython.core.display.Markdown object>",
      "text/markdown": "---"
     },
     "metadata": {},
     "output_type": "display_data"
    },
    {
     "data": {
      "text/plain": "<IPython.core.display.Math object>",
      "text/latex": "$\\displaystyle \\text{Set }6: \\quad\\pi_1 = \\frac{T}{T_{2}}\\quad\\pi_2 = \\frac{T_{1}}{T_{2}}\\quad\\pi_3 = \\frac{m pr^{\\frac{3}{4}}}{\\mu_{drift}^{\\frac{3}{2}} \\sqrt[4]{\\rho}}\\quad\\pi_4 = \\frac{T_{3}}{T_{2}}\\quad\\pi_5 = \\frac{\\rho_{0}}{\\rho}\\quad\\pi_6 = \\frac{\\rho_{1}}{\\rho}\\quad$"
     },
     "metadata": {},
     "output_type": "display_data"
    },
    {
     "data": {
      "text/plain": "<IPython.core.display.Markdown object>",
      "text/markdown": "---"
     },
     "metadata": {},
     "output_type": "display_data"
    },
    {
     "data": {
      "text/plain": "<IPython.core.display.Math object>",
      "text/latex": "$\\displaystyle \\text{Set }7: \\quad\\pi_1 = \\frac{T}{T_{2}}\\quad\\pi_2 = \\frac{T_{1}}{T_{2}}\\quad\\pi_3 = \\frac{m^{\\frac{4}{3}} pr}{\\mu_{drift}^{2} \\sqrt[3]{\\rho}}\\quad\\pi_4 = \\frac{T_{3}}{T_{2}}\\quad\\pi_5 = \\frac{\\rho_{0}}{\\rho}\\quad\\pi_6 = \\frac{\\rho_{1}}{\\rho}\\quad$"
     },
     "metadata": {},
     "output_type": "display_data"
    },
    {
     "data": {
      "text/plain": "<IPython.core.display.Markdown object>",
      "text/markdown": "---"
     },
     "metadata": {},
     "output_type": "display_data"
    },
    {
     "data": {
      "text/plain": "<IPython.core.display.Math object>",
      "text/latex": "$\\displaystyle \\text{Set }8: \\quad\\pi_1 = \\frac{T}{T_{3}}\\quad\\pi_2 = \\frac{T_{1}}{T_{3}}\\quad\\pi_3 = \\frac{T_{2}}{T_{3}}\\quad\\pi_4 = \\frac{m pr^{\\frac{3}{4}}}{\\mu_{drift}^{\\frac{3}{2}} \\sqrt[4]{\\rho}}\\quad\\pi_5 = \\frac{\\rho_{0}}{\\rho}\\quad\\pi_6 = \\frac{\\rho_{1}}{\\rho}\\quad$"
     },
     "metadata": {},
     "output_type": "display_data"
    },
    {
     "data": {
      "text/plain": "<IPython.core.display.Markdown object>",
      "text/markdown": "---"
     },
     "metadata": {},
     "output_type": "display_data"
    },
    {
     "data": {
      "text/plain": "<IPython.core.display.Math object>",
      "text/latex": "$\\displaystyle \\text{Set }9: \\quad\\pi_1 = \\frac{T}{T_{3}}\\quad\\pi_2 = \\frac{T_{1}}{T_{3}}\\quad\\pi_3 = \\frac{T_{2}}{T_{3}}\\quad\\pi_4 = \\frac{m^{\\frac{4}{3}} pr}{\\mu_{drift}^{2} \\sqrt[3]{\\rho}}\\quad\\pi_5 = \\frac{\\rho_{0}}{\\rho}\\quad\\pi_6 = \\frac{\\rho_{1}}{\\rho}\\quad$"
     },
     "metadata": {},
     "output_type": "display_data"
    },
    {
     "data": {
      "text/plain": "<IPython.core.display.Markdown object>",
      "text/markdown": "---"
     },
     "metadata": {},
     "output_type": "display_data"
    },
    {
     "data": {
      "text/plain": "<IPython.core.display.Math object>",
      "text/latex": "$\\displaystyle \\text{Set }10: \\quad\\pi_1 = \\frac{T}{T_{1}}\\quad\\pi_2 = \\frac{\\mu_{drift} \\sqrt[6]{\\rho}}{m^{\\frac{2}{3}} \\sqrt{pr}}\\quad\\pi_3 = \\frac{T_{2}}{T_{1}}\\quad\\pi_4 = \\frac{T_{3}}{T_{1}}\\quad\\pi_5 = \\frac{\\rho_{0}}{\\rho}\\quad\\pi_6 = \\frac{\\rho_{1}}{\\rho}\\quad$"
     },
     "metadata": {},
     "output_type": "display_data"
    },
    {
     "data": {
      "text/plain": "<IPython.core.display.Markdown object>",
      "text/markdown": "---"
     },
     "metadata": {},
     "output_type": "display_data"
    },
    {
     "data": {
      "text/plain": "<IPython.core.display.Math object>",
      "text/latex": "$\\displaystyle \\text{Set }11: \\quad\\pi_1 = \\frac{T}{T_{2}}\\quad\\pi_2 = \\frac{\\mu_{drift} \\sqrt[6]{\\rho}}{m^{\\frac{2}{3}} \\sqrt{pr}}\\quad\\pi_3 = \\frac{T_{1}}{T_{2}}\\quad\\pi_4 = \\frac{T_{3}}{T_{2}}\\quad\\pi_5 = \\frac{\\rho_{0}}{\\rho}\\quad\\pi_6 = \\frac{\\rho_{1}}{\\rho}\\quad$"
     },
     "metadata": {},
     "output_type": "display_data"
    },
    {
     "data": {
      "text/plain": "<IPython.core.display.Markdown object>",
      "text/markdown": "---"
     },
     "metadata": {},
     "output_type": "display_data"
    },
    {
     "data": {
      "text/plain": "<IPython.core.display.Math object>",
      "text/latex": "$\\displaystyle \\text{Set }12: \\quad\\pi_1 = \\frac{T}{T_{3}}\\quad\\pi_2 = \\frac{\\mu_{drift} \\sqrt[6]{\\rho}}{m^{\\frac{2}{3}} \\sqrt{pr}}\\quad\\pi_3 = \\frac{T_{1}}{T_{3}}\\quad\\pi_4 = \\frac{T_{2}}{T_{3}}\\quad\\pi_5 = \\frac{\\rho_{0}}{\\rho}\\quad\\pi_6 = \\frac{\\rho_{1}}{\\rho}\\quad$"
     },
     "metadata": {},
     "output_type": "display_data"
    },
    {
     "data": {
      "text/plain": "<IPython.core.display.Markdown object>",
      "text/markdown": "---"
     },
     "metadata": {},
     "output_type": "display_data"
    },
    {
     "data": {
      "text/plain": "<IPython.core.display.Math object>",
      "text/latex": "$\\displaystyle \\text{Set }13: \\quad\\pi_1 = \\frac{\\mu_{drift}^{6} \\rho}{m^{4} pr^{3}}\\quad\\pi_2 = \\frac{T_{1}}{T}\\quad\\pi_3 = \\frac{T_{2}}{T}\\quad\\pi_4 = \\frac{T_{3}}{T}\\quad\\pi_5 = \\frac{\\mu_{drift}^{6} \\rho_{0}}{m^{4} pr^{3}}\\quad\\pi_6 = \\frac{\\mu_{drift}^{6} \\rho_{1}}{m^{4} pr^{3}}\\quad$"
     },
     "metadata": {},
     "output_type": "display_data"
    },
    {
     "data": {
      "text/plain": "<IPython.core.display.Markdown object>",
      "text/markdown": "---"
     },
     "metadata": {},
     "output_type": "display_data"
    },
    {
     "data": {
      "text/plain": "<IPython.core.display.Math object>",
      "text/latex": "$\\displaystyle \\text{Set }14: \\quad\\pi_1 = \\frac{\\rho}{\\rho_{0}}\\quad\\pi_2 = \\frac{T_{1}}{T}\\quad\\pi_3 = \\frac{T_{2}}{T}\\quad\\pi_4 = \\frac{m pr^{\\frac{3}{4}}}{\\mu_{drift}^{\\frac{3}{2}} \\sqrt[4]{\\rho_{0}}}\\quad\\pi_5 = \\frac{T_{3}}{T}\\quad\\pi_6 = \\frac{\\rho_{1}}{\\rho_{0}}\\quad$"
     },
     "metadata": {},
     "output_type": "display_data"
    },
    {
     "data": {
      "text/plain": "<IPython.core.display.Markdown object>",
      "text/markdown": "---"
     },
     "metadata": {},
     "output_type": "display_data"
    },
    {
     "data": {
      "text/plain": "<IPython.core.display.Math object>",
      "text/latex": "$\\displaystyle \\text{Set }15: \\quad\\pi_1 = \\frac{\\rho}{\\rho_{0}}\\quad\\pi_2 = \\frac{T_{1}}{T}\\quad\\pi_3 = \\frac{T_{2}}{T}\\quad\\pi_4 = \\frac{m^{\\frac{4}{3}} pr}{\\mu_{drift}^{2} \\sqrt[3]{\\rho_{0}}}\\quad\\pi_5 = \\frac{T_{3}}{T}\\quad\\pi_6 = \\frac{\\rho_{1}}{\\rho_{0}}\\quad$"
     },
     "metadata": {},
     "output_type": "display_data"
    },
    {
     "data": {
      "text/plain": "<IPython.core.display.Markdown object>",
      "text/markdown": "---"
     },
     "metadata": {},
     "output_type": "display_data"
    },
    {
     "data": {
      "text/plain": "<IPython.core.display.Math object>",
      "text/latex": "$\\displaystyle \\text{Set }16: \\quad\\pi_1 = \\frac{\\rho}{\\rho_{0}}\\quad\\pi_2 = \\frac{\\mu_{drift} \\sqrt[6]{\\rho_{0}}}{m^{\\frac{2}{3}} \\sqrt{pr}}\\quad\\pi_3 = \\frac{T_{1}}{T}\\quad\\pi_4 = \\frac{T_{2}}{T}\\quad\\pi_5 = \\frac{T_{3}}{T}\\quad\\pi_6 = \\frac{\\rho_{1}}{\\rho_{0}}\\quad$"
     },
     "metadata": {},
     "output_type": "display_data"
    },
    {
     "data": {
      "text/plain": "<IPython.core.display.Markdown object>",
      "text/markdown": "---"
     },
     "metadata": {},
     "output_type": "display_data"
    },
    {
     "data": {
      "text/plain": "<IPython.core.display.Math object>",
      "text/latex": "$\\displaystyle \\text{Set }17: \\quad\\pi_1 = \\frac{\\mu_{drift}^{6} \\rho}{m^{4} pr^{3}}\\quad\\pi_2 = \\frac{T}{T_{1}}\\quad\\pi_3 = \\frac{T_{2}}{T_{1}}\\quad\\pi_4 = \\frac{T_{3}}{T_{1}}\\quad\\pi_5 = \\frac{\\mu_{drift}^{6} \\rho_{0}}{m^{4} pr^{3}}\\quad\\pi_6 = \\frac{\\mu_{drift}^{6} \\rho_{1}}{m^{4} pr^{3}}\\quad$"
     },
     "metadata": {},
     "output_type": "display_data"
    },
    {
     "data": {
      "text/plain": "<IPython.core.display.Markdown object>",
      "text/markdown": "---"
     },
     "metadata": {},
     "output_type": "display_data"
    },
    {
     "data": {
      "text/plain": "<IPython.core.display.Math object>",
      "text/latex": "$\\displaystyle \\text{Set }18: \\quad\\pi_1 = \\frac{\\rho}{\\rho_{0}}\\quad\\pi_2 = \\frac{T}{T_{1}}\\quad\\pi_3 = \\frac{T_{2}}{T_{1}}\\quad\\pi_4 = \\frac{m pr^{\\frac{3}{4}}}{\\mu_{drift}^{\\frac{3}{2}} \\sqrt[4]{\\rho_{0}}}\\quad\\pi_5 = \\frac{T_{3}}{T_{1}}\\quad\\pi_6 = \\frac{\\rho_{1}}{\\rho_{0}}\\quad$"
     },
     "metadata": {},
     "output_type": "display_data"
    },
    {
     "data": {
      "text/plain": "<IPython.core.display.Markdown object>",
      "text/markdown": "---"
     },
     "metadata": {},
     "output_type": "display_data"
    },
    {
     "data": {
      "text/plain": "<IPython.core.display.Math object>",
      "text/latex": "$\\displaystyle \\text{Set }19: \\quad\\pi_1 = \\frac{\\rho}{\\rho_{0}}\\quad\\pi_2 = \\frac{T}{T_{1}}\\quad\\pi_3 = \\frac{T_{2}}{T_{1}}\\quad\\pi_4 = \\frac{m^{\\frac{4}{3}} pr}{\\mu_{drift}^{2} \\sqrt[3]{\\rho_{0}}}\\quad\\pi_5 = \\frac{T_{3}}{T_{1}}\\quad\\pi_6 = \\frac{\\rho_{1}}{\\rho_{0}}\\quad$"
     },
     "metadata": {},
     "output_type": "display_data"
    },
    {
     "data": {
      "text/plain": "<IPython.core.display.Markdown object>",
      "text/markdown": "---"
     },
     "metadata": {},
     "output_type": "display_data"
    },
    {
     "data": {
      "text/plain": "<IPython.core.display.Math object>",
      "text/latex": "$\\displaystyle \\text{Set }20: \\quad\\pi_1 = \\frac{\\mu_{drift}^{6} \\rho}{m^{4} pr^{3}}\\quad\\pi_2 = \\frac{T}{T_{2}}\\quad\\pi_3 = \\frac{T_{1}}{T_{2}}\\quad\\pi_4 = \\frac{T_{3}}{T_{2}}\\quad\\pi_5 = \\frac{\\mu_{drift}^{6} \\rho_{0}}{m^{4} pr^{3}}\\quad\\pi_6 = \\frac{\\mu_{drift}^{6} \\rho_{1}}{m^{4} pr^{3}}\\quad$"
     },
     "metadata": {},
     "output_type": "display_data"
    },
    {
     "data": {
      "text/plain": "<IPython.core.display.Markdown object>",
      "text/markdown": "---"
     },
     "metadata": {},
     "output_type": "display_data"
    },
    {
     "data": {
      "text/plain": "<IPython.core.display.Math object>",
      "text/latex": "$\\displaystyle \\text{Set }21: \\quad\\pi_1 = \\frac{\\rho}{\\rho_{0}}\\quad\\pi_2 = \\frac{T}{T_{2}}\\quad\\pi_3 = \\frac{T_{1}}{T_{2}}\\quad\\pi_4 = \\frac{m pr^{\\frac{3}{4}}}{\\mu_{drift}^{\\frac{3}{2}} \\sqrt[4]{\\rho_{0}}}\\quad\\pi_5 = \\frac{T_{3}}{T_{2}}\\quad\\pi_6 = \\frac{\\rho_{1}}{\\rho_{0}}\\quad$"
     },
     "metadata": {},
     "output_type": "display_data"
    },
    {
     "data": {
      "text/plain": "<IPython.core.display.Markdown object>",
      "text/markdown": "---"
     },
     "metadata": {},
     "output_type": "display_data"
    },
    {
     "data": {
      "text/plain": "<IPython.core.display.Math object>",
      "text/latex": "$\\displaystyle \\text{Set }22: \\quad\\pi_1 = \\frac{\\rho}{\\rho_{0}}\\quad\\pi_2 = \\frac{T}{T_{2}}\\quad\\pi_3 = \\frac{T_{1}}{T_{2}}\\quad\\pi_4 = \\frac{m^{\\frac{4}{3}} pr}{\\mu_{drift}^{2} \\sqrt[3]{\\rho_{0}}}\\quad\\pi_5 = \\frac{T_{3}}{T_{2}}\\quad\\pi_6 = \\frac{\\rho_{1}}{\\rho_{0}}\\quad$"
     },
     "metadata": {},
     "output_type": "display_data"
    },
    {
     "data": {
      "text/plain": "<IPython.core.display.Markdown object>",
      "text/markdown": "---"
     },
     "metadata": {},
     "output_type": "display_data"
    },
    {
     "data": {
      "text/plain": "<IPython.core.display.Math object>",
      "text/latex": "$\\displaystyle \\text{Set }23: \\quad\\pi_1 = \\frac{\\mu_{drift}^{6} \\rho}{m^{4} pr^{3}}\\quad\\pi_2 = \\frac{T}{T_{3}}\\quad\\pi_3 = \\frac{T_{1}}{T_{3}}\\quad\\pi_4 = \\frac{T_{2}}{T_{3}}\\quad\\pi_5 = \\frac{\\mu_{drift}^{6} \\rho_{0}}{m^{4} pr^{3}}\\quad\\pi_6 = \\frac{\\mu_{drift}^{6} \\rho_{1}}{m^{4} pr^{3}}\\quad$"
     },
     "metadata": {},
     "output_type": "display_data"
    },
    {
     "data": {
      "text/plain": "<IPython.core.display.Markdown object>",
      "text/markdown": "---"
     },
     "metadata": {},
     "output_type": "display_data"
    },
    {
     "data": {
      "text/plain": "<IPython.core.display.Math object>",
      "text/latex": "$\\displaystyle \\text{Set }24: \\quad\\pi_1 = \\frac{\\rho}{\\rho_{0}}\\quad\\pi_2 = \\frac{T}{T_{3}}\\quad\\pi_3 = \\frac{T_{1}}{T_{3}}\\quad\\pi_4 = \\frac{T_{2}}{T_{3}}\\quad\\pi_5 = \\frac{m pr^{\\frac{3}{4}}}{\\mu_{drift}^{\\frac{3}{2}} \\sqrt[4]{\\rho_{0}}}\\quad\\pi_6 = \\frac{\\rho_{1}}{\\rho_{0}}\\quad$"
     },
     "metadata": {},
     "output_type": "display_data"
    },
    {
     "data": {
      "text/plain": "<IPython.core.display.Markdown object>",
      "text/markdown": "---"
     },
     "metadata": {},
     "output_type": "display_data"
    },
    {
     "data": {
      "text/plain": "<IPython.core.display.Math object>",
      "text/latex": "$\\displaystyle \\text{Set }25: \\quad\\pi_1 = \\frac{\\rho}{\\rho_{0}}\\quad\\pi_2 = \\frac{T}{T_{3}}\\quad\\pi_3 = \\frac{T_{1}}{T_{3}}\\quad\\pi_4 = \\frac{T_{2}}{T_{3}}\\quad\\pi_5 = \\frac{m^{\\frac{4}{3}} pr}{\\mu_{drift}^{2} \\sqrt[3]{\\rho_{0}}}\\quad\\pi_6 = \\frac{\\rho_{1}}{\\rho_{0}}\\quad$"
     },
     "metadata": {},
     "output_type": "display_data"
    },
    {
     "data": {
      "text/plain": "<IPython.core.display.Markdown object>",
      "text/markdown": "---"
     },
     "metadata": {},
     "output_type": "display_data"
    },
    {
     "data": {
      "text/plain": "<IPython.core.display.Math object>",
      "text/latex": "$\\displaystyle \\text{Set }26: \\quad\\pi_1 = \\frac{\\rho}{\\rho_{0}}\\quad\\pi_2 = \\frac{T}{T_{1}}\\quad\\pi_3 = \\frac{\\mu_{drift} \\sqrt[6]{\\rho_{0}}}{m^{\\frac{2}{3}} \\sqrt{pr}}\\quad\\pi_4 = \\frac{T_{2}}{T_{1}}\\quad\\pi_5 = \\frac{T_{3}}{T_{1}}\\quad\\pi_6 = \\frac{\\rho_{1}}{\\rho_{0}}\\quad$"
     },
     "metadata": {},
     "output_type": "display_data"
    },
    {
     "data": {
      "text/plain": "<IPython.core.display.Markdown object>",
      "text/markdown": "---"
     },
     "metadata": {},
     "output_type": "display_data"
    },
    {
     "data": {
      "text/plain": "<IPython.core.display.Math object>",
      "text/latex": "$\\displaystyle \\text{Set }27: \\quad\\pi_1 = \\frac{\\rho}{\\rho_{0}}\\quad\\pi_2 = \\frac{T}{T_{2}}\\quad\\pi_3 = \\frac{\\mu_{drift} \\sqrt[6]{\\rho_{0}}}{m^{\\frac{2}{3}} \\sqrt{pr}}\\quad\\pi_4 = \\frac{T_{1}}{T_{2}}\\quad\\pi_5 = \\frac{T_{3}}{T_{2}}\\quad\\pi_6 = \\frac{\\rho_{1}}{\\rho_{0}}\\quad$"
     },
     "metadata": {},
     "output_type": "display_data"
    },
    {
     "data": {
      "text/plain": "<IPython.core.display.Markdown object>",
      "text/markdown": "---"
     },
     "metadata": {},
     "output_type": "display_data"
    },
    {
     "data": {
      "text/plain": "<IPython.core.display.Math object>",
      "text/latex": "$\\displaystyle \\text{Set }28: \\quad\\pi_1 = \\frac{\\rho}{\\rho_{0}}\\quad\\pi_2 = \\frac{T}{T_{3}}\\quad\\pi_3 = \\frac{\\mu_{drift} \\sqrt[6]{\\rho_{0}}}{m^{\\frac{2}{3}} \\sqrt{pr}}\\quad\\pi_4 = \\frac{T_{1}}{T_{3}}\\quad\\pi_5 = \\frac{T_{2}}{T_{3}}\\quad\\pi_6 = \\frac{\\rho_{1}}{\\rho_{0}}\\quad$"
     },
     "metadata": {},
     "output_type": "display_data"
    },
    {
     "data": {
      "text/plain": "<IPython.core.display.Markdown object>",
      "text/markdown": "---"
     },
     "metadata": {},
     "output_type": "display_data"
    },
    {
     "name": "stdout",
     "output_type": "stream",
     "text": [
      "None\n",
      "problem with set  0\n",
      "problem with set  1\n",
      "problem with set  2\n",
      "problem with set  3\n",
      "problem with set  4\n",
      "problem with set  5\n",
      "problem with set  6\n",
      "problem with set  7\n",
      "problem with set  8\n",
      "problem with set  9\n",
      "problem with set  10\n",
      "problem with set  11\n",
      "problem with set  19\n",
      "problem with set  20\n",
      "problem with set  21\n",
      "problem with set  26\n"
     ]
    }
   ],
   "source": [
    "pg_extrap_data = pd.read_csv('Test_Data_Final/pg_data/pg_extrap.txt', header=None, sep=' ')\n",
    "pg_extrap_data_units = pg_extrap_data[index_with_units]\n",
    "pg_extrap_data = pg_extrap_data[[2,9,10,18]]\n",
    "dimless_data = dimless_groups_to_dimless_data(pg_extrap_data_units.to_numpy(), pg_e2, pg_all_units)\n",
    "for i in range(len(dimless_data)):\n",
    "    if not isinstance(dimless_data[i], np.ndarray):\n",
    "        continue\n",
    "    full_data = pd.concat([pg_extrap_data.reset_index(drop=True), pd.DataFrame(dimless_data[i]).reset_index(drop=True)], axis=1).to_numpy()\n",
    "    np.savetxt(\"Test_Data_Final/pg_data_dimless/pg_extrap_dimless_set_\"+str(i)+\".txt\", full_data)"
   ],
   "metadata": {
    "collapsed": false,
    "pycharm": {
     "name": "#%%\n"
    }
   }
  },
  {
   "cell_type": "markdown",
   "source": [
    "Remake for completion"
   ],
   "metadata": {
    "collapsed": false
   }
  },
  {
   "cell_type": "code",
   "execution_count": 32,
   "outputs": [
    {
     "data": {
      "text/plain": "' rho T mu_drift T1 T2 pr m T3 rho_0'"
     },
     "execution_count": 32,
     "metadata": {},
     "output_type": "execute_result"
    }
   ],
   "source": [
    "pg_ind_units"
   ],
   "metadata": {
    "collapsed": false,
    "pycharm": {
     "name": "#%%\n"
    }
   }
  },
  {
   "cell_type": "code",
   "execution_count": 44,
   "outputs": [
    {
     "name": "stderr",
     "output_type": "stream",
     "text": [
      "/var/folders/2x/r7stqt9j3ys7q29zxm50kcv40000gn/T/ipykernel_1397/2511761530.py:7: RuntimeWarning: divide by zero encountered in divide\n",
      "  pi1 = pg_extrap_data_units[:, 1]/pg_extrap_data_units[:, 3]\n",
      "/var/folders/2x/r7stqt9j3ys7q29zxm50kcv40000gn/T/ipykernel_1397/2511761530.py:8: RuntimeWarning: divide by zero encountered in divide\n",
      "  pi2 = (pg_extrap_data_units[:, 2]*p6/(m23*np.sqrt(pg_extrap_data_units[:, 5])))\n",
      "/var/folders/2x/r7stqt9j3ys7q29zxm50kcv40000gn/T/ipykernel_1397/2511761530.py:9: RuntimeWarning: divide by zero encountered in divide\n",
      "  pi3 = pg_extrap_data_units[:, 4]/pg_extrap_data_units[:, 3]\n",
      "/var/folders/2x/r7stqt9j3ys7q29zxm50kcv40000gn/T/ipykernel_1397/2511761530.py:10: RuntimeWarning: divide by zero encountered in divide\n",
      "  pi4 = pg_extrap_data_units[:, 7]/pg_extrap_data_units[:, 3]\n",
      "/var/folders/2x/r7stqt9j3ys7q29zxm50kcv40000gn/T/ipykernel_1397/2511761530.py:8: RuntimeWarning: invalid value encountered in divide\n",
      "  pi2 = (pg_extrap_data_units[:, 2]*p6/(m23*np.sqrt(pg_extrap_data_units[:, 5])))\n",
      "/var/folders/2x/r7stqt9j3ys7q29zxm50kcv40000gn/T/ipykernel_1397/2511761530.py:11: RuntimeWarning: divide by zero encountered in divide\n",
      "  pi5 = pg_extrap_data_units[:, 8]/pg_extrap_data_units[:, 0]\n",
      "/var/folders/2x/r7stqt9j3ys7q29zxm50kcv40000gn/T/ipykernel_1397/2511761530.py:12: RuntimeWarning: divide by zero encountered in divide\n",
      "  pi6 = pg_extrap_data_units[:, 9]/pg_extrap_data_units[:, 0]\n"
     ]
    }
   ],
   "source": [
    "texts = [\"train\",\"test\",\"extrap\"]\n",
    "for text in texts:\n",
    "    pg_extrap_data = pd.read_csv('Test_Data_Final/pg_data/pg_'+text+'.txt', header=None, sep=' ')\n",
    "    pg_extrap_data_units = pg_extrap_data[index_with_units].to_numpy()\n",
    "    m23 = np.cbrt(np.square(pg_extrap_data_units[:, 6]))\n",
    "    p6 = pg_extrap_data_units[:, 0]**(1/6)\n",
    "    pi1 = pg_extrap_data_units[:, 1]/pg_extrap_data_units[:, 3]\n",
    "    pi2 = (pg_extrap_data_units[:, 2]*p6/(m23*np.sqrt(pg_extrap_data_units[:, 5])))\n",
    "    pi3 = pg_extrap_data_units[:, 4]/pg_extrap_data_units[:, 3]\n",
    "    pi4 = pg_extrap_data_units[:, 7]/pg_extrap_data_units[:, 3]\n",
    "    pi5 = pg_extrap_data_units[:, 8]/pg_extrap_data_units[:, 0]\n",
    "    pi6 = pg_extrap_data_units[:, 9]/pg_extrap_data_units[:, 0]\n",
    "\n",
    "    pi2[pi2 == np.inf] = 0\n",
    "    pi5[pi5 == np.inf] = 0\n",
    "    pi5[pi5 == np.NaN] = 0\n",
    "    pi6[pi6 == np.inf] = 0\n",
    "    pg_extrap_data = pg_extrap_data[[2,9,10,18]]\n",
    "    dimless_data = pd.DataFrame(np.hstack([pi1[:,None],pi2[:,None],pi3[:,None],pi4[:,None],pi5[:,None],pi6[:,None]]))\n",
    "    full_data = pd.concat([pg_extrap_data.reset_index(drop=True), pd.DataFrame(dimless_data).reset_index(drop=True)], axis=1).to_numpy()\n",
    "    #full_data = full_data[[0,3,4,8,9]]\n",
    "    np.savetxt(\"Test_Data_Final/pg_data_dimless/pg_\"+text+\"_dimless_set_11.txt\", full_data)"
   ],
   "metadata": {
    "collapsed": false,
    "pycharm": {
     "name": "#%%\n"
    }
   }
  },
  {
   "cell_type": "code",
   "execution_count": 88,
   "outputs": [
    {
     "name": "stdout",
     "output_type": "stream",
     "text": [
      "0     False\n",
      "1     False\n",
      "2     False\n",
      "3     False\n",
      "4     False\n",
      "5     False\n",
      "6     False\n",
      "7     False\n",
      "8     False\n",
      "9     False\n",
      "10    False\n",
      "11    False\n",
      "12    False\n",
      "13    False\n",
      "14    False\n",
      "15    False\n",
      "16    False\n",
      "17    False\n",
      "18    False\n",
      "19    False\n",
      "20    False\n",
      "21    False\n",
      "22    False\n",
      "23    False\n",
      "24    False\n",
      "25    False\n",
      "26    False\n",
      "27    False\n",
      "28    False\n",
      "29    False\n",
      "30    False\n",
      "31    False\n",
      "32    False\n",
      "33    False\n",
      "34    False\n",
      "35    False\n",
      "36    False\n",
      "37    False\n",
      "38    False\n",
      "39    False\n",
      "40    False\n",
      "41    False\n",
      "42    False\n",
      "43    False\n",
      "44    False\n",
      "45    False\n",
      "46    False\n",
      "47    False\n",
      "48    False\n",
      "49    False\n",
      "50    False\n",
      "51    False\n",
      "52    False\n",
      "53    False\n",
      "54    False\n",
      "55    False\n",
      "56    False\n",
      "57    False\n",
      "58    False\n",
      "59    False\n",
      "Name: 5, dtype: bool\n"
     ]
    }
   ],
   "source": [
    "pg_extrap_data = pd.read_csv('Test_Data_Final/pg_data_dimless/pg_train_dimless_set_10.txt', header=None, sep=' ')\n",
    "#ds = pg_extrap_data.isin([np.inf, -np.inf])\n",
    "print(np.isnan(pg_extrap_data[5]))\n",
    "#r = pg_extrap_data.index[np.isinf(pg_extrap_data).any()]\n",
    "#print(r)"
   ],
   "metadata": {
    "collapsed": false,
    "pycharm": {
     "name": "#%%\n"
    }
   }
  },
  {
   "cell_type": "code",
   "execution_count": 95,
   "outputs": [
    {
     "name": "stdout",
     "output_type": "stream",
     "text": [
      "0   -0.635012\n",
      "1   -0.406447\n",
      "2   -0.375169\n",
      "3   -0.431741\n",
      "4    0.551525\n",
      "5    0.317013\n",
      "6    0.401227\n",
      "7    0.372724\n",
      "8    0.548583\n",
      "9    1.000000\n",
      "Name: 9, dtype: float64\n"
     ]
    }
   ],
   "source": [
    "pg_extrap_data = pd.read_csv('Test_Data_Final/pg_data_dimless/pg_'+texts[0]+'_dimless_set_10.txt', header=None, sep=' ')\n",
    "correlations = pg_extrap_data.corr()\n",
    "print(correlations[9])"
   ],
   "metadata": {
    "collapsed": false,
    "pycharm": {
     "name": "#%%\n"
    }
   }
  },
  {
   "cell_type": "code",
   "execution_count": 99,
   "outputs": [
    {
     "data": {
      "text/plain": "' rho T mu_drift T1 T2 pr m T3 rho_0'"
     },
     "execution_count": 99,
     "metadata": {},
     "output_type": "execute_result"
    }
   ],
   "source": [
    "pg_ind_units\n"
   ],
   "metadata": {
    "collapsed": false,
    "pycharm": {
     "name": "#%%\n"
    }
   }
  },
  {
   "cell_type": "code",
   "execution_count": 103,
   "outputs": [
    {
     "name": "stderr",
     "output_type": "stream",
     "text": [
      "/var/folders/2x/r7stqt9j3ys7q29zxm50kcv40000gn/T/ipykernel_1315/1633796809.py:6: RuntimeWarning: divide by zero encountered in divide\n",
      "  pi1 = pg_extrap_data_units[:, 0]/pg_extrap_data_units[:, 8]\n",
      "/var/folders/2x/r7stqt9j3ys7q29zxm50kcv40000gn/T/ipykernel_1315/1633796809.py:7: RuntimeWarning: divide by zero encountered in divide\n",
      "  pi2 = (pg_extrap_data_units[:, 2]*p6/(m23*np.sqrt(pg_extrap_data_units[:, 5])))\n",
      "/var/folders/2x/r7stqt9j3ys7q29zxm50kcv40000gn/T/ipykernel_1315/1633796809.py:11: RuntimeWarning: divide by zero encountered in divide\n",
      "  pi6 = pg_extrap_data_units[:, 9]/pg_extrap_data_units[:, 8]\n",
      "/var/folders/2x/r7stqt9j3ys7q29zxm50kcv40000gn/T/ipykernel_1315/1633796809.py:7: RuntimeWarning: invalid value encountered in divide\n",
      "  pi2 = (pg_extrap_data_units[:, 2]*p6/(m23*np.sqrt(pg_extrap_data_units[:, 5])))\n",
      "/var/folders/2x/r7stqt9j3ys7q29zxm50kcv40000gn/T/ipykernel_1315/1633796809.py:8: RuntimeWarning: divide by zero encountered in divide\n",
      "  pi3 = pg_extrap_data_units[:, 1]/pg_extrap_data_units[:, 4]\n",
      "/var/folders/2x/r7stqt9j3ys7q29zxm50kcv40000gn/T/ipykernel_1315/1633796809.py:9: RuntimeWarning: divide by zero encountered in divide\n",
      "  pi4 = pg_extrap_data_units[:, 3]/pg_extrap_data_units[:, 4]\n",
      "/var/folders/2x/r7stqt9j3ys7q29zxm50kcv40000gn/T/ipykernel_1315/1633796809.py:10: RuntimeWarning: divide by zero encountered in divide\n",
      "  pi5 = pg_extrap_data_units[:, 7]/pg_extrap_data_units[:, 4]\n"
     ]
    }
   ],
   "source": [
    "for text in texts:\n",
    "    pg_extrap_data = pd.read_csv('Test_Data_Final/pg_data/pg_'+text+'.txt', header=None, sep=' ')\n",
    "    pg_extrap_data_units = pg_extrap_data[index_with_units].to_numpy()\n",
    "    m23 = np.cbrt(np.square(pg_extrap_data_units[:, 6]))\n",
    "    p6 = pg_extrap_data_units[:, 8]**(1/6)\n",
    "    pi1 = pg_extrap_data_units[:, 0]/pg_extrap_data_units[:, 8]\n",
    "    pi2 = (pg_extrap_data_units[:, 2]*p6/(m23*np.sqrt(pg_extrap_data_units[:, 5])))\n",
    "    pi3 = pg_extrap_data_units[:, 1]/pg_extrap_data_units[:, 4]\n",
    "    pi4 = pg_extrap_data_units[:, 3]/pg_extrap_data_units[:, 4]\n",
    "    pi5 = pg_extrap_data_units[:, 7]/pg_extrap_data_units[:, 4]\n",
    "    pi6 = pg_extrap_data_units[:, 9]/pg_extrap_data_units[:, 8]\n",
    "    pi1[pi1 == np.inf] = 0\n",
    "    pi2[pi2 == np.inf] = 0\n",
    "    pi3[pi3 == np.inf] = 0\n",
    "    pi5[pi5 == np.inf] = 0\n",
    "    pi5[pi5 == np.NaN] = 0\n",
    "    pi6[pi6 == np.inf] = 0\n",
    "    pg_extrap_data = pg_extrap_data[[2,9,10,18]]\n",
    "    dimless_data = pd.DataFrame(np.hstack([pi1[:,None],pi2[:,None],pi3[:,None],pi4[:,None],pi5[:,None],pi6[:,None]]))\n",
    "    full_data = pd.concat([pg_extrap_data.reset_index(drop=True), pd.DataFrame(dimless_data).reset_index(drop=True)], axis=1).to_numpy()\n",
    "    #full_data = full_data[[0,3,4,8,9]]\n",
    "    np.savetxt(\"Test_Data_Final/pg_data_dimless/pg_\"+text+\"_dimless_set_27.txt\", full_data)"
   ],
   "metadata": {
    "collapsed": false,
    "pycharm": {
     "name": "#%%\n"
    }
   }
  },
  {
   "cell_type": "code",
   "execution_count": 39,
   "outputs": [
    {
     "name": "stdout",
     "output_type": "stream",
     "text": [
      "[1, 3, 0, 3, 0, 1, 4, 0, 0, 1, 3, 0, 2, 1, 0, 0, 4, 2, 1, 1, 1, 0, 3, 4, 0, 2, 2, 2, 4, 0]\n",
      "cluster_counts [[ 0 10]\n",
      " [ 1  7]\n",
      " [ 2  5]\n",
      " [ 3  4]\n",
      " [ 4  4]]\n",
      "cluster_counts mod [[0 6]\n",
      " [1 4]\n",
      " [2 3]\n",
      " [3 2]\n",
      " [4 2]]\n",
      "location of item [ 2  4  7  8 11 14 15 21 24 29]\n",
      "location of item to delete [21 14 24 15  7  8]\n",
      "items [1, 3, 0, 3, 0, 1, 4, 0, 0, 1, 3, 0, 2, 1, 0, 0, 4, 2, 1, 1, 1, 0, 3, 4, 0, 2, 2, 2, 4, 0]\n",
      "location of item to delete sorted [24 21 15 14  8  7]\n",
      "num items to delete 6\n",
      "24\n",
      "21\n",
      "15\n",
      "14\n",
      "8\n",
      "7\n",
      "number of items deleted 6\n",
      "\n",
      "\n",
      "location of item [ 0  5  7 11 14 15 16]\n",
      "location of item to delete [15  7  5 11]\n",
      "items [1, 3, 0, 3, 0, 1, 4, 1, 3, 0, 2, 1, 4, 2, 1, 1, 1, 3, 4, 2, 2, 2, 4, 0]\n",
      "location of item to delete sorted [15 11  7  5]\n",
      "num items to delete 4\n",
      "15\n",
      "11\n",
      "7\n",
      "5\n",
      "number of items deleted 4\n",
      "\n",
      "\n",
      "location of item [ 8 10 15 16 17]\n",
      "location of item to delete [10 16 15]\n",
      "items [1, 3, 0, 3, 0, 4, 3, 0, 2, 4, 2, 1, 1, 3, 4, 2, 2, 2, 4, 0]\n",
      "location of item to delete sorted [16 15 10]\n",
      "num items to delete 3\n",
      "16\n",
      "15\n",
      "10\n",
      "number of items deleted 3\n",
      "\n",
      "\n",
      "location of item [ 1  3  6 12]\n",
      "location of item to delete [ 3 12]\n",
      "items [1, 3, 0, 3, 0, 4, 3, 0, 2, 4, 1, 1, 3, 4, 2, 4, 0]\n",
      "location of item to delete sorted [12  3]\n",
      "num items to delete 2\n",
      "12\n",
      "3\n",
      "number of items deleted 2\n",
      "\n",
      "\n",
      "location of item [ 4  8 11 13]\n",
      "location of item to delete [ 4 11]\n",
      "items [1, 3, 0, 0, 4, 3, 0, 2, 4, 1, 1, 4, 2, 4, 0]\n",
      "location of item to delete sorted [11  4]\n",
      "num items to delete 2\n",
      "11\n",
      "4\n",
      "number of items deleted 2\n",
      "\n",
      "\n"
     ]
    }
   ],
   "source": [
    "\n",
    "clustering = list(np.random.randint(low = 0, high=5,size=30))\n",
    "self = clustering.copy()\n",
    "min_points=15\n",
    "max_points=25\n",
    "num_clusters = 5\n",
    "print(clustering)\n",
    "num_points_remove = int((len(self)-min_points)/num_clusters)\n",
    "if len(self) > max_points and len(self) > 5:\n",
    "    cluster_counts = np.array([[x,clustering.count(x)] for x in set(clustering)])\n",
    "    print(\"cluster_counts\",cluster_counts)\n",
    "    cluster_counts[:,1] = (cluster_counts[:,1]/(num_clusters)*num_points_remove).astype(int)\n",
    "    print(\"cluster_counts mod\",cluster_counts)\n",
    "\n",
    "    for i in range(cluster_counts.shape[0]):\n",
    "        clustering_arr = np.array(clustering)\n",
    "        ii = np.where(clustering_arr == i)[0]\n",
    "        print(\"location of item\",ii)\n",
    "        items_delete = np.random.choice(ii,cluster_counts[i,1],replace=False)\n",
    "        print(\"location of item to delete\",items_delete)\n",
    "        items_delete[::-1].sort()\n",
    "        print(\"items\",clustering)\n",
    "        print(\"location of item to delete sorted\",items_delete)\n",
    "        len_b = len(clustering)\n",
    "        #items_delete = list(items_delete)\n",
    "        print(\"num items to delete\",len(items_delete))\n",
    "        for item in items_delete:\n",
    "            print(item)\n",
    "            clustering.pop(item)\n",
    "            self.pop(item)\n",
    "        print(\"number of items deleted\",-len(clustering)+len_b)\n",
    "        print(\"\\n\")"
   ],
   "metadata": {
    "collapsed": false,
    "pycharm": {
     "name": "#%%\n"
    }
   }
  },
  {
   "cell_type": "code",
   "execution_count": 22,
   "outputs": [
    {
     "data": {
      "text/plain": "5"
     },
     "execution_count": 22,
     "metadata": {},
     "output_type": "execute_result"
    }
   ],
   "source": [
    "cluster_counts.shape[0]"
   ],
   "metadata": {
    "collapsed": false,
    "pycharm": {
     "name": "#%%\n"
    }
   }
  }
 ],
 "metadata": {
  "kernelspec": {
   "display_name": "Python 3",
   "language": "python",
   "name": "python3"
  },
  "language_info": {
   "codemirror_mode": {
    "name": "ipython",
    "version": 2
   },
   "file_extension": ".py",
   "mimetype": "text/x-python",
   "name": "python",
   "nbconvert_exporter": "python",
   "pygments_lexer": "ipython2",
   "version": "2.7.6"
  }
 },
 "nbformat": 4,
 "nbformat_minor": 0
}