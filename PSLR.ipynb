{
 "cells": [
  {
   "cell_type": "code",
   "execution_count": 1,
   "metadata": {
    "collapsed": true
   },
   "outputs": [],
   "source": [
    "from sklearn.cross_decomposition import PLSRegression\n",
    "from sklearn.metrics import mean_squared_error, r2_score\n",
    "from sklearn.model_selection import cross_val_predict\n",
    "from sklearn.linear_model import Lasso\n",
    "import pandas as pd\n",
    "import numpy as np"
   ]
  },
  {
   "cell_type": "code",
   "execution_count": 2,
   "outputs": [
    {
     "name": "stdout",
     "output_type": "stream",
     "text": [
      "         0        1         2\n",
      "0  1.27916  4.05708  0.315290\n",
      "1  1.19405  4.53682  0.263190\n",
      "2  1.54567  2.59172  0.596386\n",
      "3  1.98992  1.95200  1.019430\n",
      "4  1.34703  1.11185  1.211530\n"
     ]
    }
   ],
   "source": [
    "data = pd.read_csv('f1_train.txt', header=None, sep=' ')\n",
    "print(data.head())\n",
    "train_ind = int(data.shape[0]*0.8)\n",
    "\n",
    "data = data.to_numpy()\n",
    "X_train = data[:train_ind,:-1]\n",
    "X_test = data[train_ind:,:-1]\n",
    "y_train = data[:train_ind,-1]\n",
    "y_test = data[train_ind:, -1]"
   ],
   "metadata": {
    "collapsed": false,
    "pycharm": {
     "name": "#%%\n"
    }
   }
  },
  {
   "cell_type": "code",
   "execution_count": 3,
   "outputs": [],
   "source": [
    "data_extrap1 = pd.read_csv('f1_1_extrap_1.txt', header=None, sep=' ')\n",
    "data_extrap1 = data_extrap1.to_numpy()\n",
    "X_extrap1 = data_extrap1[:,:-1]\n",
    "y_extrap1 = data_extrap1[:,-1]"
   ],
   "metadata": {
    "collapsed": false,
    "pycharm": {
     "name": "#%%\n"
    }
   }
  },
  {
   "cell_type": "code",
   "execution_count": 13,
   "outputs": [],
   "source": [
    "# Define PLS object\n",
    "pls = PLSRegression(n_components=2)\n",
    "\n",
    "# Fit\n",
    "pls.fit(X_train, y_train)\n",
    "\n",
    "# Cross-validation\n",
    "y_cv = cross_val_predict(pls, X_test, y_test, cv=10)\n",
    "\n",
    "# Calculate scores\n",
    "score = r2_score(y_test, y_cv)\n",
    "mse = mean_squared_error(y_test, y_cv)"
   ],
   "metadata": {
    "collapsed": false,
    "pycharm": {
     "name": "#%%\n"
    }
   }
  },
  {
   "cell_type": "code",
   "execution_count": 14,
   "outputs": [
    {
     "data": {
      "text/plain": "0.7885810362140919"
     },
     "execution_count": 14,
     "metadata": {},
     "output_type": "execute_result"
    }
   ],
   "source": [
    "score"
   ],
   "metadata": {
    "collapsed": false,
    "pycharm": {
     "name": "#%%\n"
    }
   }
  },
  {
   "cell_type": "code",
   "execution_count": 15,
   "outputs": [
    {
     "data": {
      "text/plain": "0.18894594367497786"
     },
     "execution_count": 15,
     "metadata": {},
     "output_type": "execute_result"
    }
   ],
   "source": [
    "mse"
   ],
   "metadata": {
    "collapsed": false,
    "pycharm": {
     "name": "#%%\n"
    }
   }
  },
  {
   "cell_type": "code",
   "execution_count": 20,
   "outputs": [
    {
     "name": "stdout",
     "output_type": "stream",
     "text": [
      "0.9996245320317332\n",
      "1.9358292119367083e-05\n"
     ]
    }
   ],
   "source": [
    "y_cv_e1 = cross_val_predict(pls, X_extrap1, y_extrap1, cv=10)\n",
    "score = r2_score(y_extrap1, y_cv_e1)\n",
    "mse = mean_squared_error(y_extrap1, y_cv_e1)\n",
    "print(score)\n",
    "print(mse)"
   ],
   "metadata": {
    "collapsed": false,
    "pycharm": {
     "name": "#%%\n"
    }
   }
  },
  {
   "cell_type": "code",
   "execution_count": null,
   "outputs": [],
   "source": [
    "data = pd.read_csv('f2_train.txt', header=None, sep=' ')\n",
    "print(data.head())\n",
    "train_ind = int(data.shape[0]*0.8)\n",
    "\n",
    "data = data.to_numpy()\n",
    "X_train = data[:train_ind,:-1]\n",
    "X_test = data[train_ind:,:-1]\n",
    "y_train = data[:train_ind,-1]\n",
    "y_test = data[train_ind:, -1]\n",
    "# Define PLS object\n",
    "pls = PLSRegression(n_components=2)\n",
    "\n",
    "# Fit\n",
    "pls.fit(X_train, y_train)\n",
    "\n",
    "# Cross-validation\n",
    "y_cv = cross_val_predict(pls, X_test, y_test, cv=10)\n",
    "\n",
    "# Calculate scores\n",
    "score = r2_score(y_test, y_cv)\n",
    "mse = mean_squared_error(y_test, y_cv)\n",
    "print(\"Test set\")\n",
    "print(score)\n",
    "print(mse)\n",
    "data_extrap1 = pd.read_csv('f2_2_extrap.txt', header=None, sep=' ')\n",
    "data_extrap1 = data_extrap1.to_numpy()\n",
    "X_extrap1 = data_extrap1[:,:-1]\n",
    "y_extrap1 = data_extrap1[:,-1]\n",
    "y_cv_e1 = cross_val_predict(pls, X_extrap1, y_extrap1, cv=10)\n",
    "score = r2_score(y_extrap1, y_cv_e1)\n",
    "mse = mean_squared_error(y_extrap1, y_cv_e1)\n",
    "print(\"Extrap 1\")\n",
    "print(score)\n",
    "print(mse)\n",
    "data_extrap1 = pd.read_csv('f2_4_extrap.txt', header=None, sep=' ')\n",
    "data_extrap1 = data_extrap1.to_numpy()\n",
    "X_extrap1 = data_extrap1[:,:-1]\n",
    "y_extrap1 = data_extrap1[:,-1]\n",
    "y_cv_e1 = cross_val_predict(pls, X_extrap1, y_extrap1, cv=10)\n",
    "score = r2_score(y_extrap1, y_cv_e1)\n",
    "mse = mean_squared_error(y_extrap1, y_cv_e1)\n",
    "print(\"Extrap 2\")\n",
    "print(score)\n",
    "print(mse)"
   ],
   "metadata": {
    "collapsed": false,
    "pycharm": {
     "name": "#%%\n"
    }
   }
  },
  {
   "cell_type": "code",
   "execution_count": null,
   "outputs": [],
   "source": [
    "# Problem, number of dimensions considered instead of number of independent dimensions.\n",
    "# This will make f=ma dimensionless using the independent dimensions M and LS^(-2)"
   ],
   "metadata": {
    "collapsed": false,
    "pycharm": {
     "name": "#%%\n"
    }
   }
  },
  {
   "cell_type": "code",
   "execution_count": 15,
   "outputs": [
    {
     "name": "stderr",
     "output_type": "stream",
     "text": [
      "/Users/yash/Documents/MISCADA_project/venv/lib/python3.11/site-packages/sklearn/linear_model/_coordinate_descent.py:617: UserWarning: Coordinate descent without L1 regularization may lead to unexpected results and is discouraged. Set l1_ratio > 0 to add L1 regularization.\n",
      "  model = cd_fast.enet_coordinate_descent_gram(\n",
      "/Users/yash/Documents/MISCADA_project/venv/lib/python3.11/site-packages/sklearn/linear_model/_coordinate_descent.py:617: UserWarning: Coordinate descent without L1 regularization may lead to unexpected results and is discouraged. Set l1_ratio > 0 to add L1 regularization.\n",
      "  model = cd_fast.enet_coordinate_descent_gram(\n",
      "/Users/yash/Documents/MISCADA_project/venv/lib/python3.11/site-packages/sklearn/linear_model/_coordinate_descent.py:617: ConvergenceWarning: Objective did not converge. You might want to increase the number of iterations. Duality gap: 11.124670339419197, tolerance: 0.013361454969991204\n",
      "  model = cd_fast.enet_coordinate_descent_gram(\n",
      "/Users/yash/Documents/MISCADA_project/venv/lib/python3.11/site-packages/sklearn/linear_model/_coordinate_descent.py:617: UserWarning: Coordinate descent without L1 regularization may lead to unexpected results and is discouraged. Set l1_ratio > 0 to add L1 regularization.\n",
      "  model = cd_fast.enet_coordinate_descent_gram(\n",
      "/Users/yash/Documents/MISCADA_project/venv/lib/python3.11/site-packages/sklearn/linear_model/_coordinate_descent.py:617: UserWarning: Coordinate descent without L1 regularization may lead to unexpected results and is discouraged. Set l1_ratio > 0 to add L1 regularization.\n",
      "  model = cd_fast.enet_coordinate_descent_gram(\n",
      "/Users/yash/Documents/MISCADA_project/venv/lib/python3.11/site-packages/sklearn/linear_model/_coordinate_descent.py:617: UserWarning: Coordinate descent without L1 regularization may lead to unexpected results and is discouraged. Set l1_ratio > 0 to add L1 regularization.\n",
      "  model = cd_fast.enet_coordinate_descent_gram(\n",
      "/Users/yash/Documents/MISCADA_project/venv/lib/python3.11/site-packages/sklearn/linear_model/_coordinate_descent.py:617: UserWarning: Coordinate descent without L1 regularization may lead to unexpected results and is discouraged. Set l1_ratio > 0 to add L1 regularization.\n",
      "  model = cd_fast.enet_coordinate_descent_gram(\n",
      "/Users/yash/Documents/MISCADA_project/venv/lib/python3.11/site-packages/sklearn/linear_model/_coordinate_descent.py:617: ConvergenceWarning: Objective did not converge. You might want to increase the number of iterations. Duality gap: 11.706874048157516, tolerance: 0.013981881601232716\n",
      "  model = cd_fast.enet_coordinate_descent_gram(\n",
      "/Users/yash/Documents/MISCADA_project/venv/lib/python3.11/site-packages/sklearn/linear_model/_coordinate_descent.py:617: UserWarning: Coordinate descent without L1 regularization may lead to unexpected results and is discouraged. Set l1_ratio > 0 to add L1 regularization.\n",
      "  model = cd_fast.enet_coordinate_descent_gram(\n",
      "/Users/yash/Documents/MISCADA_project/venv/lib/python3.11/site-packages/sklearn/linear_model/_coordinate_descent.py:617: UserWarning: Coordinate descent without L1 regularization may lead to unexpected results and is discouraged. Set l1_ratio > 0 to add L1 regularization.\n",
      "  model = cd_fast.enet_coordinate_descent_gram(\n",
      "/Users/yash/Documents/MISCADA_project/venv/lib/python3.11/site-packages/sklearn/linear_model/_coordinate_descent.py:617: UserWarning: Coordinate descent without L1 regularization may lead to unexpected results and is discouraged. Set l1_ratio > 0 to add L1 regularization.\n",
      "  model = cd_fast.enet_coordinate_descent_gram(\n",
      "/Users/yash/Documents/MISCADA_project/venv/lib/python3.11/site-packages/sklearn/linear_model/_coordinate_descent.py:617: UserWarning: Coordinate descent without L1 regularization may lead to unexpected results and is discouraged. Set l1_ratio > 0 to add L1 regularization.\n",
      "  model = cd_fast.enet_coordinate_descent_gram(\n",
      "/Users/yash/Documents/MISCADA_project/venv/lib/python3.11/site-packages/sklearn/linear_model/_coordinate_descent.py:617: ConvergenceWarning: Objective did not converge. You might want to increase the number of iterations. Duality gap: 11.062657704068982, tolerance: 0.013498483000422582\n",
      "  model = cd_fast.enet_coordinate_descent_gram(\n",
      "/Users/yash/Documents/MISCADA_project/venv/lib/python3.11/site-packages/sklearn/linear_model/_coordinate_descent.py:617: UserWarning: Coordinate descent without L1 regularization may lead to unexpected results and is discouraged. Set l1_ratio > 0 to add L1 regularization.\n",
      "  model = cd_fast.enet_coordinate_descent_gram(\n",
      "/Users/yash/Documents/MISCADA_project/venv/lib/python3.11/site-packages/sklearn/linear_model/_coordinate_descent.py:617: UserWarning: Coordinate descent without L1 regularization may lead to unexpected results and is discouraged. Set l1_ratio > 0 to add L1 regularization.\n",
      "  model = cd_fast.enet_coordinate_descent_gram(\n",
      "/Users/yash/Documents/MISCADA_project/venv/lib/python3.11/site-packages/sklearn/linear_model/_coordinate_descent.py:617: UserWarning: Coordinate descent without L1 regularization may lead to unexpected results and is discouraged. Set l1_ratio > 0 to add L1 regularization.\n",
      "  model = cd_fast.enet_coordinate_descent_gram(\n",
      "/Users/yash/Documents/MISCADA_project/venv/lib/python3.11/site-packages/sklearn/linear_model/_coordinate_descent.py:617: UserWarning: Coordinate descent without L1 regularization may lead to unexpected results and is discouraged. Set l1_ratio > 0 to add L1 regularization.\n",
      "  model = cd_fast.enet_coordinate_descent_gram(\n",
      "/Users/yash/Documents/MISCADA_project/venv/lib/python3.11/site-packages/sklearn/linear_model/_coordinate_descent.py:617: ConvergenceWarning: Objective did not converge. You might want to increase the number of iterations. Duality gap: 11.060784599941613, tolerance: 0.01361973912226022\n",
      "  model = cd_fast.enet_coordinate_descent_gram(\n",
      "/Users/yash/Documents/MISCADA_project/venv/lib/python3.11/site-packages/sklearn/linear_model/_coordinate_descent.py:617: UserWarning: Coordinate descent without L1 regularization may lead to unexpected results and is discouraged. Set l1_ratio > 0 to add L1 regularization.\n",
      "  model = cd_fast.enet_coordinate_descent_gram(\n",
      "/Users/yash/Documents/MISCADA_project/venv/lib/python3.11/site-packages/sklearn/linear_model/_coordinate_descent.py:617: UserWarning: Coordinate descent without L1 regularization may lead to unexpected results and is discouraged. Set l1_ratio > 0 to add L1 regularization.\n",
      "  model = cd_fast.enet_coordinate_descent_gram(\n",
      "/Users/yash/Documents/MISCADA_project/venv/lib/python3.11/site-packages/sklearn/linear_model/_coordinate_descent.py:617: ConvergenceWarning: Objective did not converge. You might want to increase the number of iterations. Duality gap: 11.190087725719152, tolerance: 0.013512785300237836\n",
      "  model = cd_fast.enet_coordinate_descent_gram(\n"
     ]
    },
    {
     "name": "stdout",
     "output_type": "stream",
     "text": [
      "0.0\n"
     ]
    },
    {
     "name": "stderr",
     "output_type": "stream",
     "text": [
      "/Users/yash/Documents/MISCADA_project/venv/lib/python3.11/site-packages/sklearn/linear_model/_coordinate_descent.py:617: UserWarning: Coordinate descent without L1 regularization may lead to unexpected results and is discouraged. Set l1_ratio > 0 to add L1 regularization.\n",
      "  model = cd_fast.enet_coordinate_descent_gram(\n",
      "/Users/yash/Documents/MISCADA_project/venv/lib/python3.11/site-packages/sklearn/linear_model/_coordinate_descent.py:617: UserWarning: Coordinate descent without L1 regularization may lead to unexpected results and is discouraged. Set l1_ratio > 0 to add L1 regularization.\n",
      "  model = cd_fast.enet_coordinate_descent_gram(\n",
      "/Users/yash/Documents/MISCADA_project/venv/lib/python3.11/site-packages/sklearn/linear_model/_coordinate_descent.py:617: UserWarning: Coordinate descent without L1 regularization may lead to unexpected results and is discouraged. Set l1_ratio > 0 to add L1 regularization.\n",
      "  model = cd_fast.enet_coordinate_descent_gram(\n",
      "/Users/yash/Documents/MISCADA_project/venv/lib/python3.11/site-packages/sklearn/linear_model/_coordinate_descent.py:617: UserWarning: Coordinate descent without L1 regularization may lead to unexpected results and is discouraged. Set l1_ratio > 0 to add L1 regularization.\n",
      "  model = cd_fast.enet_coordinate_descent_gram(\n",
      "/Users/yash/Documents/MISCADA_project/venv/lib/python3.11/site-packages/sklearn/linear_model/_coordinate_descent.py:617: ConvergenceWarning: Objective did not converge. You might want to increase the number of iterations. Duality gap: 11.38874209557008, tolerance: 0.014018523155195525\n",
      "  model = cd_fast.enet_coordinate_descent_gram(\n",
      "/Users/yash/Documents/MISCADA_project/venv/lib/python3.11/site-packages/sklearn/linear_model/_coordinate_descent.py:617: UserWarning: Coordinate descent without L1 regularization may lead to unexpected results and is discouraged. Set l1_ratio > 0 to add L1 regularization.\n",
      "  model = cd_fast.enet_coordinate_descent_gram(\n",
      "/Users/yash/Documents/MISCADA_project/venv/lib/python3.11/site-packages/sklearn/linear_model/_coordinate_descent.py:617: UserWarning: Coordinate descent without L1 regularization may lead to unexpected results and is discouraged. Set l1_ratio > 0 to add L1 regularization.\n",
      "  model = cd_fast.enet_coordinate_descent_gram(\n",
      "/Users/yash/Documents/MISCADA_project/venv/lib/python3.11/site-packages/sklearn/linear_model/_coordinate_descent.py:617: UserWarning: Coordinate descent without L1 regularization may lead to unexpected results and is discouraged. Set l1_ratio > 0 to add L1 regularization.\n",
      "  model = cd_fast.enet_coordinate_descent_gram(\n",
      "/Users/yash/Documents/MISCADA_project/venv/lib/python3.11/site-packages/sklearn/linear_model/_coordinate_descent.py:617: UserWarning: Coordinate descent without L1 regularization may lead to unexpected results and is discouraged. Set l1_ratio > 0 to add L1 regularization.\n",
      "  model = cd_fast.enet_coordinate_descent_gram(\n",
      "/Users/yash/Documents/MISCADA_project/venv/lib/python3.11/site-packages/sklearn/linear_model/_coordinate_descent.py:617: UserWarning: Coordinate descent without L1 regularization may lead to unexpected results and is discouraged. Set l1_ratio > 0 to add L1 regularization.\n",
      "  model = cd_fast.enet_coordinate_descent_gram(\n",
      "/Users/yash/Documents/MISCADA_project/venv/lib/python3.11/site-packages/sklearn/linear_model/_coordinate_descent.py:617: UserWarning: Coordinate descent without L1 regularization may lead to unexpected results and is discouraged. Set l1_ratio > 0 to add L1 regularization.\n",
      "  model = cd_fast.enet_coordinate_descent_gram(\n",
      "/Users/yash/Documents/MISCADA_project/venv/lib/python3.11/site-packages/sklearn/linear_model/_coordinate_descent.py:617: UserWarning: Coordinate descent without L1 regularization may lead to unexpected results and is discouraged. Set l1_ratio > 0 to add L1 regularization.\n",
      "  model = cd_fast.enet_coordinate_descent_gram(\n",
      "/Users/yash/Documents/MISCADA_project/venv/lib/python3.11/site-packages/sklearn/linear_model/_coordinate_descent.py:617: UserWarning: Coordinate descent without L1 regularization may lead to unexpected results and is discouraged. Set l1_ratio > 0 to add L1 regularization.\n",
      "  model = cd_fast.enet_coordinate_descent_gram(\n",
      "/Users/yash/Documents/MISCADA_project/venv/lib/python3.11/site-packages/sklearn/linear_model/_coordinate_descent.py:617: UserWarning: Coordinate descent without L1 regularization may lead to unexpected results and is discouraged. Set l1_ratio > 0 to add L1 regularization.\n",
      "  model = cd_fast.enet_coordinate_descent_gram(\n",
      "/Users/yash/Documents/MISCADA_project/venv/lib/python3.11/site-packages/sklearn/linear_model/_coordinate_descent.py:617: UserWarning: Coordinate descent without L1 regularization may lead to unexpected results and is discouraged. Set l1_ratio > 0 to add L1 regularization.\n",
      "  model = cd_fast.enet_coordinate_descent_gram(\n",
      "/Users/yash/Documents/MISCADA_project/venv/lib/python3.11/site-packages/sklearn/linear_model/_coordinate_descent.py:1712: UserWarning: With alpha=0, this algorithm does not converge well. You are advised to use the LinearRegression estimator\n",
      "  model.fit(X, y)\n",
      "/Users/yash/Documents/MISCADA_project/venv/lib/python3.11/site-packages/sklearn/linear_model/_coordinate_descent.py:631: UserWarning: Coordinate descent with no regularization may lead to unexpected results and is discouraged.\n",
      "  model = cd_fast.enet_coordinate_descent(\n",
      "/Users/yash/Documents/MISCADA_project/venv/lib/python3.11/site-packages/sklearn/linear_model/_coordinate_descent.py:631: ConvergenceWarning: Objective did not converge. You might want to increase the number of iterations, check the scale of the features or consider increasing regularisation. Duality gap: 1.222e+01, tolerance: 1.466e-02 Linear regression models with null weight for the l1 regularization term are more efficiently fitted using one of the solvers implemented in sklearn.linear_model.Ridge/RidgeCV instead.\n",
      "  model = cd_fast.enet_coordinate_descent(\n"
     ]
    }
   ],
   "source": [
    "from sklearn.linear_model import LassoCV\n",
    "from sklearn.model_selection import RepeatedKFold\n",
    "\n",
    "cv = RepeatedKFold(n_splits=10, n_repeats=3, random_state=1)\n",
    "\n",
    "#define model\n",
    "model = LassoCV(alphas=np.arange(0, 1, 0.01), cv=cv, n_jobs=-1)\n",
    "\n",
    "#fit model\n",
    "model.fit(X_train, y_train)\n",
    "\n",
    "#display lambda that produced the lowest test MSE\n",
    "print(model.alpha_)"
   ],
   "metadata": {
    "collapsed": false,
    "pycharm": {
     "name": "#%%\n"
    }
   }
  },
  {
   "cell_type": "code",
   "execution_count": 16,
   "outputs": [
    {
     "name": "stdout",
     "output_type": "stream",
     "text": [
      "0.8212815249421942\n",
      "0.15972139072701708\n"
     ]
    }
   ],
   "source": [
    "y_pred = model.predict(X_test)\n",
    "score = r2_score(y_test, y_pred)\n",
    "mse = mean_squared_error(y_test, y_pred)\n",
    "print(score)\n",
    "print(mse)"
   ],
   "metadata": {
    "collapsed": false,
    "pycharm": {
     "name": "#%%\n"
    }
   }
  },
  {
   "cell_type": "code",
   "execution_count": 8,
   "outputs": [
    {
     "name": "stdout",
     "output_type": "stream",
     "text": [
      "[ 0.  0. -0.  0. -0.  0.  0. -0. -0. -0. -0. -0. -0.  0. -0. -0. -0. -0.\n",
      " -0.  0.  0.  0. -0. -0.] 0.47368691333333335\n"
     ]
    }
   ],
   "source": [
    "data = pd.read_csv('Test_Data_Final/pg_data/pg_train.txt', header=None, sep=' ').to_numpy()\n",
    "X_train = data[:,:-1]\n",
    "y_train = data[:,-1]\n",
    "lasso_mod = Lasso(fit_intercept=True)\n",
    "lasso_mod.fit(X_train,y_train)\n",
    "print(lasso_mod.coef_,lasso_mod.intercept_)"
   ],
   "metadata": {
    "collapsed": false,
    "pycharm": {
     "name": "#%%\n"
    }
   }
  }
 ],
 "metadata": {
  "kernelspec": {
   "display_name": "Python 3",
   "language": "python",
   "name": "python3"
  },
  "language_info": {
   "codemirror_mode": {
    "name": "ipython",
    "version": 2
   },
   "file_extension": ".py",
   "mimetype": "text/x-python",
   "name": "python",
   "nbconvert_exporter": "python",
   "pygments_lexer": "ipython2",
   "version": "2.7.6"
  }
 },
 "nbformat": 4,
 "nbformat_minor": 0
}